{
  "nbformat": 4,
  "nbformat_minor": 0,
  "metadata": {
    "colab": {
      "name": "Writing_Efficient_Code_in_Python",
      "provenance": [],
      "collapsed_sections": []
    },
    "kernelspec": {
      "name": "python3",
      "display_name": "Python 3"
    },
    "language_info": {
      "name": "python"
    }
  },
  "cells": [
    {
      "cell_type": "code",
      "metadata": {
        "colab": {
          "base_uri": "https://localhost:8080/"
        },
        "id": "ZacmGpbJVvm6",
        "outputId": "2fd0f275-55d3-4ee6-f3d4-38b636198adb"
      },
      "source": [
        "from time import time\n",
        "\n",
        "names = ['Jerry', 'Kramer', 'Elaine', 'George', 'Newman']\n",
        "# Print the list created using the Non-Pythonic approach\n",
        "start = time()\n",
        "i = 0\n",
        "new_list= []\n",
        "while i < len(names):\n",
        "    if len(names[i]) >= 6:\n",
        "        new_list.append(names[i])\n",
        "    i += 1\n",
        "print(new_list, \"Time spent = \", (time()-start)*10**6, \" microseconds.\")\n",
        "\n",
        "\n",
        "# Print the list created by looping over the contents of names\n",
        "start = time()\n",
        "better_list = []\n",
        "for name in names:\n",
        "    if len(name) >= 6:\n",
        "        better_list.append(name)\n",
        "print(better_list, \"Time spent = \", (time()-start)*10**6, \" microseconds.\")\n",
        "\n",
        "# Print the list created by using list comprehension\n",
        "start = time()\n",
        "best_list = [name for name in names if len(name) >= 6]\n",
        "print(best_list, \"Time spent = \", (time()-start)*10**6, \" microseconds.\")"
      ],
      "execution_count": null,
      "outputs": [
        {
          "output_type": "stream",
          "text": [
            "['Kramer', 'Elaine', 'George', 'Newman'] Time spent =  827.0740509033203  microseconds.\n",
            "['Kramer', 'Elaine', 'George', 'Newman'] Time spent =  245.57113647460938  microseconds.\n",
            "['Kramer', 'Elaine', 'George', 'Newman'] Time spent =  388.14544677734375  microseconds.\n"
          ],
          "name": "stdout"
        }
      ]
    },
    {
      "cell_type": "code",
      "metadata": {
        "colab": {
          "base_uri": "https://localhost:8080/"
        },
        "id": "_ZE1lgMcdZgT",
        "outputId": "3ddba962-f7a5-4d6c-edd3-c4ff1778af9f"
      },
      "source": [
        "  # Create a range object that goes from 0 to 5\n",
        "nums = range(6)\n",
        "print(type(nums))\n",
        "\n",
        "# มีวิธีเปลี่ยน range object เป็น list ได้ 2 วิธีคือ ใช้ list() หรือใช้เครื่องหมาย *\n",
        "\n",
        "# Convert nums to a list\n",
        "nums_list = list(nums)\n",
        "print(nums_list)\n",
        "\n",
        "# Create a new list of odd numbers from 1 to 11 by unpacking a range object\n",
        "nums_list2 = [*range(1,12,2)]\n",
        "print(nums_list2)"
      ],
      "execution_count": null,
      "outputs": [
        {
          "output_type": "stream",
          "text": [
            "<class 'range'>\n",
            "[0, 1, 2, 3, 4, 5]\n",
            "[1, 3, 5, 7, 9, 11]\n"
          ],
          "name": "stdout"
        }
      ]
    },
    {
      "cell_type": "code",
      "metadata": {
        "colab": {
          "base_uri": "https://localhost:8080/"
        },
        "id": "3dbOay3kr1aL",
        "outputId": "e9c3c8b4-a9ae-4576-e963-5a9633ac56dc"
      },
      "source": [
        "from time import time\n",
        "names = ['Jerry', 'Kramer', 'Elaine', 'George', 'Newman']\n",
        "\n",
        "# ถ้าเขียนในภาษาอื่น ก็อาจต้องเขียนแบบนี้\n",
        "start = time()\n",
        "indexed_names = []\n",
        "for i in range(len(names)):\n",
        "    index_name = (i, names[i])\n",
        "    indexed_names.append(index_name)\n",
        "\n",
        "print(indexed_names,  \"Time spent = \", (time()-start)*10**6, \" microseconds.\")\n",
        "\n",
        "start = time()\n",
        "# Rewrite the for loop to use enumerate\n",
        "indexed_names = []\n",
        "for i, name in enumerate(names):\n",
        "    index_name = (i,name)\n",
        "    indexed_names.append(index_name) \n",
        "print(indexed_names,  \"Time spent = \", (time()-start)*10**6, \" microseconds.\")\n",
        "\n",
        "start = time()\n",
        "# Rewrite the above for loop using list comprehension\n",
        "indexed_names_comp = [(i, name) for i,name in enumerate(names)]\n",
        "print(indexed_names_comp, \"Time spent = \", (time()-start)*10**6, \" microseconds.\")\n",
        "\n",
        "start = time()\n",
        "# Unpack an enumerate object with a starting index of one\n",
        "indexed_names_unpack = [*enumerate(names, start=1)]\n",
        "print(indexed_names_unpack,  \"Time spent = \", (time()-start)*10**6, \" microseconds.\")"
      ],
      "execution_count": null,
      "outputs": [
        {
          "output_type": "stream",
          "text": [
            "[(0, 'Jerry'), (1, 'Kramer'), (2, 'Elaine'), (3, 'George'), (4, 'Newman')] Time spent =  134.46807861328125  microseconds.\n",
            "[(0, 'Jerry'), (1, 'Kramer'), (2, 'Elaine'), (3, 'George'), (4, 'Newman')] Time spent =  95.367431640625  microseconds.\n",
            "[(0, 'Jerry'), (1, 'Kramer'), (2, 'Elaine'), (3, 'George'), (4, 'Newman')] Time spent =  89.6453857421875  microseconds.\n",
            "[(1, 'Jerry'), (2, 'Kramer'), (3, 'Elaine'), (4, 'George'), (5, 'Newman')] Time spent =  99.18212890625  microseconds.\n"
          ],
          "name": "stdout"
        }
      ]
    },
    {
      "cell_type": "code",
      "metadata": {
        "colab": {
          "base_uri": "https://localhost:8080/"
        },
        "id": "ffJXmuFxtKJv",
        "outputId": "51163f6a-dc6a-4a7a-acc2-95ac2fec8132"
      },
      "source": [
        "from time import time\n",
        "names = ['Jerry', 'Kramer', 'Elaine', 'George', 'Newman']\n",
        "\n",
        "\n",
        "start = time()\n",
        "names_uppercase = []\n",
        "\n",
        "for name in names:\n",
        "    names_uppercase.append(name.upper())\n",
        "\n",
        "print(names_uppercase,  \"Time spent = \", (time()-start)*10**6, \" microseconds.\")\n",
        "\n",
        "# Using the map() function and the method str.upper() to do this more efficiently in one line of code\n",
        "names_map  = map(str.upper, names)\n",
        "\n",
        "start = time()\n",
        "# Unpack names_map into a list\n",
        "names_uppercase = [*names_map]\n",
        "\n",
        "print(names_uppercase,  \"Time spent = \", (time()-start)*10**6, \" microseconds.\")\n"
      ],
      "execution_count": null,
      "outputs": [
        {
          "output_type": "stream",
          "text": [
            "['JERRY', 'KRAMER', 'ELAINE', 'GEORGE', 'NEWMAN'] Time spent =  78.67813110351562  microseconds.\n",
            "['JERRY', 'KRAMER', 'ELAINE', 'GEORGE', 'NEWMAN'] Time spent =  74.62501525878906  microseconds.\n"
          ],
          "name": "stdout"
        }
      ]
    },
    {
      "cell_type": "code",
      "metadata": {
        "colab": {
          "base_uri": "https://localhost:8080/"
        },
        "id": "VkfYLg6wv3my",
        "outputId": "4e478816-0788-49b5-bdba-91754cb76657"
      },
      "source": [
        "from numpy import array\n",
        "\n",
        "nums = array([[ 1,  2,  3,  4,  5], [ 6,  7,  8,  9, 10]])\n",
        "\n",
        "# Print second row of nums\n",
        "print(nums[1,:])\n",
        "\n",
        "# Print all elements of nums that are greater than six\n",
        "print(nums[nums > 6])\n",
        "\n",
        "# Double every element of nums\n",
        "nums_dbl = 2*nums\n",
        "print(nums_dbl)\n",
        "\n",
        "# Replace the third column of nums\n",
        "nums[:, 2] = nums[:, 2] + 1\n",
        "print(nums)"
      ],
      "execution_count": null,
      "outputs": [
        {
          "output_type": "stream",
          "text": [
            "[ 6  7  8  9 10]\n",
            "[ 7  8  9 10]\n",
            "[[ 2  4  6  8 10]\n",
            " [12 14 16 18 20]]\n",
            "[[ 1  2  4  4  5]\n",
            " [ 6  7  9  9 10]]\n"
          ],
          "name": "stdout"
        }
      ]
    },
    {
      "cell_type": "code",
      "metadata": {
        "colab": {
          "base_uri": "https://localhost:8080/"
        },
        "id": "blia1HhnyP5y",
        "outputId": "9faff858-c666-4043-d505-c946363feb6b"
      },
      "source": [
        "import numpy as np\n",
        "names = ['Jerry', 'Kramer', 'Elaine', 'George', 'Newman']\n",
        "\n",
        "# เตรียมฟังก์ชันให้เหมือนโจทย์\n",
        "welcome_guest = lambda guests: f\"Welcome to Festivus {guests[0]}... You're {guests[1]} min late.\"\n",
        "\n",
        "# Create a list of arrival times\n",
        "arrival_times = [*range(10,60,10)]\n",
        "\n",
        "# Convert arrival_times to an array and update the times เพราะนาฬิกาเร็วไป 3 นาที\n",
        "arrival_times_np = np.array(arrival_times)\n",
        "new_times = arrival_times_np - 3\n",
        "\n",
        "# Use list comprehension and enumerate to pair guests to new times\n",
        "guest_arrivals = [(names[i],time) for i,time in enumerate(new_times)]\n",
        "\n",
        "# Map the welcome_guest function to each (guest,time) pair\n",
        "welcome_map = map(welcome_guest, guest_arrivals)\n",
        "\n",
        "guest_welcomes = [*welcome_map]\n",
        "print(*guest_welcomes, sep='\\n')"
      ],
      "execution_count": null,
      "outputs": [
        {
          "output_type": "stream",
          "text": [
            "Welcome to Festivus Jerry... You're 7 min late.\n",
            "Welcome to Festivus Kramer... You're 17 min late.\n",
            "Welcome to Festivus Elaine... You're 27 min late.\n",
            "Welcome to Festivus George... You're 37 min late.\n",
            "Welcome to Festivus Newman... You're 47 min late.\n"
          ],
          "name": "stdout"
        }
      ]
    },
    {
      "cell_type": "code",
      "metadata": {
        "colab": {
          "base_uri": "https://localhost:8080/"
        },
        "id": "a14_GzxSy9vE",
        "outputId": "f9c2a570-d66c-4533-db8b-d72199e4fd84"
      },
      "source": [
        "# Create a list of integers (0-50) using list comprehension\n",
        "%timeit nums_list_comp = [num for num in range(51)]\n",
        "%timeit nums_unpack = [*(range(51))]\n"
      ],
      "execution_count": null,
      "outputs": [
        {
          "output_type": "stream",
          "text": [
            "1000000 loops, best of 5: 1.9 µs per loop\n",
            "1000000 loops, best of 5: 513 ns per loop\n"
          ],
          "name": "stdout"
        }
      ]
    },
    {
      "cell_type": "code",
      "metadata": {
        "colab": {
          "base_uri": "https://localhost:8080/"
        },
        "id": "8iJmd8dl2CMZ",
        "outputId": "c4b83b90-06fc-481d-e6e8-3a107bddf748"
      },
      "source": [
        "heroes = ['A-Bomb',  'Abe Sapien', 'Abin Sur', 'Abomination', 'Absorbing Man', 'Adam Strange', 'Agent 13', 'Agent Bob', 'Agent Zero', 'Air-Walker', 'Ajax', 'Alan Scott', 'Alfred Pennyworth', 'Alien', 'Amazo', 'Ammo', 'Angel', 'Angel Dust', 'Angel Salvadore', 'Animal Man', 'Annihilus', 'Ant-Man', 'Ant-Man II','Anti-Venom', 'Apocalypse', 'Aqualad', 'Aquaman', 'Arachne', 'Archangel', 'Arclight', 'Ardina', 'Ares', 'Ariel', 'Armor', 'Atlas', 'Atom', 'Atom Girl', 'Atom II', 'Aurora', 'Azazel', 'Bane', 'Banshee', 'Bantam', 'Batgirl', 'Batgirl IV', 'Batgirl VI', 'Batman', 'Batman II', 'Battlestar', 'Beak', 'Beast', 'Beast Boy', 'Beta Ray Bill', 'Big Barda', 'Big Man', 'Binary', 'Bishop', 'Bizarro', 'Black Adam', 'Black Bolt', 'Black Canary', 'Black Cat', 'Black Knight III', 'Black Lightning', 'Black Mamba', 'Black Manta', 'Black Panther', 'Black Widow', 'Black Widow II', 'Blackout', 'Blackwing', 'Blackwulf', 'Blade', 'Bling!', 'Blink', 'Blizzard II', 'Blob', 'Bloodaxe', 'Blue Beetle II', 'Boom-Boom', 'Booster Gold', 'Box III', 'Brainiac', 'Brainiac 5', 'Brother Voodoo', 'Buffy', 'Bullseye', 'Bumblebee', 'Cable', 'Callisto', 'Cannonball', 'Captain America', 'Captain Atom', 'Captain Britain', 'Captain Mar-vell', 'Captain Marvel', 'Captain Marvel II', 'Carnage', 'Cat', 'Catwoman', 'Cecilia Reyes', 'Century', 'Chamber', 'Changeling', 'Cheetah', 'Cheetah II', 'Cheetah III', 'Chromos', 'Citizen Steel', 'Cloak', 'Clock King', 'Colossus', 'Copycat', 'Corsair', 'Cottonmouth', 'Crimson Dynamo', 'Crystal', 'Cyborg', 'Cyclops', 'Cypher', 'Dagger', 'Daredevil','Darkhawk', 'Darkseid', 'Darkstar', 'Darth Vader', 'Dash', 'Dazzler',  'Deadman', 'Deadpool', 'Deadshot', 'Deathlok', 'Deathstroke', 'Demogoblin', 'Destroyer', 'Diamondback', 'Doc Samson', 'Doctor Doom', 'Doctor Doom II', 'Doctor Fate', 'Doctor Octopus', 'Doctor Strange', 'Domino', 'Donna Troy', 'Doomsday', 'Doppelganger', 'Drax the Destroyer', 'Elastigirl', 'Electro', 'Elektra', 'Elongated Man', 'Emma Frost', 'Enchantress', 'Etrigan','Evil Deadpool', 'Evilhawk', 'Exodus', 'Fabian Cortez', 'Falcon', 'Feral', 'Fin Fang Foom', 'Firebird', 'Firelord', 'Firestar', 'Firestorm', 'Flash', 'Flash II', 'Flash III', 'Flash IV', 'Forge', 'Franklin Richards', 'Franklin Storm', 'Frenzy', 'Frigga', 'Galactus', 'Gambit', 'Gamora', 'Genesis', 'Ghost Rider', 'Giganta', 'Gladiator', 'Goblin Queen', 'Goku', 'Goliath IV', 'Gorilla Grodd', 'Granny Goodness', 'Gravity', 'Green Arrow', 'Green Goblin', 'Green Goblin II', 'Green Goblin III', 'Green Goblin IV', 'Groot', 'Guy Gardner', 'Hal Jordan', 'Han Solo', 'Harley Quinn', 'Havok', 'Hawk', 'Hawkeye', 'Hawkeye II', 'Hawkgirl', 'Hawkman', 'Hawkwoman', 'Hawkwoman III', 'Heat Wave', 'Hela', 'Hellboy', 'Hellcat', 'Hellstorm', 'Hercules', 'Hobgoblin', 'Hope Summers', 'Howard the Duck', 'Hulk', 'Human Torch', 'Huntress', 'Husk', 'Hybrid', 'Hydro-Man', 'Hyperion', 'Iceman', 'Impulse', 'Ink', 'Invisible Woman', 'Iron Fist', 'Iron Man', 'Jack of Hearts', 'Jack-Jack', 'James T. Kirk', 'Jean Grey', 'Jennifer Kale', 'Jessica Jones', 'Jigsaw', 'John Stewart', 'John Wraith', 'Joker', 'Jolt', 'Jubilee', 'Juggernaut', 'Justice', 'Kang', 'Karate Kid', 'Killer Croc', 'Kilowog', 'Kingpin', 'Klaw', 'Kraven II', 'Kraven the Hunter', 'Krypto', 'Kyle Rayner', 'Lady Deathstrike', 'Leader', 'Legion', 'Lex Luthor', 'Light Lass', 'Lightning Lad', 'Lightning Lord', 'Living Brain', 'Lizard', 'Lobo', 'Loki', 'Longshot', 'Luke Cage', 'Luke Skywalker', 'Mach-IV', 'Machine Man', 'Magneto', 'Man-Thing', 'Man-Wolf', 'Mandarin', 'Mantis', 'Martian Manhunter', 'Marvel Girl', 'Master Brood', 'Maverick', 'Maxima', 'Medusa', 'Meltdown', 'Mephisto', 'Mera', 'Metallo', 'Metamorpho', 'Metron', 'Micro Lad', 'Mimic', 'Miss Martian', 'Mister Fantastic', 'Mister Freeze', 'Mister Sinister', 'Mockingbird', 'MODOK', 'Molten Man', 'Monarch', 'Moon Knight', 'Moonstone', 'Morlun', 'Morph', 'Moses Magnum', 'Mr Immortal', 'Mr Incredible', 'Ms Marvel II', 'Multiple Man', 'Mysterio', 'Mystique', 'Namor', 'Namora', 'Namorita', 'Naruto Uzumaki', 'Nebula', 'Nick Fury', 'Nightcrawler', 'Nightwing', 'Northstar', 'Nova', 'Odin', 'Omega Red', 'Omniscient', 'One Punch Man', 'Onslaught', 'Oracle', 'Paul Blart', 'Penance II', 'Penguin', 'Phantom Girl', 'Phoenix', 'Plantman', 'Plastic Man', 'Plastique', 'Poison Ivy', 'Polaris', 'Power Girl', 'Predator', 'Professor X', 'Professor Zoom', 'Psylocke', 'Punisher', 'Purple Man', 'Pyro', 'Question', 'Quicksilver', 'Quill', \"Ra's Al Ghul\", 'Raven', 'Ray', 'Razor-Fist II', 'Red Arrow', 'Red Hood', 'Red Hulk', 'Red Robin', 'Red Skull', 'Red Tornado', 'Rhino', 'Rick Flag', 'Ripcord', 'Robin', 'Robin II', 'Robin III', 'Robin V', 'Rocket Raccoon', 'Rogue', 'Ronin', 'Rorschach', 'Sabretooth', 'Sage', 'Sandman', 'Sasquatch', 'Scarecrow', 'Scarlet Spider', 'Scarlet Spider II', 'Scarlet Witch', 'Scorpion', 'Sentry', 'Shadow King', 'Shadow Lass', 'Shadowcat', 'Shang-Chi', 'Shatterstar', 'She-Hulk', 'She-Thing', 'Shocker', 'Shriek', 'Sif', 'Silver Surfer', 'Silverclaw', 'Sinestro', 'Siren', 'Siryn', 'Skaar', 'Snowbird', 'Solomon Grundy', 'Songbird', 'Space Ghost', 'Spawn', 'Spider-Girl', 'Spider-Gwen', 'Spider-Man', 'Spider-Woman', 'Spider-Woman III', 'Spider-Woman IV', 'Spock', 'Spyke', 'Star-Lord', 'Starfire', 'Stargirl', 'Static', 'Steel', 'Steppenwolf', 'Storm', 'Sunspot','Superboy', 'Superboy-Prime', 'Supergirl', 'Superman', 'Swarm', 'Synch', 'T-1000', 'Taskmaster', 'Tempest', 'Thanos', 'The Comedian', 'Thing', 'Thor', 'Thor Girl', 'Thunderbird', 'Thunderbird III', 'Thunderstrike', 'Thundra', 'Tiger Shark', 'Tigra', 'Tinkerer', 'Toad', 'Toxin', 'Trickster', 'Triplicate Girl', 'Triton', 'Two-Face', 'Ultragirl', 'Ultron', 'Utgard-Loki', 'Vagabond', 'Valerie Hart', 'Valkyrie', 'Vanisher', 'Vegeta', 'Venom', 'Venom II', 'Venom III', 'Vertigo II', 'Vibe', 'Vindicator', 'Violet Parr', 'Vision', 'Vision II', 'Vixen', 'Vulture', 'Walrus', 'War Machine', 'Warbird', 'Warlock', 'Warp', 'Warpath', 'Wasp', 'White Queen', 'Winter Soldier', 'Wiz Kid', 'Wolfsbane', 'Wolverine', 'Wonder Girl', 'Wonder Man', 'Wonder Woman', 'Wyatt Wingfoot', 'X-23', 'X-Man', 'Yellow Claw', 'Yellowjacket', 'Yellowjacket II', 'Yoda', 'Zatanna', 'Zoom']\n",
        "\n",
        "# Instead of relying on the default settings for %timeit, only use 5 runs and 25 loops per each run.\n",
        "%timeit -r5 -n25 set(heroes)"
      ],
      "execution_count": null,
      "outputs": [
        {
          "output_type": "stream",
          "text": [
            "25 loops, best of 5: 14.5 µs per loop\n"
          ],
          "name": "stdout"
        }
      ]
    },
    {
      "cell_type": "code",
      "metadata": {
        "colab": {
          "base_uri": "https://localhost:8080/"
        },
        "id": "CEFO4MIjYMqd",
        "outputId": "0b721809-939b-4cd1-d578-bf6f594a13bb"
      },
      "source": [
        "# Using Python's literal syntax to define a data structure can speed up your runtime. \n",
        "# Consider using the literal syntaxes \n",
        "# [] instead of list() \n",
        "# {} instead of dict()\n",
        "# () instead of tuple()\n",
        "\n",
        "%timeit formal_list = list()\n",
        "%timeit literal_list = []\n"
      ],
      "execution_count": null,
      "outputs": [
        {
          "output_type": "stream",
          "text": [
            "The slowest run took 12.01 times longer than the fastest. This could mean that an intermediate result is being cached.\n",
            "10000000 loops, best of 5: 88 ns per loop\n",
            "10000000 loops, best of 5: 27.8 ns per loop\n"
          ],
          "name": "stdout"
        }
      ]
    },
    {
      "cell_type": "code",
      "metadata": {
        "colab": {
          "base_uri": "https://localhost:8080/"
        },
        "id": "aViZG0NfYV3g",
        "outputId": "238482ab-ff61-4b29-bccc-542270b8fa7a"
      },
      "source": [
        "import numpy as np\n",
        "from time import time\n",
        "\n",
        "# %%timeit cannot be used.  Why?\n",
        "\n",
        "heroes = ['A-Bomb',  'Abe Sapien', 'Abin Sur', 'Abomination', 'Absorbing Man', 'Adam Strange', 'Agent 13', 'Agent Bob', 'Agent Zero', 'Air-Walker', 'Ajax', 'Alan Scott', 'Alfred Pennyworth', 'Alien', 'Amazo', 'Ammo', 'Angel', 'Angel Dust', 'Angel Salvadore', 'Animal Man', 'Annihilus', 'Ant-Man', 'Ant-Man II','Anti-Venom', 'Apocalypse', 'Aqualad', 'Aquaman', 'Arachne', 'Archangel', 'Arclight', 'Ardina', 'Ares', 'Ariel', 'Armor', 'Atlas', 'Atom', 'Atom Girl', 'Atom II', 'Aurora', 'Azazel', 'Bane', 'Banshee', 'Bantam', 'Batgirl', 'Batgirl IV', 'Batgirl VI', 'Batman', 'Batman II', 'Battlestar', 'Beak', 'Beast', 'Beast Boy', 'Beta Ray Bill', 'Big Barda', 'Big Man', 'Binary', 'Bishop', 'Bizarro', 'Black Adam', 'Black Bolt', 'Black Canary', 'Black Cat', 'Black Knight III', 'Black Lightning', 'Black Mamba', 'Black Manta', 'Black Panther', 'Black Widow', 'Black Widow II', 'Blackout', 'Blackwing', 'Blackwulf', 'Blade', 'Bling!', 'Blink', 'Blizzard II', 'Blob', 'Bloodaxe', 'Blue Beetle II', 'Boom-Boom', 'Booster Gold', 'Box III', 'Brainiac', 'Brainiac 5', 'Brother Voodoo', 'Buffy', 'Bullseye', 'Bumblebee', 'Cable', 'Callisto', 'Cannonball', 'Captain America', 'Captain Atom', 'Captain Britain', 'Captain Mar-vell', 'Captain Marvel', 'Captain Marvel II', 'Carnage', 'Cat', 'Catwoman', 'Cecilia Reyes', 'Century', 'Chamber', 'Changeling', 'Cheetah', 'Cheetah II', 'Cheetah III', 'Chromos', 'Citizen Steel', 'Cloak', 'Clock King', 'Colossus', 'Copycat', 'Corsair', 'Cottonmouth', 'Crimson Dynamo', 'Crystal', 'Cyborg', 'Cyclops', 'Cypher', 'Dagger', 'Daredevil','Darkhawk', 'Darkseid', 'Darkstar', 'Darth Vader', 'Dash', 'Dazzler',  'Deadman', 'Deadpool', 'Deadshot', 'Deathlok', 'Deathstroke', 'Demogoblin', 'Destroyer', 'Diamondback', 'Doc Samson', 'Doctor Doom', 'Doctor Doom II', 'Doctor Fate', 'Doctor Octopus', 'Doctor Strange', 'Domino', 'Donna Troy', 'Doomsday', 'Doppelganger', 'Drax the Destroyer', 'Elastigirl', 'Electro', 'Elektra', 'Elongated Man', 'Emma Frost', 'Enchantress', 'Etrigan','Evil Deadpool', 'Evilhawk', 'Exodus', 'Fabian Cortez', 'Falcon', 'Feral', 'Fin Fang Foom', 'Firebird', 'Firelord', 'Firestar', 'Firestorm', 'Flash', 'Flash II', 'Flash III', 'Flash IV', 'Forge', 'Franklin Richards', 'Franklin Storm', 'Frenzy', 'Frigga', 'Galactus', 'Gambit', 'Gamora', 'Genesis', 'Ghost Rider', 'Giganta', 'Gladiator', 'Goblin Queen', 'Goku', 'Goliath IV', 'Gorilla Grodd', 'Granny Goodness', 'Gravity', 'Green Arrow', 'Green Goblin', 'Green Goblin II', 'Green Goblin III', 'Green Goblin IV', 'Groot', 'Guy Gardner', 'Hal Jordan', 'Han Solo', 'Harley Quinn', 'Havok', 'Hawk', 'Hawkeye', 'Hawkeye II', 'Hawkgirl', 'Hawkman', 'Hawkwoman', 'Hawkwoman III', 'Heat Wave', 'Hela', 'Hellboy', 'Hellcat', 'Hellstorm', 'Hercules', 'Hobgoblin', 'Hope Summers', 'Howard the Duck', 'Hulk', 'Human Torch', 'Huntress', 'Husk', 'Hybrid', 'Hydro-Man', 'Hyperion', 'Iceman', 'Impulse', 'Ink', 'Invisible Woman', 'Iron Fist', 'Iron Man', 'Jack of Hearts', 'Jack-Jack', 'James T. Kirk', 'Jean Grey', 'Jennifer Kale', 'Jessica Jones', 'Jigsaw', 'John Stewart', 'John Wraith', 'Joker', 'Jolt', 'Jubilee', 'Juggernaut', 'Justice', 'Kang', 'Karate Kid', 'Killer Croc', 'Kilowog', 'Kingpin', 'Klaw', 'Kraven II', 'Kraven the Hunter', 'Krypto', 'Kyle Rayner', 'Lady Deathstrike', 'Leader', 'Legion', 'Lex Luthor', 'Light Lass', 'Lightning Lad', 'Lightning Lord', 'Living Brain', 'Lizard', 'Lobo', 'Loki', 'Longshot', 'Luke Cage', 'Luke Skywalker', 'Mach-IV', 'Machine Man', 'Magneto', 'Man-Thing', 'Man-Wolf', 'Mandarin', 'Mantis', 'Martian Manhunter', 'Marvel Girl', 'Master Brood', 'Maverick', 'Maxima', 'Medusa', 'Meltdown', 'Mephisto', 'Mera', 'Metallo', 'Metamorpho', 'Metron', 'Micro Lad', 'Mimic', 'Miss Martian', 'Mister Fantastic', 'Mister Freeze', 'Mister Sinister', 'Mockingbird', 'MODOK', 'Molten Man', 'Monarch', 'Moon Knight', 'Moonstone', 'Morlun', 'Morph', 'Moses Magnum', 'Mr Immortal', 'Mr Incredible', 'Ms Marvel II', 'Multiple Man', 'Mysterio', 'Mystique', 'Namor', 'Namora', 'Namorita', 'Naruto Uzumaki', 'Nebula', 'Nick Fury', 'Nightcrawler', 'Nightwing', 'Northstar', 'Nova', 'Odin', 'Omega Red', 'Omniscient', 'One Punch Man', 'Onslaught', 'Oracle', 'Paul Blart', 'Penance II', 'Penguin', 'Phantom Girl', 'Phoenix', 'Plantman', 'Plastic Man', 'Plastique', 'Poison Ivy', 'Polaris', 'Power Girl', 'Predator', 'Professor X', 'Professor Zoom', 'Psylocke', 'Punisher', 'Purple Man', 'Pyro', 'Question', 'Quicksilver', 'Quill', \"Ra's Al Ghul\", 'Raven', 'Ray', 'Razor-Fist II', 'Red Arrow', 'Red Hood', 'Red Hulk', 'Red Robin', 'Red Skull', 'Red Tornado', 'Rhino', 'Rick Flag', 'Ripcord', 'Robin', 'Robin II', 'Robin III', 'Robin V', 'Rocket Raccoon', 'Rogue', 'Ronin', 'Rorschach', 'Sabretooth', 'Sage', 'Sandman', 'Sasquatch', 'Scarecrow', 'Scarlet Spider', 'Scarlet Spider II', 'Scarlet Witch', 'Scorpion', 'Sentry', 'Shadow King', 'Shadow Lass', 'Shadowcat', 'Shang-Chi', 'Shatterstar', 'She-Hulk', 'She-Thing', 'Shocker', 'Shriek', 'Sif', 'Silver Surfer', 'Silverclaw', 'Sinestro', 'Siren', 'Siryn', 'Skaar', 'Snowbird', 'Solomon Grundy', 'Songbird', 'Space Ghost', 'Spawn', 'Spider-Girl', 'Spider-Gwen', 'Spider-Man', 'Spider-Woman', 'Spider-Woman III', 'Spider-Woman IV', 'Spock', 'Spyke', 'Star-Lord', 'Starfire', 'Stargirl', 'Static', 'Steel', 'Steppenwolf', 'Storm', 'Sunspot','Superboy', 'Superboy-Prime', 'Supergirl', 'Superman', 'Swarm', 'Synch', 'T-1000', 'Taskmaster', 'Tempest', 'Thanos', 'The Comedian', 'Thing', 'Thor', 'Thor Girl', 'Thunderbird', 'Thunderbird III', 'Thunderstrike', 'Thundra', 'Tiger Shark', 'Tigra', 'Tinkerer', 'Toad', 'Toxin', 'Trickster', 'Triplicate Girl', 'Triton', 'Two-Face', 'Ultragirl', 'Ultron', 'Utgard-Loki', 'Vagabond', 'Valerie Hart', 'Valkyrie', 'Vanisher', 'Vegeta', 'Venom', 'Venom II', 'Venom III', 'Vertigo II', 'Vibe', 'Vindicator', 'Violet Parr', 'Vision', 'Vision II', 'Vixen', 'Vulture', 'Walrus', 'War Machine', 'Warbird', 'Warlock', 'Warp', 'Warpath', 'Wasp', 'White Queen', 'Winter Soldier', 'Wiz Kid', 'Wolfsbane', 'Wolverine', 'Wonder Girl', 'Wonder Man', 'Wonder Woman', 'Wyatt Wingfoot', 'X-23', 'X-Man', 'Yellow Claw', 'Yellowjacket', 'Yellowjacket II', 'Yoda', 'Zatanna', 'Zoom']\n",
        "wts = [441.0,  65.0, 90.0, 441.0, 122.0, 88.0, 61.0, 81.0, 104.0, 108.0, 90.0, 90.0, 72.0, 169.0, 173.0, 101.0, 68.0, 57.0, 54.0, 83.0, 90.0, 122.0, 86.0, 358.0, 135.0, 106.0, 146.0, 63.0, 68.0, 57.0, 98.0, 270.0, 59.0, 50.0, 101.0, 68.0, 54.0, 81.0, 63.0, 67.0, 180.0, 77.0, 54.0, 57.0, 52.0, 61.0, 95.0, 79.0, 133.0, 63.0, 181.0, 68.0, 216.0, 135.0, 71.0, 54.0, 124.0, 155.0, 113.0, 95.0, 58.0, 54.0, 86.0, 90.0, 52.0, 92.0, 90.0, 59.0, 61.0, 104.0, 86.0, 88.0, 97.0, 68.0, 56.0, 77.0, 230.0, 495.0, 86.0, 55.0, 97.0, 110.0,135.0, 61.0, 99.0, 52.0, 90.0, 59.0, 158.0, 74.0, 81.0, 108.0, 90.0, 116.0, 108.0, 74.0, 74.0,86.0, 61.0, 61.0, 62.0, 97.0, 63.0, 81.0, 50.0, 55.0, 54.0, 86.0, 170.0, 70.0, 78.0, 225.0, 67.0, 79.0, 99.0, 104.0, 50.0, 173.0, 88.0, 68.0, 52.0, 90.0, 81.0, 817.0, 56.0, 135.0, 27.0, 52.0, 90.0, 95.0, 91.0, 178.0, 101.0, 95.0, 383.0, 90.0, 171.0, 187.0, 132.0, 89.0, 110.0, 81.0, 54.0, 63.0, 412.0, 104.0, 306.0, 56.0, 74.0, 59.0, 80.0, 65.0, 57.0, 203.0, 95.0, 106.0, 88.0, 96.0, 108.0, 50.0, 18.0, 56.0, 99.0, 56.0, 91.0, 81.0, 88.0, 86.0, 52.0, 81.0, 45.0, 92.0, 104.0, 167.0,16.0, 81.0, 77.0, 86.0, 99.0, 630.0, 268.0, 50.0, 62.0, 90.0, 270.0, 115.0, 79.0, 88.0, 83.0, 77.0, 88.0, 79.0, 4.0, 95.0, 90.0, 79.0,3.0, 79.0, 89.0, 104.0, 57.0, 61.0, 88.0, 54.0, 65.0, 81.0, 225.0, 158.0, 61.0, 81.0, 146.0, 83.0,48.0, 18.0, 630.0, 77.0, 59.0, 58.0, 77.0, 119.0, 207.0, 65.0, 65.0, 81.0, 54.0, 79.0,191.0, 79.0, 14.0, 77.0, 52.0, 55.0, 56.0, 113.0, 90.0, 88.0, 86.0, 49.0, 52.0, 855.0, 81.0, 104.0, 72.0, 356.0, 324.0, 203.0, 97.0, 99.0, 106.0, 18.0, 79.0, 58.0, 63.0, 59.0, 95.0, 54.0, 65.0, 95.0,360.0, 230.0, 288.0, 236.0, 36.0, 191.0, 77.0, 79.0, 383.0, 86.0, 225.0, 90.0, 97.0, 52.0, 135.0, 56.0, 81.0, 110.0, 72.0, 59.0, 54.0, 140.0, 72.0, 90.0, 90.0, 86.0, 77.0, 101.0, 61.0, 81.0, 86.0, 128.0, 61.0, 338.0, 248.0, 90.0, 101.0, 59.0, 79.0, 79.0, 72.0, 70.0, 158.0, 61.0, 70.0, 79.0, 54.0, 125.0, 85.0, 101.0, 54.0, 83.0, 99.0, 88.0, 79.0, 83.0, 86.0, 293.0, 191.0, 65.0,69.0, 405.0, 59.0, 117.0, 89.0, 79.0, 54.0, 52.0, 87.0, 80.0, 55.0, 50.0, 52.0, 81.0, 234.0, 86.0, 81.0, 70.0, 90.0, 74.0, 68.0, 83.0, 79.0, 56.0, 97.0, 50.0, 70.0, 117.0, 83.0, 81.0, 630.0, 56.0, 108.0, 146.0,320.0, 85.0, 72.0, 79.0, 101.0, 56.0, 38.0, 25.0, 54.0, 104.0, 63.0, 171.0, 61.0, 203.0, 900.0, 63.0, 74.0, 113.0, 59.0, 310.0, 87.0, 149.0, 54.0, 50.0, 79.0, 88.0, 315.0, 153.0, 79.0, 52.0, 191.0, 101.0, 50.0, 92.0, 72.0, 52.0, 180.0, 49.0, 437.0, 65.0, 113.0, 405.0, 54.0, 56.0, 74.0, 59.0, 55.0, 58.0, 81.0, 83.0, 79.0, 71.0, 62.0, 63.0, 131.0, 91.0, 57.0, 77.0, 68.0, 77.0, 54.0, 101.0, 47.0, 74.0, 146.0, 99.0, 54.0, 443.0, 101.0, 225.0, 288.0, 143.0, 101.0, 74.0, 288.0, 158.0, 203.0, 81.0, 54.0, 76.0, 97.0, 81.0, 59.0, 86.0, 82.0, 105.0, 331.0, 58.0, 54.0, 56.0, 214.0, 79.0, 73.0, 117.0, 50.0, 334.0, 52.0, 71.0, 54.0, 41.0, 135.0, 135.0, 63.0, 79.0, 162.0, 95.0, 54.0, 108.0, 67.0, 158.0, 50.0, 65.0, 117.0, 39.0, 473.0, 135.0, 51.0, 171.0, 74.0, 117.0, 50.0,61.0, 95.0, 83.0, 52.0, 17.0, 57.0, 81.0]\n",
        "\n",
        "\n",
        "start = time()\n",
        "hero_wts_lbs = []\n",
        "for wt in wts:\n",
        "    hero_wts_lbs.append(wt * 2.20462)\n",
        "print(((time()-start)*10**6))\n",
        "\n",
        "start = time()\n",
        "wts_np = np.array(wts)\n",
        "hero_wts_lbs_np = wts_np * 2.20462\n",
        "print(((time()-start)*10**6))"
      ],
      "execution_count": null,
      "outputs": [
        {
          "output_type": "stream",
          "text": [
            "138.0443572998047\n",
            "118.01719665527344\n"
          ],
          "name": "stdout"
        }
      ]
    },
    {
      "cell_type": "code",
      "metadata": {
        "colab": {
          "base_uri": "https://localhost:8080/"
        },
        "id": "59l7cQTScnI9",
        "outputId": "e7193d7f-cede-4829-e9dd-efe278ae82ca"
      },
      "source": [
        "pip install line_profiler\n"
      ],
      "execution_count": null,
      "outputs": [
        {
          "output_type": "stream",
          "text": [
            "Collecting line_profiler\n",
            "\u001b[?25l  Downloading https://files.pythonhosted.org/packages/38/37/6a018065a3b26d4566b4a7f51645ddd26ec6b7d141c9e57a9733714475e1/line_profiler-3.2.6-cp37-cp37m-manylinux2010_x86_64.whl (63kB)\n",
            "\r\u001b[K     |█████▏                          | 10kB 16.6MB/s eta 0:00:01\r\u001b[K     |██████████▎                     | 20kB 17.7MB/s eta 0:00:01\r\u001b[K     |███████████████▍                | 30kB 10.0MB/s eta 0:00:01\r\u001b[K     |████████████████████▌           | 40kB 8.3MB/s eta 0:00:01\r\u001b[K     |█████████████████████████▊      | 51kB 5.3MB/s eta 0:00:01\r\u001b[K     |██████████████████████████████▉ | 61kB 6.3MB/s eta 0:00:01\r\u001b[K     |████████████████████████████████| 71kB 4.2MB/s \n",
            "\u001b[?25hRequirement already satisfied: IPython>=0.13; python_version >= \"3.7\" in /usr/local/lib/python3.7/dist-packages (from line_profiler) (5.5.0)\n",
            "Requirement already satisfied: simplegeneric>0.8 in /usr/local/lib/python3.7/dist-packages (from IPython>=0.13; python_version >= \"3.7\"->line_profiler) (0.8.1)\n",
            "Requirement already satisfied: prompt-toolkit<2.0.0,>=1.0.4 in /usr/local/lib/python3.7/dist-packages (from IPython>=0.13; python_version >= \"3.7\"->line_profiler) (1.0.18)\n",
            "Requirement already satisfied: setuptools>=18.5 in /usr/local/lib/python3.7/dist-packages (from IPython>=0.13; python_version >= \"3.7\"->line_profiler) (56.1.0)\n",
            "Requirement already satisfied: traitlets>=4.2 in /usr/local/lib/python3.7/dist-packages (from IPython>=0.13; python_version >= \"3.7\"->line_profiler) (5.0.5)\n",
            "Requirement already satisfied: pygments in /usr/local/lib/python3.7/dist-packages (from IPython>=0.13; python_version >= \"3.7\"->line_profiler) (2.6.1)\n",
            "Requirement already satisfied: decorator in /usr/local/lib/python3.7/dist-packages (from IPython>=0.13; python_version >= \"3.7\"->line_profiler) (4.4.2)\n",
            "Requirement already satisfied: pickleshare in /usr/local/lib/python3.7/dist-packages (from IPython>=0.13; python_version >= \"3.7\"->line_profiler) (0.7.5)\n",
            "Requirement already satisfied: pexpect; sys_platform != \"win32\" in /usr/local/lib/python3.7/dist-packages (from IPython>=0.13; python_version >= \"3.7\"->line_profiler) (4.8.0)\n",
            "Requirement already satisfied: wcwidth in /usr/local/lib/python3.7/dist-packages (from prompt-toolkit<2.0.0,>=1.0.4->IPython>=0.13; python_version >= \"3.7\"->line_profiler) (0.2.5)\n",
            "Requirement already satisfied: six>=1.9.0 in /usr/local/lib/python3.7/dist-packages (from prompt-toolkit<2.0.0,>=1.0.4->IPython>=0.13; python_version >= \"3.7\"->line_profiler) (1.15.0)\n",
            "Requirement already satisfied: ipython-genutils in /usr/local/lib/python3.7/dist-packages (from traitlets>=4.2->IPython>=0.13; python_version >= \"3.7\"->line_profiler) (0.2.0)\n",
            "Requirement already satisfied: ptyprocess>=0.5 in /usr/local/lib/python3.7/dist-packages (from pexpect; sys_platform != \"win32\"->IPython>=0.13; python_version >= \"3.7\"->line_profiler) (0.7.0)\n",
            "Installing collected packages: line-profiler\n",
            "Successfully installed line-profiler-3.2.6\n"
          ],
          "name": "stdout"
        }
      ]
    },
    {
      "cell_type": "code",
      "metadata": {
        "id": "A6maymerg6zi"
      },
      "source": [
        "### Using Line Profiler\n",
        "%load_ext line_profiler\n",
        "from numpy import array\n",
        "heroes = ['A-Bomb',  'Abe Sapien', 'Abin Sur', 'Abomination', 'Absorbing Man', 'Adam Strange', 'Agent 13', 'Agent Bob', 'Agent Zero', 'Air-Walker', 'Ajax', 'Alan Scott', 'Alfred Pennyworth', 'Alien', 'Amazo', 'Ammo', 'Angel', 'Angel Dust', 'Angel Salvadore', 'Animal Man', 'Annihilus', 'Ant-Man', 'Ant-Man II','Anti-Venom', 'Apocalypse', 'Aqualad', 'Aquaman', 'Arachne', 'Archangel', 'Arclight', 'Ardina', 'Ares', 'Ariel', 'Armor', 'Atlas', 'Atom', 'Atom Girl', 'Atom II', 'Aurora', 'Azazel', 'Bane', 'Banshee', 'Bantam', 'Batgirl', 'Batgirl IV', 'Batgirl VI', 'Batman', 'Batman II', 'Battlestar', 'Beak', 'Beast', 'Beast Boy', 'Beta Ray Bill', 'Big Barda', 'Big Man', 'Binary', 'Bishop', 'Bizarro', 'Black Adam', 'Black Bolt', 'Black Canary', 'Black Cat', 'Black Knight III', 'Black Lightning', 'Black Mamba', 'Black Manta', 'Black Panther', 'Black Widow', 'Black Widow II', 'Blackout', 'Blackwing', 'Blackwulf', 'Blade', 'Bling!', 'Blink', 'Blizzard II', 'Blob', 'Bloodaxe', 'Blue Beetle II', 'Boom-Boom', 'Booster Gold', 'Box III', 'Brainiac', 'Brainiac 5', 'Brother Voodoo', 'Buffy', 'Bullseye', 'Bumblebee', 'Cable', 'Callisto', 'Cannonball', 'Captain America', 'Captain Atom', 'Captain Britain', 'Captain Mar-vell', 'Captain Marvel', 'Captain Marvel II', 'Carnage', 'Cat', 'Catwoman', 'Cecilia Reyes', 'Century', 'Chamber', 'Changeling', 'Cheetah', 'Cheetah II', 'Cheetah III', 'Chromos', 'Citizen Steel', 'Cloak', 'Clock King', 'Colossus', 'Copycat', 'Corsair', 'Cottonmouth', 'Crimson Dynamo', 'Crystal', 'Cyborg', 'Cyclops', 'Cypher', 'Dagger', 'Daredevil','Darkhawk', 'Darkseid', 'Darkstar', 'Darth Vader', 'Dash', 'Dazzler',  'Deadman', 'Deadpool', 'Deadshot', 'Deathlok', 'Deathstroke', 'Demogoblin', 'Destroyer', 'Diamondback', 'Doc Samson', 'Doctor Doom', 'Doctor Doom II', 'Doctor Fate', 'Doctor Octopus', 'Doctor Strange', 'Domino', 'Donna Troy', 'Doomsday', 'Doppelganger', 'Drax the Destroyer', 'Elastigirl', 'Electro', 'Elektra', 'Elongated Man', 'Emma Frost', 'Enchantress', 'Etrigan','Evil Deadpool', 'Evilhawk', 'Exodus', 'Fabian Cortez', 'Falcon', 'Feral', 'Fin Fang Foom', 'Firebird', 'Firelord', 'Firestar', 'Firestorm', 'Flash', 'Flash II', 'Flash III', 'Flash IV', 'Forge', 'Franklin Richards', 'Franklin Storm', 'Frenzy', 'Frigga', 'Galactus', 'Gambit', 'Gamora', 'Genesis', 'Ghost Rider', 'Giganta', 'Gladiator', 'Goblin Queen', 'Goku', 'Goliath IV', 'Gorilla Grodd', 'Granny Goodness', 'Gravity', 'Green Arrow', 'Green Goblin', 'Green Goblin II', 'Green Goblin III', 'Green Goblin IV', 'Groot', 'Guy Gardner', 'Hal Jordan', 'Han Solo', 'Harley Quinn', 'Havok', 'Hawk', 'Hawkeye', 'Hawkeye II', 'Hawkgirl', 'Hawkman', 'Hawkwoman', 'Hawkwoman III', 'Heat Wave', 'Hela', 'Hellboy', 'Hellcat', 'Hellstorm', 'Hercules', 'Hobgoblin', 'Hope Summers', 'Howard the Duck', 'Hulk', 'Human Torch', 'Huntress', 'Husk', 'Hybrid', 'Hydro-Man', 'Hyperion', 'Iceman', 'Impulse', 'Ink', 'Invisible Woman', 'Iron Fist', 'Iron Man', 'Jack of Hearts', 'Jack-Jack', 'James T. Kirk', 'Jean Grey', 'Jennifer Kale', 'Jessica Jones', 'Jigsaw', 'John Stewart', 'John Wraith', 'Joker', 'Jolt', 'Jubilee', 'Juggernaut', 'Justice', 'Kang', 'Karate Kid', 'Killer Croc', 'Kilowog', 'Kingpin', 'Klaw', 'Kraven II', 'Kraven the Hunter', 'Krypto', 'Kyle Rayner', 'Lady Deathstrike', 'Leader', 'Legion', 'Lex Luthor', 'Light Lass', 'Lightning Lad', 'Lightning Lord', 'Living Brain', 'Lizard', 'Lobo', 'Loki', 'Longshot', 'Luke Cage', 'Luke Skywalker', 'Mach-IV', 'Machine Man', 'Magneto', 'Man-Thing', 'Man-Wolf', 'Mandarin', 'Mantis', 'Martian Manhunter', 'Marvel Girl', 'Master Brood', 'Maverick', 'Maxima', 'Medusa', 'Meltdown', 'Mephisto', 'Mera', 'Metallo', 'Metamorpho', 'Metron', 'Micro Lad', 'Mimic', 'Miss Martian', 'Mister Fantastic', 'Mister Freeze', 'Mister Sinister', 'Mockingbird', 'MODOK', 'Molten Man', 'Monarch', 'Moon Knight', 'Moonstone', 'Morlun', 'Morph', 'Moses Magnum', 'Mr Immortal', 'Mr Incredible', 'Ms Marvel II', 'Multiple Man', 'Mysterio', 'Mystique', 'Namor', 'Namora', 'Namorita', 'Naruto Uzumaki', 'Nebula', 'Nick Fury', 'Nightcrawler', 'Nightwing', 'Northstar', 'Nova', 'Odin', 'Omega Red', 'Omniscient', 'One Punch Man', 'Onslaught', 'Oracle', 'Paul Blart', 'Penance II', 'Penguin', 'Phantom Girl', 'Phoenix', 'Plantman', 'Plastic Man', 'Plastique', 'Poison Ivy', 'Polaris', 'Power Girl', 'Predator', 'Professor X', 'Professor Zoom', 'Psylocke', 'Punisher', 'Purple Man', 'Pyro', 'Question', 'Quicksilver', 'Quill', \"Ra's Al Ghul\", 'Raven', 'Ray', 'Razor-Fist II', 'Red Arrow', 'Red Hood', 'Red Hulk', 'Red Robin', 'Red Skull', 'Red Tornado', 'Rhino', 'Rick Flag', 'Ripcord', 'Robin', 'Robin II', 'Robin III', 'Robin V', 'Rocket Raccoon', 'Rogue', 'Ronin', 'Rorschach', 'Sabretooth', 'Sage', 'Sandman', 'Sasquatch', 'Scarecrow', 'Scarlet Spider', 'Scarlet Spider II', 'Scarlet Witch', 'Scorpion', 'Sentry', 'Shadow King', 'Shadow Lass', 'Shadowcat', 'Shang-Chi', 'Shatterstar', 'She-Hulk', 'She-Thing', 'Shocker', 'Shriek', 'Sif', 'Silver Surfer', 'Silverclaw', 'Sinestro', 'Siren', 'Siryn', 'Skaar', 'Snowbird', 'Solomon Grundy', 'Songbird', 'Space Ghost', 'Spawn', 'Spider-Girl', 'Spider-Gwen', 'Spider-Man', 'Spider-Woman', 'Spider-Woman III', 'Spider-Woman IV', 'Spock', 'Spyke', 'Star-Lord', 'Starfire', 'Stargirl', 'Static', 'Steel', 'Steppenwolf', 'Storm', 'Sunspot','Superboy', 'Superboy-Prime', 'Supergirl', 'Superman', 'Swarm', 'Synch', 'T-1000', 'Taskmaster', 'Tempest', 'Thanos', 'The Comedian', 'Thing', 'Thor', 'Thor Girl', 'Thunderbird', 'Thunderbird III', 'Thunderstrike', 'Thundra', 'Tiger Shark', 'Tigra', 'Tinkerer', 'Toad', 'Toxin', 'Trickster', 'Triplicate Girl', 'Triton', 'Two-Face', 'Ultragirl', 'Ultron', 'Utgard-Loki', 'Vagabond', 'Valerie Hart', 'Valkyrie', 'Vanisher', 'Vegeta', 'Venom', 'Venom II', 'Venom III', 'Vertigo II', 'Vibe', 'Vindicator', 'Violet Parr', 'Vision', 'Vision II', 'Vixen', 'Vulture', 'Walrus', 'War Machine', 'Warbird', 'Warlock', 'Warp', 'Warpath', 'Wasp', 'White Queen', 'Winter Soldier', 'Wiz Kid', 'Wolfsbane', 'Wolverine', 'Wonder Girl', 'Wonder Man', 'Wonder Woman', 'Wyatt Wingfoot', 'X-23', 'X-Man', 'Yellow Claw', 'Yellowjacket', 'Yellowjacket II', 'Yoda', 'Zatanna', 'Zoom']\n",
        "wts = array([441.0,  65.0, 90.0, 441.0, 122.0, 88.0, 61.0, 81.0, 104.0, 108.0, 90.0, 90.0, 72.0, 169.0, 173.0, 101.0, 68.0, 57.0, 54.0, 83.0, 90.0, 122.0, 86.0, 358.0, 135.0, 106.0, 146.0, 63.0, 68.0, 57.0, 98.0, 270.0, 59.0, 50.0, 101.0, 68.0, 54.0, 81.0, 63.0, 67.0, 180.0, 77.0, 54.0, 57.0, 52.0, 61.0, 95.0, 79.0, 133.0, 63.0, 181.0, 68.0, 216.0, 135.0, 71.0, 54.0, 124.0, 155.0, 113.0, 95.0, 58.0, 54.0, 86.0, 90.0, 52.0, 92.0, 90.0, 59.0, 61.0, 104.0, 86.0, 88.0, 97.0, 68.0, 56.0, 77.0, 230.0, 495.0, 86.0, 55.0, 97.0, 110.0,135.0, 61.0, 99.0, 52.0, 90.0, 59.0, 158.0, 74.0, 81.0, 108.0, 90.0, 116.0, 108.0, 74.0, 74.0,86.0, 61.0, 61.0, 62.0, 97.0, 63.0, 81.0, 50.0, 55.0, 54.0, 86.0, 170.0, 70.0, 78.0, 225.0, 67.0, 79.0, 99.0, 104.0, 50.0, 173.0, 88.0, 68.0, 52.0, 90.0, 81.0, 817.0, 56.0, 135.0, 27.0, 52.0, 90.0, 95.0, 91.0, 178.0, 101.0, 95.0, 383.0, 90.0, 171.0, 187.0, 132.0, 89.0, 110.0, 81.0, 54.0, 63.0, 412.0, 104.0, 306.0, 56.0, 74.0, 59.0, 80.0, 65.0, 57.0, 203.0, 95.0, 106.0, 88.0, 96.0, 108.0, 50.0, 18.0, 56.0, 99.0, 56.0, 91.0, 81.0, 88.0, 86.0, 52.0, 81.0, 45.0, 92.0, 104.0, 167.0,16.0, 81.0, 77.0, 86.0, 99.0, 630.0, 268.0, 50.0, 62.0, 90.0, 270.0, 115.0, 79.0, 88.0, 83.0, 77.0, 88.0, 79.0, 4.0, 95.0, 90.0, 79.0,3.0, 79.0, 89.0, 104.0, 57.0, 61.0, 88.0, 54.0, 65.0, 81.0, 225.0, 158.0, 61.0, 81.0, 146.0, 83.0,48.0, 18.0, 630.0, 77.0, 59.0, 58.0, 77.0, 119.0, 207.0, 65.0, 65.0, 81.0, 54.0, 79.0,191.0, 79.0, 14.0, 77.0, 52.0, 55.0, 56.0, 113.0, 90.0, 88.0, 86.0, 49.0, 52.0, 855.0, 81.0, 104.0, 72.0, 356.0, 324.0, 203.0, 97.0, 99.0, 106.0, 18.0, 79.0, 58.0, 63.0, 59.0, 95.0, 54.0, 65.0, 95.0,360.0, 230.0, 288.0, 236.0, 36.0, 191.0, 77.0, 79.0, 383.0, 86.0, 225.0, 90.0, 97.0, 52.0, 135.0, 56.0, 81.0, 110.0, 72.0, 59.0, 54.0, 140.0, 72.0, 90.0, 90.0, 86.0, 77.0, 101.0, 61.0, 81.0, 86.0, 128.0, 61.0, 338.0, 248.0, 90.0, 101.0, 59.0, 79.0, 79.0, 72.0, 70.0, 158.0, 61.0, 70.0, 79.0, 54.0, 125.0, 85.0, 101.0, 54.0, 83.0, 99.0, 88.0, 79.0, 83.0, 86.0, 293.0, 191.0, 65.0,69.0, 405.0, 59.0, 117.0, 89.0, 79.0, 54.0, 52.0, 87.0, 80.0, 55.0, 50.0, 52.0, 81.0, 234.0, 86.0, 81.0, 70.0, 90.0, 74.0, 68.0, 83.0, 79.0, 56.0, 97.0, 50.0, 70.0, 117.0, 83.0, 81.0, 630.0, 56.0, 108.0, 146.0,320.0, 85.0, 72.0, 79.0, 101.0, 56.0, 38.0, 25.0, 54.0, 104.0, 63.0, 171.0, 61.0, 203.0, 900.0, 63.0, 74.0, 113.0, 59.0, 310.0, 87.0, 149.0, 54.0, 50.0, 79.0, 88.0, 315.0, 153.0, 79.0, 52.0, 191.0, 101.0, 50.0, 92.0, 72.0, 52.0, 180.0, 49.0, 437.0, 65.0, 113.0, 405.0, 54.0, 56.0, 74.0, 59.0, 55.0, 58.0, 81.0, 83.0, 79.0, 71.0, 62.0, 63.0, 131.0, 91.0, 57.0, 77.0, 68.0, 77.0, 54.0, 101.0, 47.0, 74.0, 146.0, 99.0, 54.0, 443.0, 101.0, 225.0, 288.0, 143.0, 101.0, 74.0, 288.0, 158.0, 203.0, 81.0, 54.0, 76.0, 97.0, 81.0, 59.0, 86.0, 82.0, 105.0, 331.0, 58.0, 54.0, 56.0, 214.0, 79.0, 73.0, 117.0, 50.0, 334.0, 52.0, 71.0, 54.0, 41.0, 135.0, 135.0, 63.0, 79.0, 162.0, 95.0, 54.0, 108.0, 67.0, 158.0, 50.0, 65.0, 117.0, 39.0, 473.0, 135.0, 51.0, 171.0, 74.0, 117.0, 50.0,61.0, 95.0, 83.0, 52.0, 17.0, 57.0, 81.0])\n",
        "hts = array([203. , 191. , 185. , 203. , 193. , 185. , 173. , 178. , 191. , 188. , 193. , 180. , 178. , 244. , 257. , 188. , 183. , 165. , 163. , 183. , 180. , 211. , 183. , 229. , 213. , 178. , 185. , 175. , 183. , 173. , 193. , 185. , 165. , 163. , 183. , 178. , 168. , 183. , 180. , 183. , 203. , 183. , 165. , 170. , 165. , 168. , 188. , 178. , 198. , 175. , 180. , 173. , 201. , 188. , 165. , 180. , 198. , 191. , 191. , 188. , 165. , 178. , 183. , 185. , 170. , 188. , 183. , 170. , 170. , 191. , 185. , 188. , 188. , 168. , 165. , 175. , 178. , 218. , 183. , 165. , 196. , 193. , 198. , 170. , 183. , 157. , 183. , 170. , 203. , 175. , 183. , 188. , 193. , 198. , 188. , 180. , 175. , 185. , 173. , 175. , 170. , 201. , 175. , 180. , 163. , 170. , 175. , 185. , 183. , 226. , 178. , 226. , 183. , 191. , 183. , 180. , 168. , 198. , 191. , 175. , 165. , 183. , 185. , 267. , 168. , 198. , 122. , 173. , 183. , 188. , 185. , 193. , 193. , 185. , 188. ,193. , 198. , 201. , 201. , 188. , 175. , 188. , 173. , 175. ,244. , 196. , 193. , 168. , 180. , 175. , 185. , 178. , 168. ,193. , 188. , 191. , 183. , 196. , 188. , 175. , 975. , 165. ,193. , 173. , 188. , 180. , 183. , 183. , 157. , 183. , 142. ,188. , 211. , 180. , 876. , 185. , 183. , 185. , 188. ,  62.5,198. , 168. , 175. , 183. , 198. , 178. , 178. , 188. , 180. ,178. , 183. , 178. , 701. , 188. , 188. , 183. , 170. , 183. ,185. , 191. , 165. , 175. , 185. , 175. , 170. , 180. , 213. ,259. , 173. , 185. , 196. , 180. , 168. ,  79. , 244. , 178. ,180. , 170. , 175. , 188. , 183. , 173. , 170. , 180. , 168. ,180. , 198. , 155. ,  71. , 178. , 168. , 168. , 170. , 188. ,185. , 183. , 196. , 165. , 165. , 287. , 178. , 191. , 173. , 244. , 234. , 201. , 188. , 191. , 183. ,  64. , 180. , 175. , 178. , 175. , 188. , 165. , 155. , 191. , 198. , 203. , 229. ,  193. , 188. , 198. , 168. , 180. , 183. , 188. , 213. , 188. , 188. , 168. , 201. , 170. , 183. , 193. , 180. , 180. , 165. ,  198. , 175. , 196. , 185. , 185. , 183. , 188. , 178. , 185. ,  183. , 196. , 175. , 366. , 196. , 193. , 188. , 180. , 188. , 178. , 175. , 188. , 201. , 173. , 180. , 180. , 178. , 188. , 180. , 168. , 168. , 185. , 185. , 175. , 178. , 180. , 185. ,  206. , 211. , 180. , 175. , 305. , 178. , 170. , 183. , 157. , 168. , 168. , 183. , 185. , 168. , 168. , 170. , 180. , 213. , 183. , 180. , 180. , 183. , 180. , 178. , 188. , 183. , 163. , 193. , 165. , 178. , 191. , 180. , 183. , 213. , 165. , 188. , 185. , 196. , 185. , 180. , 178. , 183. , 165. , 137. , 122. , 173. , 191. , 168. , 198. , 170. , 185. , 305. , 183. , 178. , 193. , 170. , 211. , 188. , 185. , 173. , 168. , 178. , 191. , 201. , 183. , 175. , 173. , 188. , 193. , 157. , 201. , 175. ,168. , 198. , 178. , 279. , 165. , 188. , 211. , 170. , 165. , 178. , 178. , 173. , 178. , 185. , 183. , 188. , 193. , 165. ,170. , 201. , 183. , 180. , 173. , 170. , 180. , 165. , 191. , 196. , 180. , 183. , 188. , 163. , 201. , 188. , 183. , 198. ,175. , 185. , 175. , 198. , 218. , 185. , 178. , 163. , 175. , 188. , 183. , 168. , 188. , 183. , 168. , 206. ,  15.2, 168. , 175. , 191. , 165. , 168. , 191. , 175. , 229. , 168. , 178. , 165. , 137. , 191. , 191. , 175. , 180. , 183. , 185. , 180. ,188. , 173. , 218. , 163. , 178. , 175. , 140. , 366. , 160. ,165. , 188. , 183. , 196. , 155. , 175. , 188. , 183. , 165. , 66. , 170. , 185. ])\n",
        "\n",
        "def convert_units(heroes, heights, weights):\n",
        "\n",
        "    new_hts = [ht * 0.39370  for ht in heights]\n",
        "    new_wts = [wt * 2.20462  for wt in weights]\n",
        "\n",
        "    hero_data = {}\n",
        "\n",
        "    for i,hero in enumerate(heroes):\n",
        "        hero_data[hero] = (new_hts[i], new_wts[i])\n",
        "\n",
        "    return hero_data\n",
        "\n",
        "%lprun -f convert_units convert_units(heroes, hts, wts)\n"
      ],
      "execution_count": null,
      "outputs": []
    },
    {
      "cell_type": "code",
      "metadata": {
        "id": "o_bMUGXbhe3f"
      },
      "source": [
        "from numpy import array\n",
        "heroes = ['A-Bomb',  'Abe Sapien', 'Abin Sur', 'Abomination', 'Absorbing Man', 'Adam Strange', 'Agent 13', 'Agent Bob', 'Agent Zero', 'Air-Walker', 'Ajax', 'Alan Scott', 'Alfred Pennyworth', 'Alien', 'Amazo', 'Ammo', 'Angel', 'Angel Dust', 'Angel Salvadore', 'Animal Man', 'Annihilus', 'Ant-Man', 'Ant-Man II','Anti-Venom', 'Apocalypse', 'Aqualad', 'Aquaman', 'Arachne', 'Archangel', 'Arclight', 'Ardina', 'Ares', 'Ariel', 'Armor', 'Atlas', 'Atom', 'Atom Girl', 'Atom II', 'Aurora', 'Azazel', 'Bane', 'Banshee', 'Bantam', 'Batgirl', 'Batgirl IV', 'Batgirl VI', 'Batman', 'Batman II', 'Battlestar', 'Beak', 'Beast', 'Beast Boy', 'Beta Ray Bill', 'Big Barda', 'Big Man', 'Binary', 'Bishop', 'Bizarro', 'Black Adam', 'Black Bolt', 'Black Canary', 'Black Cat', 'Black Knight III', 'Black Lightning', 'Black Mamba', 'Black Manta', 'Black Panther', 'Black Widow', 'Black Widow II', 'Blackout', 'Blackwing', 'Blackwulf', 'Blade', 'Bling!', 'Blink', 'Blizzard II', 'Blob', 'Bloodaxe', 'Blue Beetle II', 'Boom-Boom', 'Booster Gold', 'Box III', 'Brainiac', 'Brainiac 5', 'Brother Voodoo', 'Buffy', 'Bullseye', 'Bumblebee', 'Cable', 'Callisto', 'Cannonball', 'Captain America', 'Captain Atom', 'Captain Britain', 'Captain Mar-vell', 'Captain Marvel', 'Captain Marvel II', 'Carnage', 'Cat', 'Catwoman', 'Cecilia Reyes', 'Century', 'Chamber', 'Changeling', 'Cheetah', 'Cheetah II', 'Cheetah III', 'Chromos', 'Citizen Steel', 'Cloak', 'Clock King', 'Colossus', 'Copycat', 'Corsair', 'Cottonmouth', 'Crimson Dynamo', 'Crystal', 'Cyborg', 'Cyclops', 'Cypher', 'Dagger', 'Daredevil','Darkhawk', 'Darkseid', 'Darkstar', 'Darth Vader', 'Dash', 'Dazzler',  'Deadman', 'Deadpool', 'Deadshot', 'Deathlok', 'Deathstroke', 'Demogoblin', 'Destroyer', 'Diamondback', 'Doc Samson', 'Doctor Doom', 'Doctor Doom II', 'Doctor Fate', 'Doctor Octopus', 'Doctor Strange', 'Domino', 'Donna Troy', 'Doomsday', 'Doppelganger', 'Drax the Destroyer', 'Elastigirl', 'Electro', 'Elektra', 'Elongated Man', 'Emma Frost', 'Enchantress', 'Etrigan','Evil Deadpool', 'Evilhawk', 'Exodus', 'Fabian Cortez', 'Falcon', 'Feral', 'Fin Fang Foom', 'Firebird', 'Firelord', 'Firestar', 'Firestorm', 'Flash', 'Flash II', 'Flash III', 'Flash IV', 'Forge', 'Franklin Richards', 'Franklin Storm', 'Frenzy', 'Frigga', 'Galactus', 'Gambit', 'Gamora', 'Genesis', 'Ghost Rider', 'Giganta', 'Gladiator', 'Goblin Queen', 'Goku', 'Goliath IV', 'Gorilla Grodd', 'Granny Goodness', 'Gravity', 'Green Arrow', 'Green Goblin', 'Green Goblin II', 'Green Goblin III', 'Green Goblin IV', 'Groot', 'Guy Gardner', 'Hal Jordan', 'Han Solo', 'Harley Quinn', 'Havok', 'Hawk', 'Hawkeye', 'Hawkeye II', 'Hawkgirl', 'Hawkman', 'Hawkwoman', 'Hawkwoman III', 'Heat Wave', 'Hela', 'Hellboy', 'Hellcat', 'Hellstorm', 'Hercules', 'Hobgoblin', 'Hope Summers', 'Howard the Duck', 'Hulk', 'Human Torch', 'Huntress', 'Husk', 'Hybrid', 'Hydro-Man', 'Hyperion', 'Iceman', 'Impulse', 'Ink', 'Invisible Woman', 'Iron Fist', 'Iron Man', 'Jack of Hearts', 'Jack-Jack', 'James T. Kirk', 'Jean Grey', 'Jennifer Kale', 'Jessica Jones', 'Jigsaw', 'John Stewart', 'John Wraith', 'Joker', 'Jolt', 'Jubilee', 'Juggernaut', 'Justice', 'Kang', 'Karate Kid', 'Killer Croc', 'Kilowog', 'Kingpin', 'Klaw', 'Kraven II', 'Kraven the Hunter', 'Krypto', 'Kyle Rayner', 'Lady Deathstrike', 'Leader', 'Legion', 'Lex Luthor', 'Light Lass', 'Lightning Lad', 'Lightning Lord', 'Living Brain', 'Lizard', 'Lobo', 'Loki', 'Longshot', 'Luke Cage', 'Luke Skywalker', 'Mach-IV', 'Machine Man', 'Magneto', 'Man-Thing', 'Man-Wolf', 'Mandarin', 'Mantis', 'Martian Manhunter', 'Marvel Girl', 'Master Brood', 'Maverick', 'Maxima', 'Medusa', 'Meltdown', 'Mephisto', 'Mera', 'Metallo', 'Metamorpho', 'Metron', 'Micro Lad', 'Mimic', 'Miss Martian', 'Mister Fantastic', 'Mister Freeze', 'Mister Sinister', 'Mockingbird', 'MODOK', 'Molten Man', 'Monarch', 'Moon Knight', 'Moonstone', 'Morlun', 'Morph', 'Moses Magnum', 'Mr Immortal', 'Mr Incredible', 'Ms Marvel II', 'Multiple Man', 'Mysterio', 'Mystique', 'Namor', 'Namora', 'Namorita', 'Naruto Uzumaki', 'Nebula', 'Nick Fury', 'Nightcrawler', 'Nightwing', 'Northstar', 'Nova', 'Odin', 'Omega Red', 'Omniscient', 'One Punch Man', 'Onslaught', 'Oracle', 'Paul Blart', 'Penance II', 'Penguin', 'Phantom Girl', 'Phoenix', 'Plantman', 'Plastic Man', 'Plastique', 'Poison Ivy', 'Polaris', 'Power Girl', 'Predator', 'Professor X', 'Professor Zoom', 'Psylocke', 'Punisher', 'Purple Man', 'Pyro', 'Question', 'Quicksilver', 'Quill', \"Ra's Al Ghul\", 'Raven', 'Ray', 'Razor-Fist II', 'Red Arrow', 'Red Hood', 'Red Hulk', 'Red Robin', 'Red Skull', 'Red Tornado', 'Rhino', 'Rick Flag', 'Ripcord', 'Robin', 'Robin II', 'Robin III', 'Robin V', 'Rocket Raccoon', 'Rogue', 'Ronin', 'Rorschach', 'Sabretooth', 'Sage', 'Sandman', 'Sasquatch', 'Scarecrow', 'Scarlet Spider', 'Scarlet Spider II', 'Scarlet Witch', 'Scorpion', 'Sentry', 'Shadow King', 'Shadow Lass', 'Shadowcat', 'Shang-Chi', 'Shatterstar', 'She-Hulk', 'She-Thing', 'Shocker', 'Shriek', 'Sif', 'Silver Surfer', 'Silverclaw', 'Sinestro', 'Siren', 'Siryn', 'Skaar', 'Snowbird', 'Solomon Grundy', 'Songbird', 'Space Ghost', 'Spawn', 'Spider-Girl', 'Spider-Gwen', 'Spider-Man', 'Spider-Woman', 'Spider-Woman III', 'Spider-Woman IV', 'Spock', 'Spyke', 'Star-Lord', 'Starfire', 'Stargirl', 'Static', 'Steel', 'Steppenwolf', 'Storm', 'Sunspot','Superboy', 'Superboy-Prime', 'Supergirl', 'Superman', 'Swarm', 'Synch', 'T-1000', 'Taskmaster', 'Tempest', 'Thanos', 'The Comedian', 'Thing', 'Thor', 'Thor Girl', 'Thunderbird', 'Thunderbird III', 'Thunderstrike', 'Thundra', 'Tiger Shark', 'Tigra', 'Tinkerer', 'Toad', 'Toxin', 'Trickster', 'Triplicate Girl', 'Triton', 'Two-Face', 'Ultragirl', 'Ultron', 'Utgard-Loki', 'Vagabond', 'Valerie Hart', 'Valkyrie', 'Vanisher', 'Vegeta', 'Venom', 'Venom II', 'Venom III', 'Vertigo II', 'Vibe', 'Vindicator', 'Violet Parr', 'Vision', 'Vision II', 'Vixen', 'Vulture', 'Walrus', 'War Machine', 'Warbird', 'Warlock', 'Warp', 'Warpath', 'Wasp', 'White Queen', 'Winter Soldier', 'Wiz Kid', 'Wolfsbane', 'Wolverine', 'Wonder Girl', 'Wonder Man', 'Wonder Woman', 'Wyatt Wingfoot', 'X-23', 'X-Man', 'Yellow Claw', 'Yellowjacket', 'Yellowjacket II', 'Yoda', 'Zatanna', 'Zoom']\n",
        "wts = array([441.0,  65.0, 90.0, 441.0, 122.0, 88.0, 61.0, 81.0, 104.0, 108.0, 90.0, 90.0, 72.0, 169.0, 173.0, 101.0, 68.0, 57.0, 54.0, 83.0, 90.0, 122.0, 86.0, 358.0, 135.0, 106.0, 146.0, 63.0, 68.0, 57.0, 98.0, 270.0, 59.0, 50.0, 101.0, 68.0, 54.0, 81.0, 63.0, 67.0, 180.0, 77.0, 54.0, 57.0, 52.0, 61.0, 95.0, 79.0, 133.0, 63.0, 181.0, 68.0, 216.0, 135.0, 71.0, 54.0, 124.0, 155.0, 113.0, 95.0, 58.0, 54.0, 86.0, 90.0, 52.0, 92.0, 90.0, 59.0, 61.0, 104.0, 86.0, 88.0, 97.0, 68.0, 56.0, 77.0, 230.0, 495.0, 86.0, 55.0, 97.0, 110.0,135.0, 61.0, 99.0, 52.0, 90.0, 59.0, 158.0, 74.0, 81.0, 108.0, 90.0, 116.0, 108.0, 74.0, 74.0,86.0, 61.0, 61.0, 62.0, 97.0, 63.0, 81.0, 50.0, 55.0, 54.0, 86.0, 170.0, 70.0, 78.0, 225.0, 67.0, 79.0, 99.0, 104.0, 50.0, 173.0, 88.0, 68.0, 52.0, 90.0, 81.0, 817.0, 56.0, 135.0, 27.0, 52.0, 90.0, 95.0, 91.0, 178.0, 101.0, 95.0, 383.0, 90.0, 171.0, 187.0, 132.0, 89.0, 110.0, 81.0, 54.0, 63.0, 412.0, 104.0, 306.0, 56.0, 74.0, 59.0, 80.0, 65.0, 57.0, 203.0, 95.0, 106.0, 88.0, 96.0, 108.0, 50.0, 18.0, 56.0, 99.0, 56.0, 91.0, 81.0, 88.0, 86.0, 52.0, 81.0, 45.0, 92.0, 104.0, 167.0,16.0, 81.0, 77.0, 86.0, 99.0, 630.0, 268.0, 50.0, 62.0, 90.0, 270.0, 115.0, 79.0, 88.0, 83.0, 77.0, 88.0, 79.0, 4.0, 95.0, 90.0, 79.0,3.0, 79.0, 89.0, 104.0, 57.0, 61.0, 88.0, 54.0, 65.0, 81.0, 225.0, 158.0, 61.0, 81.0, 146.0, 83.0,48.0, 18.0, 630.0, 77.0, 59.0, 58.0, 77.0, 119.0, 207.0, 65.0, 65.0, 81.0, 54.0, 79.0,191.0, 79.0, 14.0, 77.0, 52.0, 55.0, 56.0, 113.0, 90.0, 88.0, 86.0, 49.0, 52.0, 855.0, 81.0, 104.0, 72.0, 356.0, 324.0, 203.0, 97.0, 99.0, 106.0, 18.0, 79.0, 58.0, 63.0, 59.0, 95.0, 54.0, 65.0, 95.0,360.0, 230.0, 288.0, 236.0, 36.0, 191.0, 77.0, 79.0, 383.0, 86.0, 225.0, 90.0, 97.0, 52.0, 135.0, 56.0, 81.0, 110.0, 72.0, 59.0, 54.0, 140.0, 72.0, 90.0, 90.0, 86.0, 77.0, 101.0, 61.0, 81.0, 86.0, 128.0, 61.0, 338.0, 248.0, 90.0, 101.0, 59.0, 79.0, 79.0, 72.0, 70.0, 158.0, 61.0, 70.0, 79.0, 54.0, 125.0, 85.0, 101.0, 54.0, 83.0, 99.0, 88.0, 79.0, 83.0, 86.0, 293.0, 191.0, 65.0,69.0, 405.0, 59.0, 117.0, 89.0, 79.0, 54.0, 52.0, 87.0, 80.0, 55.0, 50.0, 52.0, 81.0, 234.0, 86.0, 81.0, 70.0, 90.0, 74.0, 68.0, 83.0, 79.0, 56.0, 97.0, 50.0, 70.0, 117.0, 83.0, 81.0, 630.0, 56.0, 108.0, 146.0,320.0, 85.0, 72.0, 79.0, 101.0, 56.0, 38.0, 25.0, 54.0, 104.0, 63.0, 171.0, 61.0, 203.0, 900.0, 63.0, 74.0, 113.0, 59.0, 310.0, 87.0, 149.0, 54.0, 50.0, 79.0, 88.0, 315.0, 153.0, 79.0, 52.0, 191.0, 101.0, 50.0, 92.0, 72.0, 52.0, 180.0, 49.0, 437.0, 65.0, 113.0, 405.0, 54.0, 56.0, 74.0, 59.0, 55.0, 58.0, 81.0, 83.0, 79.0, 71.0, 62.0, 63.0, 131.0, 91.0, 57.0, 77.0, 68.0, 77.0, 54.0, 101.0, 47.0, 74.0, 146.0, 99.0, 54.0, 443.0, 101.0, 225.0, 288.0, 143.0, 101.0, 74.0, 288.0, 158.0, 203.0, 81.0, 54.0, 76.0, 97.0, 81.0, 59.0, 86.0, 82.0, 105.0, 331.0, 58.0, 54.0, 56.0, 214.0, 79.0, 73.0, 117.0, 50.0, 334.0, 52.0, 71.0, 54.0, 41.0, 135.0, 135.0, 63.0, 79.0, 162.0, 95.0, 54.0, 108.0, 67.0, 158.0, 50.0, 65.0, 117.0, 39.0, 473.0, 135.0, 51.0, 171.0, 74.0, 117.0, 50.0,61.0, 95.0, 83.0, 52.0, 17.0, 57.0, 81.0])\n",
        "hts = array([203. , 191. , 185. , 203. , 193. , 185. , 173. , 178. , 191. , 188. , 193. , 180. , 178. , 244. , 257. , 188. , 183. , 165. , 163. , 183. , 180. , 211. , 183. , 229. , 213. , 178. , 185. , 175. , 183. , 173. , 193. , 185. , 165. , 163. , 183. , 178. , 168. , 183. , 180. , 183. , 203. , 183. , 165. , 170. , 165. , 168. , 188. , 178. , 198. , 175. , 180. , 173. , 201. , 188. , 165. , 180. , 198. , 191. , 191. , 188. , 165. , 178. , 183. , 185. , 170. , 188. , 183. , 170. , 170. , 191. , 185. , 188. , 188. , 168. , 165. , 175. , 178. , 218. , 183. , 165. , 196. , 193. , 198. , 170. , 183. , 157. , 183. , 170. , 203. , 175. , 183. , 188. , 193. , 198. , 188. , 180. , 175. , 185. , 173. , 175. , 170. , 201. , 175. , 180. , 163. , 170. , 175. , 185. , 183. , 226. , 178. , 226. , 183. , 191. , 183. , 180. , 168. , 198. , 191. , 175. , 165. , 183. , 185. , 267. , 168. , 198. , 122. , 173. , 183. , 188. , 185. , 193. , 193. , 185. , 188. ,193. , 198. , 201. , 201. , 188. , 175. , 188. , 173. , 175. ,244. , 196. , 193. , 168. , 180. , 175. , 185. , 178. , 168. ,193. , 188. , 191. , 183. , 196. , 188. , 175. , 975. , 165. ,193. , 173. , 188. , 180. , 183. , 183. , 157. , 183. , 142. ,188. , 211. , 180. , 876. , 185. , 183. , 185. , 188. ,  62.5,198. , 168. , 175. , 183. , 198. , 178. , 178. , 188. , 180. ,178. , 183. , 178. , 701. , 188. , 188. , 183. , 170. , 183. ,185. , 191. , 165. , 175. , 185. , 175. , 170. , 180. , 213. ,259. , 173. , 185. , 196. , 180. , 168. ,  79. , 244. , 178. ,180. , 170. , 175. , 188. , 183. , 173. , 170. , 180. , 168. ,180. , 198. , 155. ,  71. , 178. , 168. , 168. , 170. , 188. ,185. , 183. , 196. , 165. , 165. , 287. , 178. , 191. , 173. , 244. , 234. , 201. , 188. , 191. , 183. ,  64. , 180. , 175. , 178. , 175. , 188. , 165. , 155. , 191. , 198. , 203. , 229. ,  193. , 188. , 198. , 168. , 180. , 183. , 188. , 213. , 188. , 188. , 168. , 201. , 170. , 183. , 193. , 180. , 180. , 165. ,  198. , 175. , 196. , 185. , 185. , 183. , 188. , 178. , 185. ,  183. , 196. , 175. , 366. , 196. , 193. , 188. , 180. , 188. , 178. , 175. , 188. , 201. , 173. , 180. , 180. , 178. , 188. , 180. , 168. , 168. , 185. , 185. , 175. , 178. , 180. , 185. ,  206. , 211. , 180. , 175. , 305. , 178. , 170. , 183. , 157. , 168. , 168. , 183. , 185. , 168. , 168. , 170. , 180. , 213. , 183. , 180. , 180. , 183. , 180. , 178. , 188. , 183. , 163. , 193. , 165. , 178. , 191. , 180. , 183. , 213. , 165. , 188. , 185. , 196. , 185. , 180. , 178. , 183. , 165. , 137. , 122. , 173. , 191. , 168. , 198. , 170. , 185. , 305. , 183. , 178. , 193. , 170. , 211. , 188. , 185. , 173. , 168. , 178. , 191. , 201. , 183. , 175. , 173. , 188. , 193. , 157. , 201. , 175. ,168. , 198. , 178. , 279. , 165. , 188. , 211. , 170. , 165. , 178. , 178. , 173. , 178. , 185. , 183. , 188. , 193. , 165. ,170. , 201. , 183. , 180. , 173. , 170. , 180. , 165. , 191. , 196. , 180. , 183. , 188. , 163. , 201. , 188. , 183. , 198. ,175. , 185. , 175. , 198. , 218. , 185. , 178. , 163. , 175. , 188. , 183. , 168. , 188. , 183. , 168. , 206. ,  15.2, 168. , 175. , 191. , 165. , 168. , 191. , 175. , 229. , 168. , 178. , 165. , 137. , 191. , 191. , 175. , 180. , 183. , 185. , 180. ,188. , 173. , 218. , 163. , 178. , 175. , 140. , 366. , 160. ,165. , 188. , 183. , 196. , 155. , 175. , 188. , 183. , 165. , 66. , 170. , 185. ])\n",
        "\n",
        "def convert_units_broadcast(heroes, heights, weights):\n",
        "\n",
        "    # Array broadcasting instead of list comprehension\n",
        "    new_hts = heights * 0.39370\n",
        "    new_wts = weights * 2.20462\n",
        "\n",
        "    hero_data = {}\n",
        "\n",
        "    for i,hero in enumerate(heroes):\n",
        "        hero_data[hero] = (new_hts[i], new_wts[i])\n",
        "\n",
        "    return hero_data\n",
        "\n",
        "%lprun -f convert_units_broadcast convert_units_broadcast(heroes, hts, wts)"
      ],
      "execution_count": null,
      "outputs": []
    },
    {
      "cell_type": "code",
      "metadata": {
        "colab": {
          "base_uri": "https://localhost:8080/"
        },
        "id": "LX2UyYSZk_mN",
        "outputId": "c42a2f8d-137e-4a50-aee2-603a191a5c66"
      },
      "source": [
        "pip install memory_profiler"
      ],
      "execution_count": null,
      "outputs": [
        {
          "output_type": "stream",
          "text": [
            "Collecting memory_profiler\n",
            "  Downloading https://files.pythonhosted.org/packages/8f/fd/d92b3295657f8837e0177e7b48b32d6651436f0293af42b76d134c3bb489/memory_profiler-0.58.0.tar.gz\n",
            "Requirement already satisfied: psutil in /usr/local/lib/python3.7/dist-packages (from memory_profiler) (5.4.8)\n",
            "Building wheels for collected packages: memory-profiler\n",
            "  Building wheel for memory-profiler (setup.py) ... \u001b[?25l\u001b[?25hdone\n",
            "  Created wheel for memory-profiler: filename=memory_profiler-0.58.0-cp37-none-any.whl size=30180 sha256=f32c0330923c01f0ff9692abd4852041989f6a98b0d2e4aafde6dc3fd96fb009\n",
            "  Stored in directory: /root/.cache/pip/wheels/02/e4/0b/aaab481fc5dd2a4ea59e78bc7231bb6aae7635ca7ee79f8ae5\n",
            "Successfully built memory-profiler\n",
            "Installing collected packages: memory-profiler\n",
            "Successfully installed memory-profiler-0.58.0\n"
          ],
          "name": "stdout"
        }
      ]
    },
    {
      "cell_type": "code",
      "metadata": {
        "colab": {
          "base_uri": "https://localhost:8080/"
        },
        "id": "S7Wf4clpoISQ",
        "outputId": "5937fded-89aa-4bd9-8716-b7a78bdab569"
      },
      "source": [
        "%load_ext memory_profiler\n"
      ],
      "execution_count": null,
      "outputs": [
        {
          "output_type": "stream",
          "text": [
            "The memory_profiler extension is already loaded. To reload it, use:\n",
            "  %reload_ext memory_profiler\n"
          ],
          "name": "stdout"
        }
      ]
    },
    {
      "cell_type": "code",
      "metadata": {
        "colab": {
          "base_uri": "https://localhost:8080/"
        },
        "id": "vrfGzb7eqap9",
        "outputId": "03bde7ae-165a-4bd0-b01a-ebe097b736ff"
      },
      "source": [
        "from numpy import array\n",
        "heroes = ['A-Bomb',  'Abe Sapien', 'Abin Sur', 'Abomination', 'Absorbing Man', 'Adam Strange', 'Agent 13', 'Agent Bob', 'Agent Zero', 'Air-Walker', 'Ajax', 'Alan Scott', 'Alfred Pennyworth', 'Alien', 'Amazo', 'Ammo', 'Angel', 'Angel Dust', 'Angel Salvadore', 'Animal Man', 'Annihilus', 'Ant-Man', 'Ant-Man II','Anti-Venom', 'Apocalypse', 'Aqualad', 'Aquaman', 'Arachne', 'Archangel', 'Arclight', 'Ardina', 'Ares', 'Ariel', 'Armor', 'Atlas', 'Atom', 'Atom Girl', 'Atom II', 'Aurora', 'Azazel', 'Bane', 'Banshee', 'Bantam', 'Batgirl', 'Batgirl IV', 'Batgirl VI', 'Batman', 'Batman II', 'Battlestar', 'Beak', 'Beast', 'Beast Boy', 'Beta Ray Bill', 'Big Barda', 'Big Man', 'Binary', 'Bishop', 'Bizarro', 'Black Adam', 'Black Bolt', 'Black Canary', 'Black Cat', 'Black Knight III', 'Black Lightning', 'Black Mamba', 'Black Manta', 'Black Panther', 'Black Widow', 'Black Widow II', 'Blackout', 'Blackwing', 'Blackwulf', 'Blade', 'Bling!', 'Blink', 'Blizzard II', 'Blob', 'Bloodaxe', 'Blue Beetle II', 'Boom-Boom', 'Booster Gold', 'Box III', 'Brainiac', 'Brainiac 5', 'Brother Voodoo', 'Buffy', 'Bullseye', 'Bumblebee', 'Cable', 'Callisto', 'Cannonball', 'Captain America', 'Captain Atom', 'Captain Britain', 'Captain Mar-vell', 'Captain Marvel', 'Captain Marvel II', 'Carnage', 'Cat', 'Catwoman', 'Cecilia Reyes', 'Century', 'Chamber', 'Changeling', 'Cheetah', 'Cheetah II', 'Cheetah III', 'Chromos', 'Citizen Steel', 'Cloak', 'Clock King', 'Colossus', 'Copycat', 'Corsair', 'Cottonmouth', 'Crimson Dynamo', 'Crystal', 'Cyborg', 'Cyclops', 'Cypher', 'Dagger', 'Daredevil','Darkhawk', 'Darkseid', 'Darkstar', 'Darth Vader', 'Dash', 'Dazzler',  'Deadman', 'Deadpool', 'Deadshot', 'Deathlok', 'Deathstroke', 'Demogoblin', 'Destroyer', 'Diamondback', 'Doc Samson', 'Doctor Doom', 'Doctor Doom II', 'Doctor Fate', 'Doctor Octopus', 'Doctor Strange', 'Domino', 'Donna Troy', 'Doomsday', 'Doppelganger', 'Drax the Destroyer', 'Elastigirl', 'Electro', 'Elektra', 'Elongated Man', 'Emma Frost', 'Enchantress', 'Etrigan','Evil Deadpool', 'Evilhawk', 'Exodus', 'Fabian Cortez', 'Falcon', 'Feral', 'Fin Fang Foom', 'Firebird', 'Firelord', 'Firestar', 'Firestorm', 'Flash', 'Flash II', 'Flash III', 'Flash IV', 'Forge', 'Franklin Richards', 'Franklin Storm', 'Frenzy', 'Frigga', 'Galactus', 'Gambit', 'Gamora', 'Genesis', 'Ghost Rider', 'Giganta', 'Gladiator', 'Goblin Queen', 'Goku', 'Goliath IV', 'Gorilla Grodd', 'Granny Goodness', 'Gravity', 'Green Arrow', 'Green Goblin', 'Green Goblin II', 'Green Goblin III', 'Green Goblin IV', 'Groot', 'Guy Gardner', 'Hal Jordan', 'Han Solo', 'Harley Quinn', 'Havok', 'Hawk', 'Hawkeye', 'Hawkeye II', 'Hawkgirl', 'Hawkman', 'Hawkwoman', 'Hawkwoman III', 'Heat Wave', 'Hela', 'Hellboy', 'Hellcat', 'Hellstorm', 'Hercules', 'Hobgoblin', 'Hope Summers', 'Howard the Duck', 'Hulk', 'Human Torch', 'Huntress', 'Husk', 'Hybrid', 'Hydro-Man', 'Hyperion', 'Iceman', 'Impulse', 'Ink', 'Invisible Woman', 'Iron Fist', 'Iron Man', 'Jack of Hearts', 'Jack-Jack', 'James T. Kirk', 'Jean Grey', 'Jennifer Kale', 'Jessica Jones', 'Jigsaw', 'John Stewart', 'John Wraith', 'Joker', 'Jolt', 'Jubilee', 'Juggernaut', 'Justice', 'Kang', 'Karate Kid', 'Killer Croc', 'Kilowog', 'Kingpin', 'Klaw', 'Kraven II', 'Kraven the Hunter', 'Krypto', 'Kyle Rayner', 'Lady Deathstrike', 'Leader', 'Legion', 'Lex Luthor', 'Light Lass', 'Lightning Lad', 'Lightning Lord', 'Living Brain', 'Lizard', 'Lobo', 'Loki', 'Longshot', 'Luke Cage', 'Luke Skywalker', 'Mach-IV', 'Machine Man', 'Magneto', 'Man-Thing', 'Man-Wolf', 'Mandarin', 'Mantis', 'Martian Manhunter', 'Marvel Girl', 'Master Brood', 'Maverick', 'Maxima', 'Medusa', 'Meltdown', 'Mephisto', 'Mera', 'Metallo', 'Metamorpho', 'Metron', 'Micro Lad', 'Mimic', 'Miss Martian', 'Mister Fantastic', 'Mister Freeze', 'Mister Sinister', 'Mockingbird', 'MODOK', 'Molten Man', 'Monarch', 'Moon Knight', 'Moonstone', 'Morlun', 'Morph', 'Moses Magnum', 'Mr Immortal', 'Mr Incredible', 'Ms Marvel II', 'Multiple Man', 'Mysterio', 'Mystique', 'Namor', 'Namora', 'Namorita', 'Naruto Uzumaki', 'Nebula', 'Nick Fury', 'Nightcrawler', 'Nightwing', 'Northstar', 'Nova', 'Odin', 'Omega Red', 'Omniscient', 'One Punch Man', 'Onslaught', 'Oracle', 'Paul Blart', 'Penance II', 'Penguin', 'Phantom Girl', 'Phoenix', 'Plantman', 'Plastic Man', 'Plastique', 'Poison Ivy', 'Polaris', 'Power Girl', 'Predator', 'Professor X', 'Professor Zoom', 'Psylocke', 'Punisher', 'Purple Man', 'Pyro', 'Question', 'Quicksilver', 'Quill', \"Ra's Al Ghul\", 'Raven', 'Ray', 'Razor-Fist II', 'Red Arrow', 'Red Hood', 'Red Hulk', 'Red Robin', 'Red Skull', 'Red Tornado', 'Rhino', 'Rick Flag', 'Ripcord', 'Robin', 'Robin II', 'Robin III', 'Robin V', 'Rocket Raccoon', 'Rogue', 'Ronin', 'Rorschach', 'Sabretooth', 'Sage', 'Sandman', 'Sasquatch', 'Scarecrow', 'Scarlet Spider', 'Scarlet Spider II', 'Scarlet Witch', 'Scorpion', 'Sentry', 'Shadow King', 'Shadow Lass', 'Shadowcat', 'Shang-Chi', 'Shatterstar', 'She-Hulk', 'She-Thing', 'Shocker', 'Shriek', 'Sif', 'Silver Surfer', 'Silverclaw', 'Sinestro', 'Siren', 'Siryn', 'Skaar', 'Snowbird', 'Solomon Grundy', 'Songbird', 'Space Ghost', 'Spawn', 'Spider-Girl', 'Spider-Gwen', 'Spider-Man', 'Spider-Woman', 'Spider-Woman III', 'Spider-Woman IV', 'Spock', 'Spyke', 'Star-Lord', 'Starfire', 'Stargirl', 'Static', 'Steel', 'Steppenwolf', 'Storm', 'Sunspot','Superboy', 'Superboy-Prime', 'Supergirl', 'Superman', 'Swarm', 'Synch', 'T-1000', 'Taskmaster', 'Tempest', 'Thanos', 'The Comedian', 'Thing', 'Thor', 'Thor Girl', 'Thunderbird', 'Thunderbird III', 'Thunderstrike', 'Thundra', 'Tiger Shark', 'Tigra', 'Tinkerer', 'Toad', 'Toxin', 'Trickster', 'Triplicate Girl', 'Triton', 'Two-Face', 'Ultragirl', 'Ultron', 'Utgard-Loki', 'Vagabond', 'Valerie Hart', 'Valkyrie', 'Vanisher', 'Vegeta', 'Venom', 'Venom II', 'Venom III', 'Vertigo II', 'Vibe', 'Vindicator', 'Violet Parr', 'Vision', 'Vision II', 'Vixen', 'Vulture', 'Walrus', 'War Machine', 'Warbird', 'Warlock', 'Warp', 'Warpath', 'Wasp', 'White Queen', 'Winter Soldier', 'Wiz Kid', 'Wolfsbane', 'Wolverine', 'Wonder Girl', 'Wonder Man', 'Wonder Woman', 'Wyatt Wingfoot', 'X-23', 'X-Man', 'Yellow Claw', 'Yellowjacket', 'Yellowjacket II', 'Yoda', 'Zatanna', 'Zoom']\n",
        "wts = array([441.0,  65.0, 90.0, 441.0, 122.0, 88.0, 61.0, 81.0, 104.0, 108.0, 90.0, 90.0, 72.0, 169.0, 173.0, 101.0, 68.0, 57.0, 54.0, 83.0, 90.0, 122.0, 86.0, 358.0, 135.0, 106.0, 146.0, 63.0, 68.0, 57.0, 98.0, 270.0, 59.0, 50.0, 101.0, 68.0, 54.0, 81.0, 63.0, 67.0, 180.0, 77.0, 54.0, 57.0, 52.0, 61.0, 95.0, 79.0, 133.0, 63.0, 181.0, 68.0, 216.0, 135.0, 71.0, 54.0, 124.0, 155.0, 113.0, 95.0, 58.0, 54.0, 86.0, 90.0, 52.0, 92.0, 90.0, 59.0, 61.0, 104.0, 86.0, 88.0, 97.0, 68.0, 56.0, 77.0, 230.0, 495.0, 86.0, 55.0, 97.0, 110.0,135.0, 61.0, 99.0, 52.0, 90.0, 59.0, 158.0, 74.0, 81.0, 108.0, 90.0, 116.0, 108.0, 74.0, 74.0,86.0, 61.0, 61.0, 62.0, 97.0, 63.0, 81.0, 50.0, 55.0, 54.0, 86.0, 170.0, 70.0, 78.0, 225.0, 67.0, 79.0, 99.0, 104.0, 50.0, 173.0, 88.0, 68.0, 52.0, 90.0, 81.0, 817.0, 56.0, 135.0, 27.0, 52.0, 90.0, 95.0, 91.0, 178.0, 101.0, 95.0, 383.0, 90.0, 171.0, 187.0, 132.0, 89.0, 110.0, 81.0, 54.0, 63.0, 412.0, 104.0, 306.0, 56.0, 74.0, 59.0, 80.0, 65.0, 57.0, 203.0, 95.0, 106.0, 88.0, 96.0, 108.0, 50.0, 18.0, 56.0, 99.0, 56.0, 91.0, 81.0, 88.0, 86.0, 52.0, 81.0, 45.0, 92.0, 104.0, 167.0,16.0, 81.0, 77.0, 86.0, 99.0, 630.0, 268.0, 50.0, 62.0, 90.0, 270.0, 115.0, 79.0, 88.0, 83.0, 77.0, 88.0, 79.0, 4.0, 95.0, 90.0, 79.0,3.0, 79.0, 89.0, 104.0, 57.0, 61.0, 88.0, 54.0, 65.0, 81.0, 225.0, 158.0, 61.0, 81.0, 146.0, 83.0,48.0, 18.0, 630.0, 77.0, 59.0, 58.0, 77.0, 119.0, 207.0, 65.0, 65.0, 81.0, 54.0, 79.0,191.0, 79.0, 14.0, 77.0, 52.0, 55.0, 56.0, 113.0, 90.0, 88.0, 86.0, 49.0, 52.0, 855.0, 81.0, 104.0, 72.0, 356.0, 324.0, 203.0, 97.0, 99.0, 106.0, 18.0, 79.0, 58.0, 63.0, 59.0, 95.0, 54.0, 65.0, 95.0,360.0, 230.0, 288.0, 236.0, 36.0, 191.0, 77.0, 79.0, 383.0, 86.0, 225.0, 90.0, 97.0, 52.0, 135.0, 56.0, 81.0, 110.0, 72.0, 59.0, 54.0, 140.0, 72.0, 90.0, 90.0, 86.0, 77.0, 101.0, 61.0, 81.0, 86.0, 128.0, 61.0, 338.0, 248.0, 90.0, 101.0, 59.0, 79.0, 79.0, 72.0, 70.0, 158.0, 61.0, 70.0, 79.0, 54.0, 125.0, 85.0, 101.0, 54.0, 83.0, 99.0, 88.0, 79.0, 83.0, 86.0, 293.0, 191.0, 65.0,69.0, 405.0, 59.0, 117.0, 89.0, 79.0, 54.0, 52.0, 87.0, 80.0, 55.0, 50.0, 52.0, 81.0, 234.0, 86.0, 81.0, 70.0, 90.0, 74.0, 68.0, 83.0, 79.0, 56.0, 97.0, 50.0, 70.0, 117.0, 83.0, 81.0, 630.0, 56.0, 108.0, 146.0,320.0, 85.0, 72.0, 79.0, 101.0, 56.0, 38.0, 25.0, 54.0, 104.0, 63.0, 171.0, 61.0, 203.0, 900.0, 63.0, 74.0, 113.0, 59.0, 310.0, 87.0, 149.0, 54.0, 50.0, 79.0, 88.0, 315.0, 153.0, 79.0, 52.0, 191.0, 101.0, 50.0, 92.0, 72.0, 52.0, 180.0, 49.0, 437.0, 65.0, 113.0, 405.0, 54.0, 56.0, 74.0, 59.0, 55.0, 58.0, 81.0, 83.0, 79.0, 71.0, 62.0, 63.0, 131.0, 91.0, 57.0, 77.0, 68.0, 77.0, 54.0, 101.0, 47.0, 74.0, 146.0, 99.0, 54.0, 443.0, 101.0, 225.0, 288.0, 143.0, 101.0, 74.0, 288.0, 158.0, 203.0, 81.0, 54.0, 76.0, 97.0, 81.0, 59.0, 86.0, 82.0, 105.0, 331.0, 58.0, 54.0, 56.0, 214.0, 79.0, 73.0, 117.0, 50.0, 334.0, 52.0, 71.0, 54.0, 41.0, 135.0, 135.0, 63.0, 79.0, 162.0, 95.0, 54.0, 108.0, 67.0, 158.0, 50.0, 65.0, 117.0, 39.0, 473.0, 135.0, 51.0, 171.0, 74.0, 117.0, 50.0,61.0, 95.0, 83.0, 52.0, 17.0, 57.0, 81.0])\n",
        "hts = array([203. , 191. , 185. , 203. , 193. , 185. , 173. , 178. , 191. , 188. , 193. , 180. , 178. , 244. , 257. , 188. , 183. , 165. , 163. , 183. , 180. , 211. , 183. , 229. , 213. , 178. , 185. , 175. , 183. , 173. , 193. , 185. , 165. , 163. , 183. , 178. , 168. , 183. , 180. , 183. , 203. , 183. , 165. , 170. , 165. , 168. , 188. , 178. , 198. , 175. , 180. , 173. , 201. , 188. , 165. , 180. , 198. , 191. , 191. , 188. , 165. , 178. , 183. , 185. , 170. , 188. , 183. , 170. , 170. , 191. , 185. , 188. , 188. , 168. , 165. , 175. , 178. , 218. , 183. , 165. , 196. , 193. , 198. , 170. , 183. , 157. , 183. , 170. , 203. , 175. , 183. , 188. , 193. , 198. , 188. , 180. , 175. , 185. , 173. , 175. , 170. , 201. , 175. , 180. , 163. , 170. , 175. , 185. , 183. , 226. , 178. , 226. , 183. , 191. , 183. , 180. , 168. , 198. , 191. , 175. , 165. , 183. , 185. , 267. , 168. , 198. , 122. , 173. , 183. , 188. , 185. , 193. , 193. , 185. , 188. ,193. , 198. , 201. , 201. , 188. , 175. , 188. , 173. , 175. ,244. , 196. , 193. , 168. , 180. , 175. , 185. , 178. , 168. ,193. , 188. , 191. , 183. , 196. , 188. , 175. , 975. , 165. ,193. , 173. , 188. , 180. , 183. , 183. , 157. , 183. , 142. ,188. , 211. , 180. , 876. , 185. , 183. , 185. , 188. ,  62.5,198. , 168. , 175. , 183. , 198. , 178. , 178. , 188. , 180. ,178. , 183. , 178. , 701. , 188. , 188. , 183. , 170. , 183. ,185. , 191. , 165. , 175. , 185. , 175. , 170. , 180. , 213. ,259. , 173. , 185. , 196. , 180. , 168. ,  79. , 244. , 178. ,180. , 170. , 175. , 188. , 183. , 173. , 170. , 180. , 168. ,180. , 198. , 155. ,  71. , 178. , 168. , 168. , 170. , 188. ,185. , 183. , 196. , 165. , 165. , 287. , 178. , 191. , 173. , 244. , 234. , 201. , 188. , 191. , 183. ,  64. , 180. , 175. , 178. , 175. , 188. , 165. , 155. , 191. , 198. , 203. , 229. ,  193. , 188. , 198. , 168. , 180. , 183. , 188. , 213. , 188. , 188. , 168. , 201. , 170. , 183. , 193. , 180. , 180. , 165. ,  198. , 175. , 196. , 185. , 185. , 183. , 188. , 178. , 185. ,  183. , 196. , 175. , 366. , 196. , 193. , 188. , 180. , 188. , 178. , 175. , 188. , 201. , 173. , 180. , 180. , 178. , 188. , 180. , 168. , 168. , 185. , 185. , 175. , 178. , 180. , 185. ,  206. , 211. , 180. , 175. , 305. , 178. , 170. , 183. , 157. , 168. , 168. , 183. , 185. , 168. , 168. , 170. , 180. , 213. , 183. , 180. , 180. , 183. , 180. , 178. , 188. , 183. , 163. , 193. , 165. , 178. , 191. , 180. , 183. , 213. , 165. , 188. , 185. , 196. , 185. , 180. , 178. , 183. , 165. , 137. , 122. , 173. , 191. , 168. , 198. , 170. , 185. , 305. , 183. , 178. , 193. , 170. , 211. , 188. , 185. , 173. , 168. , 178. , 191. , 201. , 183. , 175. , 173. , 188. , 193. , 157. , 201. , 175. ,168. , 198. , 178. , 279. , 165. , 188. , 211. , 170. , 165. , 178. , 178. , 173. , 178. , 185. , 183. , 188. , 193. , 165. ,170. , 201. , 183. , 180. , 173. , 170. , 180. , 165. , 191. , 196. , 180. , 183. , 188. , 163. , 201. , 188. , 183. , 198. ,175. , 185. , 175. , 198. , 218. , 185. , 178. , 163. , 175. , 188. , 183. , 168. , 188. , 183. , 168. , 206. ,  15.2, 168. , 175. , 191. , 165. , 168. , 191. , 175. , 229. , 168. , 178. , 165. , 137. , 191. , 191. , 175. , 180. , 183. , 185. , 180. ,188. , 173. , 218. , 163. , 178. , 175. , 140. , 366. , 160. ,165. , 188. , 183. , 196. , 155. , 175. , 188. , 183. , 165. , 66. , 170. , 185. ])\n",
        "\n",
        "def convert_units_broadcast(heroes, heights, weights):\n",
        "\n",
        "    # Array broadcasting instead of list comprehension\n",
        "    new_hts = heights * 0.39370\n",
        "    new_wts = weights * 2.20462\n",
        "\n",
        "    hero_data = {}\n",
        "\n",
        "    for i,hero in enumerate(heroes):\n",
        "        hero_data[hero] = (new_hts[i], new_wts[i])\n",
        "\n",
        "    return hero_data\n",
        "\n",
        "%mprun -f convert_units_broadcast convert_units_broadcast(heroes, hts, wts)\n"
      ],
      "execution_count": null,
      "outputs": [
        {
          "output_type": "stream",
          "text": [
            "ERROR: Could not find file <ipython-input-61-3677db65ec43>\n",
            "NOTE: %mprun can only be used on functions defined in physical files, and not in the IPython environment.\n",
            "\n"
          ],
          "name": "stdout"
        }
      ]
    },
    {
      "cell_type": "code",
      "metadata": {
        "colab": {
          "base_uri": "https://localhost:8080/"
        },
        "id": "FJ4ikUk2qh4D",
        "outputId": "b38f7779-d299-4467-bd32-59385ae6fbf3"
      },
      "source": [
        "# Memory profiler ใช้ได้กับฟังก์ชันที่ถูกเขียนไว้ในไฟล์แยกเท่านั้น ในที่่นี้คือ func_names.py\n",
        "# แต่ตัวแปรสามารถเป็น global variables ที่อยู่ข้างนอกได้\n",
        "\n",
        "%reload_ext memory_profiler\n",
        "\n",
        "from func_names import convert_units_broadcast\n",
        "heroes = ['A-Bomb',  'Abe Sapien', 'Abin Sur', 'Abomination', 'Absorbing Man', 'Adam Strange', 'Agent 13', 'Agent Bob', 'Agent Zero', 'Air-Walker', 'Ajax', 'Alan Scott', 'Alfred Pennyworth', 'Alien', 'Amazo', 'Ammo', 'Angel', 'Angel Dust', 'Angel Salvadore', 'Animal Man', 'Annihilus', 'Ant-Man', 'Ant-Man II','Anti-Venom', 'Apocalypse', 'Aqualad', 'Aquaman', 'Arachne', 'Archangel', 'Arclight', 'Ardina', 'Ares', 'Ariel', 'Armor', 'Atlas', 'Atom', 'Atom Girl', 'Atom II', 'Aurora', 'Azazel', 'Bane', 'Banshee', 'Bantam', 'Batgirl', 'Batgirl IV', 'Batgirl VI', 'Batman', 'Batman II', 'Battlestar', 'Beak', 'Beast', 'Beast Boy', 'Beta Ray Bill', 'Big Barda', 'Big Man', 'Binary', 'Bishop', 'Bizarro', 'Black Adam', 'Black Bolt', 'Black Canary', 'Black Cat', 'Black Knight III', 'Black Lightning', 'Black Mamba', 'Black Manta', 'Black Panther', 'Black Widow', 'Black Widow II', 'Blackout', 'Blackwing', 'Blackwulf', 'Blade', 'Bling!', 'Blink', 'Blizzard II', 'Blob', 'Bloodaxe', 'Blue Beetle II', 'Boom-Boom', 'Booster Gold', 'Box III', 'Brainiac', 'Brainiac 5', 'Brother Voodoo', 'Buffy', 'Bullseye', 'Bumblebee', 'Cable', 'Callisto', 'Cannonball', 'Captain America', 'Captain Atom', 'Captain Britain', 'Captain Mar-vell', 'Captain Marvel', 'Captain Marvel II', 'Carnage', 'Cat', 'Catwoman', 'Cecilia Reyes', 'Century', 'Chamber', 'Changeling', 'Cheetah', 'Cheetah II', 'Cheetah III', 'Chromos', 'Citizen Steel', 'Cloak', 'Clock King', 'Colossus', 'Copycat', 'Corsair', 'Cottonmouth', 'Crimson Dynamo', 'Crystal', 'Cyborg', 'Cyclops', 'Cypher', 'Dagger', 'Daredevil','Darkhawk', 'Darkseid', 'Darkstar', 'Darth Vader', 'Dash', 'Dazzler',  'Deadman', 'Deadpool', 'Deadshot', 'Deathlok', 'Deathstroke', 'Demogoblin', 'Destroyer', 'Diamondback', 'Doc Samson', 'Doctor Doom', 'Doctor Doom II', 'Doctor Fate', 'Doctor Octopus', 'Doctor Strange', 'Domino', 'Donna Troy', 'Doomsday', 'Doppelganger', 'Drax the Destroyer', 'Elastigirl', 'Electro', 'Elektra', 'Elongated Man', 'Emma Frost', 'Enchantress', 'Etrigan','Evil Deadpool', 'Evilhawk', 'Exodus', 'Fabian Cortez', 'Falcon', 'Feral', 'Fin Fang Foom', 'Firebird', 'Firelord', 'Firestar', 'Firestorm', 'Flash', 'Flash II', 'Flash III', 'Flash IV', 'Forge', 'Franklin Richards', 'Franklin Storm', 'Frenzy', 'Frigga', 'Galactus', 'Gambit', 'Gamora', 'Genesis', 'Ghost Rider', 'Giganta', 'Gladiator', 'Goblin Queen', 'Goku', 'Goliath IV', 'Gorilla Grodd', 'Granny Goodness', 'Gravity', 'Green Arrow', 'Green Goblin', 'Green Goblin II', 'Green Goblin III', 'Green Goblin IV', 'Groot', 'Guy Gardner', 'Hal Jordan', 'Han Solo', 'Harley Quinn', 'Havok', 'Hawk', 'Hawkeye', 'Hawkeye II', 'Hawkgirl', 'Hawkman', 'Hawkwoman', 'Hawkwoman III', 'Heat Wave', 'Hela', 'Hellboy', 'Hellcat', 'Hellstorm', 'Hercules', 'Hobgoblin', 'Hope Summers', 'Howard the Duck', 'Hulk', 'Human Torch', 'Huntress', 'Husk', 'Hybrid', 'Hydro-Man', 'Hyperion', 'Iceman', 'Impulse', 'Ink', 'Invisible Woman', 'Iron Fist', 'Iron Man', 'Jack of Hearts', 'Jack-Jack', 'James T. Kirk', 'Jean Grey', 'Jennifer Kale', 'Jessica Jones', 'Jigsaw', 'John Stewart', 'John Wraith', 'Joker', 'Jolt', 'Jubilee', 'Juggernaut', 'Justice', 'Kang', 'Karate Kid', 'Killer Croc', 'Kilowog', 'Kingpin', 'Klaw', 'Kraven II', 'Kraven the Hunter', 'Krypto', 'Kyle Rayner', 'Lady Deathstrike', 'Leader', 'Legion', 'Lex Luthor', 'Light Lass', 'Lightning Lad', 'Lightning Lord', 'Living Brain', 'Lizard', 'Lobo', 'Loki', 'Longshot', 'Luke Cage', 'Luke Skywalker', 'Mach-IV', 'Machine Man', 'Magneto', 'Man-Thing', 'Man-Wolf', 'Mandarin', 'Mantis', 'Martian Manhunter', 'Marvel Girl', 'Master Brood', 'Maverick', 'Maxima', 'Medusa', 'Meltdown', 'Mephisto', 'Mera', 'Metallo', 'Metamorpho', 'Metron', 'Micro Lad', 'Mimic', 'Miss Martian', 'Mister Fantastic', 'Mister Freeze', 'Mister Sinister', 'Mockingbird', 'MODOK', 'Molten Man', 'Monarch', 'Moon Knight', 'Moonstone', 'Morlun', 'Morph', 'Moses Magnum', 'Mr Immortal', 'Mr Incredible', 'Ms Marvel II', 'Multiple Man', 'Mysterio', 'Mystique', 'Namor', 'Namora', 'Namorita', 'Naruto Uzumaki', 'Nebula', 'Nick Fury', 'Nightcrawler', 'Nightwing', 'Northstar', 'Nova', 'Odin', 'Omega Red', 'Omniscient', 'One Punch Man', 'Onslaught', 'Oracle', 'Paul Blart', 'Penance II', 'Penguin', 'Phantom Girl', 'Phoenix', 'Plantman', 'Plastic Man', 'Plastique', 'Poison Ivy', 'Polaris', 'Power Girl', 'Predator', 'Professor X', 'Professor Zoom', 'Psylocke', 'Punisher', 'Purple Man', 'Pyro', 'Question', 'Quicksilver', 'Quill', \"Ra's Al Ghul\", 'Raven', 'Ray', 'Razor-Fist II', 'Red Arrow', 'Red Hood', 'Red Hulk', 'Red Robin', 'Red Skull', 'Red Tornado', 'Rhino', 'Rick Flag', 'Ripcord', 'Robin', 'Robin II', 'Robin III', 'Robin V', 'Rocket Raccoon', 'Rogue', 'Ronin', 'Rorschach', 'Sabretooth', 'Sage', 'Sandman', 'Sasquatch', 'Scarecrow', 'Scarlet Spider', 'Scarlet Spider II', 'Scarlet Witch', 'Scorpion', 'Sentry', 'Shadow King', 'Shadow Lass', 'Shadowcat', 'Shang-Chi', 'Shatterstar', 'She-Hulk', 'She-Thing', 'Shocker', 'Shriek', 'Sif', 'Silver Surfer', 'Silverclaw', 'Sinestro', 'Siren', 'Siryn', 'Skaar', 'Snowbird', 'Solomon Grundy', 'Songbird', 'Space Ghost', 'Spawn', 'Spider-Girl', 'Spider-Gwen', 'Spider-Man', 'Spider-Woman', 'Spider-Woman III', 'Spider-Woman IV', 'Spock', 'Spyke', 'Star-Lord', 'Starfire', 'Stargirl', 'Static', 'Steel', 'Steppenwolf', 'Storm', 'Sunspot','Superboy', 'Superboy-Prime', 'Supergirl', 'Superman', 'Swarm', 'Synch', 'T-1000', 'Taskmaster', 'Tempest', 'Thanos', 'The Comedian', 'Thing', 'Thor', 'Thor Girl', 'Thunderbird', 'Thunderbird III', 'Thunderstrike', 'Thundra', 'Tiger Shark', 'Tigra', 'Tinkerer', 'Toad', 'Toxin', 'Trickster', 'Triplicate Girl', 'Triton', 'Two-Face', 'Ultragirl', 'Ultron', 'Utgard-Loki', 'Vagabond', 'Valerie Hart', 'Valkyrie', 'Vanisher', 'Vegeta', 'Venom', 'Venom II', 'Venom III', 'Vertigo II', 'Vibe', 'Vindicator', 'Violet Parr', 'Vision', 'Vision II', 'Vixen', 'Vulture', 'Walrus', 'War Machine', 'Warbird', 'Warlock', 'Warp', 'Warpath', 'Wasp', 'White Queen', 'Winter Soldier', 'Wiz Kid', 'Wolfsbane', 'Wolverine', 'Wonder Girl', 'Wonder Man', 'Wonder Woman', 'Wyatt Wingfoot', 'X-23', 'X-Man', 'Yellow Claw', 'Yellowjacket', 'Yellowjacket II', 'Yoda', 'Zatanna', 'Zoom']\n",
        "wts = array([441.0,  65.0, 90.0, 441.0, 122.0, 88.0, 61.0, 81.0, 104.0, 108.0, 90.0, 90.0, 72.0, 169.0, 173.0, 101.0, 68.0, 57.0, 54.0, 83.0, 90.0, 122.0, 86.0, 358.0, 135.0, 106.0, 146.0, 63.0, 68.0, 57.0, 98.0, 270.0, 59.0, 50.0, 101.0, 68.0, 54.0, 81.0, 63.0, 67.0, 180.0, 77.0, 54.0, 57.0, 52.0, 61.0, 95.0, 79.0, 133.0, 63.0, 181.0, 68.0, 216.0, 135.0, 71.0, 54.0, 124.0, 155.0, 113.0, 95.0, 58.0, 54.0, 86.0, 90.0, 52.0, 92.0, 90.0, 59.0, 61.0, 104.0, 86.0, 88.0, 97.0, 68.0, 56.0, 77.0, 230.0, 495.0, 86.0, 55.0, 97.0, 110.0,135.0, 61.0, 99.0, 52.0, 90.0, 59.0, 158.0, 74.0, 81.0, 108.0, 90.0, 116.0, 108.0, 74.0, 74.0,86.0, 61.0, 61.0, 62.0, 97.0, 63.0, 81.0, 50.0, 55.0, 54.0, 86.0, 170.0, 70.0, 78.0, 225.0, 67.0, 79.0, 99.0, 104.0, 50.0, 173.0, 88.0, 68.0, 52.0, 90.0, 81.0, 817.0, 56.0, 135.0, 27.0, 52.0, 90.0, 95.0, 91.0, 178.0, 101.0, 95.0, 383.0, 90.0, 171.0, 187.0, 132.0, 89.0, 110.0, 81.0, 54.0, 63.0, 412.0, 104.0, 306.0, 56.0, 74.0, 59.0, 80.0, 65.0, 57.0, 203.0, 95.0, 106.0, 88.0, 96.0, 108.0, 50.0, 18.0, 56.0, 99.0, 56.0, 91.0, 81.0, 88.0, 86.0, 52.0, 81.0, 45.0, 92.0, 104.0, 167.0,16.0, 81.0, 77.0, 86.0, 99.0, 630.0, 268.0, 50.0, 62.0, 90.0, 270.0, 115.0, 79.0, 88.0, 83.0, 77.0, 88.0, 79.0, 4.0, 95.0, 90.0, 79.0,3.0, 79.0, 89.0, 104.0, 57.0, 61.0, 88.0, 54.0, 65.0, 81.0, 225.0, 158.0, 61.0, 81.0, 146.0, 83.0,48.0, 18.0, 630.0, 77.0, 59.0, 58.0, 77.0, 119.0, 207.0, 65.0, 65.0, 81.0, 54.0, 79.0,191.0, 79.0, 14.0, 77.0, 52.0, 55.0, 56.0, 113.0, 90.0, 88.0, 86.0, 49.0, 52.0, 855.0, 81.0, 104.0, 72.0, 356.0, 324.0, 203.0, 97.0, 99.0, 106.0, 18.0, 79.0, 58.0, 63.0, 59.0, 95.0, 54.0, 65.0, 95.0,360.0, 230.0, 288.0, 236.0, 36.0, 191.0, 77.0, 79.0, 383.0, 86.0, 225.0, 90.0, 97.0, 52.0, 135.0, 56.0, 81.0, 110.0, 72.0, 59.0, 54.0, 140.0, 72.0, 90.0, 90.0, 86.0, 77.0, 101.0, 61.0, 81.0, 86.0, 128.0, 61.0, 338.0, 248.0, 90.0, 101.0, 59.0, 79.0, 79.0, 72.0, 70.0, 158.0, 61.0, 70.0, 79.0, 54.0, 125.0, 85.0, 101.0, 54.0, 83.0, 99.0, 88.0, 79.0, 83.0, 86.0, 293.0, 191.0, 65.0,69.0, 405.0, 59.0, 117.0, 89.0, 79.0, 54.0, 52.0, 87.0, 80.0, 55.0, 50.0, 52.0, 81.0, 234.0, 86.0, 81.0, 70.0, 90.0, 74.0, 68.0, 83.0, 79.0, 56.0, 97.0, 50.0, 70.0, 117.0, 83.0, 81.0, 630.0, 56.0, 108.0, 146.0,320.0, 85.0, 72.0, 79.0, 101.0, 56.0, 38.0, 25.0, 54.0, 104.0, 63.0, 171.0, 61.0, 203.0, 900.0, 63.0, 74.0, 113.0, 59.0, 310.0, 87.0, 149.0, 54.0, 50.0, 79.0, 88.0, 315.0, 153.0, 79.0, 52.0, 191.0, 101.0, 50.0, 92.0, 72.0, 52.0, 180.0, 49.0, 437.0, 65.0, 113.0, 405.0, 54.0, 56.0, 74.0, 59.0, 55.0, 58.0, 81.0, 83.0, 79.0, 71.0, 62.0, 63.0, 131.0, 91.0, 57.0, 77.0, 68.0, 77.0, 54.0, 101.0, 47.0, 74.0, 146.0, 99.0, 54.0, 443.0, 101.0, 225.0, 288.0, 143.0, 101.0, 74.0, 288.0, 158.0, 203.0, 81.0, 54.0, 76.0, 97.0, 81.0, 59.0, 86.0, 82.0, 105.0, 331.0, 58.0, 54.0, 56.0, 214.0, 79.0, 73.0, 117.0, 50.0, 334.0, 52.0, 71.0, 54.0, 41.0, 135.0, 135.0, 63.0, 79.0, 162.0, 95.0, 54.0, 108.0, 67.0, 158.0, 50.0, 65.0, 117.0, 39.0, 473.0, 135.0, 51.0, 171.0, 74.0, 117.0, 50.0,61.0, 95.0, 83.0, 52.0, 17.0, 57.0, 81.0])\n",
        "hts = array([203. , 191. , 185. , 203. , 193. , 185. , 173. , 178. , 191. , 188. , 193. , 180. , 178. , 244. , 257. , 188. , 183. , 165. , 163. , 183. , 180. , 211. , 183. , 229. , 213. , 178. , 185. , 175. , 183. , 173. , 193. , 185. , 165. , 163. , 183. , 178. , 168. , 183. , 180. , 183. , 203. , 183. , 165. , 170. , 165. , 168. , 188. , 178. , 198. , 175. , 180. , 173. , 201. , 188. , 165. , 180. , 198. , 191. , 191. , 188. , 165. , 178. , 183. , 185. , 170. , 188. , 183. , 170. , 170. , 191. , 185. , 188. , 188. , 168. , 165. , 175. , 178. , 218. , 183. , 165. , 196. , 193. , 198. , 170. , 183. , 157. , 183. , 170. , 203. , 175. , 183. , 188. , 193. , 198. , 188. , 180. , 175. , 185. , 173. , 175. , 170. , 201. , 175. , 180. , 163. , 170. , 175. , 185. , 183. , 226. , 178. , 226. , 183. , 191. , 183. , 180. , 168. , 198. , 191. , 175. , 165. , 183. , 185. , 267. , 168. , 198. , 122. , 173. , 183. , 188. , 185. , 193. , 193. , 185. , 188. ,193. , 198. , 201. , 201. , 188. , 175. , 188. , 173. , 175. ,244. , 196. , 193. , 168. , 180. , 175. , 185. , 178. , 168. ,193. , 188. , 191. , 183. , 196. , 188. , 175. , 975. , 165. ,193. , 173. , 188. , 180. , 183. , 183. , 157. , 183. , 142. ,188. , 211. , 180. , 876. , 185. , 183. , 185. , 188. ,  62.5,198. , 168. , 175. , 183. , 198. , 178. , 178. , 188. , 180. ,178. , 183. , 178. , 701. , 188. , 188. , 183. , 170. , 183. ,185. , 191. , 165. , 175. , 185. , 175. , 170. , 180. , 213. ,259. , 173. , 185. , 196. , 180. , 168. ,  79. , 244. , 178. ,180. , 170. , 175. , 188. , 183. , 173. , 170. , 180. , 168. ,180. , 198. , 155. ,  71. , 178. , 168. , 168. , 170. , 188. ,185. , 183. , 196. , 165. , 165. , 287. , 178. , 191. , 173. , 244. , 234. , 201. , 188. , 191. , 183. ,  64. , 180. , 175. , 178. , 175. , 188. , 165. , 155. , 191. , 198. , 203. , 229. ,  193. , 188. , 198. , 168. , 180. , 183. , 188. , 213. , 188. , 188. , 168. , 201. , 170. , 183. , 193. , 180. , 180. , 165. ,  198. , 175. , 196. , 185. , 185. , 183. , 188. , 178. , 185. ,  183. , 196. , 175. , 366. , 196. , 193. , 188. , 180. , 188. , 178. , 175. , 188. , 201. , 173. , 180. , 180. , 178. , 188. , 180. , 168. , 168. , 185. , 185. , 175. , 178. , 180. , 185. ,  206. , 211. , 180. , 175. , 305. , 178. , 170. , 183. , 157. , 168. , 168. , 183. , 185. , 168. , 168. , 170. , 180. , 213. , 183. , 180. , 180. , 183. , 180. , 178. , 188. , 183. , 163. , 193. , 165. , 178. , 191. , 180. , 183. , 213. , 165. , 188. , 185. , 196. , 185. , 180. , 178. , 183. , 165. , 137. , 122. , 173. , 191. , 168. , 198. , 170. , 185. , 305. , 183. , 178. , 193. , 170. , 211. , 188. , 185. , 173. , 168. , 178. , 191. , 201. , 183. , 175. , 173. , 188. , 193. , 157. , 201. , 175. ,168. , 198. , 178. , 279. , 165. , 188. , 211. , 170. , 165. , 178. , 178. , 173. , 178. , 185. , 183. , 188. , 193. , 165. ,170. , 201. , 183. , 180. , 173. , 170. , 180. , 165. , 191. , 196. , 180. , 183. , 188. , 163. , 201. , 188. , 183. , 198. ,175. , 185. , 175. , 198. , 218. , 185. , 178. , 163. , 175. , 188. , 183. , 168. , 188. , 183. , 168. , 206. ,  15.2, 168. , 175. , 191. , 165. , 168. , 191. , 175. , 229. , 168. , 178. , 165. , 137. , 191. , 191. , 175. , 180. , 183. , 185. , 180. ,188. , 173. , 218. , 163. , 178. , 175. , 140. , 366. , 160. ,165. , 188. , 183. , 196. , 155. , 175. , 188. , 183. , 165. , 66. , 170. , 185. ])\n",
        "\n",
        "%mprun -f convert_units_broadcast convert_units_broadcast(heroes, hts, wts)"
      ],
      "execution_count": null,
      "outputs": [
        {
          "output_type": "stream",
          "text": [
            "\n"
          ],
          "name": "stdout"
        }
      ]
    },
    {
      "cell_type": "code",
      "metadata": {
        "id": "Ylp-DF2frNxI"
      },
      "source": [
        "publishers = ['Marvel Comics', 'Dark Horse Comics', 'DC Comics', 'Marvel Comics', 'Marvel Comics', 'DC Comics', 'Marvel Comics', 'Marvel Comics', 'Marvel Comics', 'Marvel Comics', 'Marvel Comics', 'DC Comics', 'DC Comics', 'Dark Horse Comics', 'DC Comics', 'Marvel Comics', 'Marvel Comics', 'Marvel Comics', 'Marvel Comics', 'DC Comics','Marvel Comics', 'Marvel Comics', 'Marvel Comics', 'Marvel Comics', 'Marvel Comics', 'DC Comics', 'DC Comics', 'Marvel Comics', 'Marvel Comics', 'Marvel Comics', 'Marvel Comics', 'Marvel Comics', 'Marvel Comics', 'Marvel Comics', 'Marvel Comics', 'DC Comics', 'DC Comics', 'DC Comics', 'Marvel Comics', 'Marvel Comics', 'DC Comics', 'Marvel Comics', 'Marvel Comics', 'DC Comics', 'DC Comics', 'DC Comics', 'DC Comics', 'DC Comics', 'Marvel Comics', 'Marvel Comics', 'Marvel Comics', 'DC Comics', 'Marvel Comics', 'DC Comics', 'Marvel Comics', 'Marvel Comics', 'Marvel Comics', 'DC Comics', 'DC Comics', 'Marvel Comics', 'DC Comics', 'Marvel Comics', 'Marvel Comics', 'DC Comics', 'Marvel Comics', 'DC Comics', 'Marvel Comics', 'Marvel Comics', 'Marvel Comics','Marvel Comics', 'Marvel Comics', 'Marvel Comics','Marvel Comics', 'Marvel Comics', 'Marvel Comics', 'Marvel Comics', 'Marvel Comics', 'Marvel Comics', 'DC Comics', 'Marvel Comics', 'DC Comics', 'Marvel Comics', 'DC Comics', 'DC Comics', 'Marvel Comics', 'Dark Horse Comics', 'Marvel Comics', 'DC Comics', 'Marvel Comics', 'Marvel Comics', 'Marvel Comics', 'Marvel Comics', 'DC Comics', 'Marvel Comics', 'Marvel Comics', 'Marvel Comics', 'DC Comics', 'Marvel Comics', 'Marvel Comics', 'DC Comics', 'Marvel Comics', 'Marvel Comics', 'Marvel Comics', 'Marvel Comics', 'DC Comics', 'DC Comics', 'DC Comics', 'Team Epic TV', 'DC Comics', 'Marvel Comics', 'DC Comics', 'Marvel Comics', 'Marvel Comics', 'Marvel Comics', 'Marvel Comics', 'Marvel Comics', 'Marvel Comics', 'DC Comics', 'Marvel Comics', 'Marvel Comics', 'Marvel Comics', 'Marvel Comics','Marvel Comics', 'DC Comics', 'Marvel Comics', 'George Lucas', 'Dark Horse Comics', 'Marvel Comics', 'DC Comics','Marvel Comics', 'DC Comics', 'Marvel Comics', 'DC Comics', 'Marvel Comics', 'Marvel Comics', 'Marvel Comics', 'Marvel Comics', 'Marvel Comics', 'Marvel Comics', 'DC Comics', 'Marvel Comics', 'Marvel Comics', 'Marvel Comics', 'DC Comics', 'DC Comics', 'Marvel Comics', 'Marvel Comics', 'Dark Horse Comics', 'Marvel Comics', 'Marvel Comics', 'DC Comics', 'Marvel Comics', 'DC Comics', 'DC Comics', 'Marvel Comics', 'Marvel Comics', 'Marvel Comics', 'Marvel Comics', 'Marvel Comics', 'Marvel Comics', 'Marvel Comics', 'Marvel Comics', 'Marvel Comics', 'Marvel Comics', 'DC Comics', 'DC Comics', 'DC Comics', 'DC Comics', 'DC Comics', 'Marvel Comics', 'Marvel Comics', 'Marvel Comics', 'Marvel Comics', 'Marvel Comics', 'Marvel Comics', 'Marvel Comics', 'Marvel Comics','Marvel Comics', 'Marvel Comics', 'DC Comics', 'Marvel Comics', 'Marvel Comics', 'Shueisha', 'Marvel Comics', 'DC Comics', 'DC Comics', 'Marvel Comics', 'DC Comics', 'Marvel Comics','Marvel Comics', 'Marvel Comics', 'Marvel Comics', 'Marvel Comics', 'DC Comics', 'DC Comics', 'George Lucas', 'DC Comics', 'Marvel Comics', 'DC Comics', 'Marvel Comics', 'Marvel Comics', 'DC Comics', 'DC Comics', 'DC Comics', 'DC Comics', 'DC Comics', 'Marvel Comics', 'Dark Horse Comics', 'Marvel Comics', 'Marvel Comics', 'Marvel Comics', 'Marvel Comics','Marvel Comics', 'Marvel Comics', 'Marvel Comics', 'Marvel Comics', 'DC Comics', 'Marvel Comics', 'Marvel Comics','Marvel Comics', 'Marvel Comics', 'Marvel Comics', 'DC Comics', 'Marvel Comics', 'Marvel Comics', 'Marvel Comics', 'Marvel Comics', 'Marvel Comics', 'Dark Horse Comics', 'Star Trek', 'Marvel Comics', 'Marvel Comics', 'Marvel Comics', 'Marvel Comics', 'DC Comics', 'Marvel Comics', 'DC Comics', 'Marvel Comics', 'Marvel Comics', 'Marvel Comics', 'Marvel Comics', 'Marvel Comics', 'DC Comics', 'DC Comics', 'DC Comics', 'Marvel Comics', 'Marvel Comics', 'Marvel Comics', 'Marvel Comics', 'DC Comics', 'DC Comics', 'Marvel Comics', 'Marvel Comics', 'Marvel Comics', 'DC Comics', 'DC Comics', 'DC Comics', 'DC Comics', 'Marvel Comics', 'Marvel Comics', 'DC Comics', 'Marvel Comics', 'Marvel Comics', 'Marvel Comics', 'George Lucas', 'Marvel Comics', 'Marvel Comics', 'Marvel Comics', 'Marvel Comics', 'Marvel Comics', 'Marvel Comics', 'Marvel Comics', 'DC Comics', 'Marvel Comics', 'Team Epic TV', 'Marvel Comics', 'DC Comics', 'Marvel Comics', 'Marvel Comics', 'Marvel Comics', 'DC Comics', 'DC Comics', 'DC Comics', 'DC Comics', 'DC Comics', 'Marvel Comics', 'DC Comics', 'Marvel Comics', 'DC Comics', 'Marvel Comics', 'Marvel Comics', 'Marvel Comics', 'Marvel Comics', 'DC Comics', 'Marvel Comics','Marvel Comics', 'Marvel Comics', 'Marvel Comics', 'Marvel Comics', 'Marvel Comics', 'Dark Horse Comics', 'Marvel Comics', 'Marvel Comics', 'Marvel Comics', 'Marvel Comics', 'Marvel Comics', 'Marvel Comics', 'Marvel Comics', 'Shueisha', 'Marvel Comics', 'Marvel Comics', 'Marvel Comics', 'DC Comics', 'Marvel Comics', 'Marvel Comics', 'Marvel Comics', 'Marvel Comics', 'Team Epic TV', 'Shueisha', 'Marvel Comics', 'DC Comics', 'Sony Pictures', 'Marvel Comics', 'DC Comics', 'DC Comics', 'Marvel Comics', 'Marvel Comics', 'DC Comics', 'DC Comics', 'DC Comics', 'Marvel Comics', 'DC Comics', 'Dark Horse Comics', 'Marvel Comics', 'DC Comics', 'Marvel Comics', 'Marvel Comics', 'Marvel Comics', 'Marvel Comics', 'DC Comics', 'Marvel Comics', 'Marvel Comics', 'DC Comics', 'DC Comics', 'DC Comics', 'Marvel Comics', 'DC Comics', 'DC Comics', 'Marvel Comics', 'DC Comics', 'Marvel Comics', 'DC Comics', 'Marvel Comics', 'DC Comics', 'Marvel Comics', 'DC Comics', 'DC Comics', 'DC Comics', 'DC Comics', 'Marvel Comics', 'Marvel Comics', 'Marvel Comics', 'DC Comics', 'Marvel Comics', 'Marvel Comics', 'Marvel Comics', 'Marvel Comics', 'DC Comics', 'Marvel Comics', 'Marvel Comics', 'Marvel Comics', 'Marvel Comics','Marvel Comics', 'Marvel Comics', 'DC Comics', 'Marvel Comics', 'Marvel Comics', 'Marvel Comics', 'Marvel Comics', 'Marvel Comics', 'Marvel Comics', 'Marvel Comics', 'Marvel Comics', 'Marvel Comics', 'Marvel Comics', 'DC Comics', 'DC Comics', 'Marvel Comics', 'Marvel Comics', 'Marvel Comics', 'DC Comics', 'Marvel Comics', 'DC Comics', 'Image Comics', 'Marvel Comics', 'Marvel Comics', 'Marvel Comics', 'Marvel Comics', 'Marvel Comics', 'Marvel Comics', 'Star Trek', 'Marvel Comics', 'Marvel Comics', 'DC Comics','DC Comics', 'DC Comics','DC Comics','DC Comics','Marvel Comics', 'Marvel Comics', 'DC Comics','DC Comics', 'DC Comics','DC Comics', 'Marvel Comics', 'Marvel Comics', 'Dark Horse Comics', 'Marvel Comics','Marvel Comics', 'Marvel Comics', 'DC Comics', 'Marvel Comics', 'Marvel Comics', 'Marvel Comics', 'Marvel Comics', 'Marvel Comics', 'Marvel Comics','Marvel Comics', 'Marvel Comics', 'Marvel Comics', 'Marvel Comics', 'Marvel Comics', 'Marvel Comics', 'DC Comics', 'DC Comics', 'Marvel Comics', 'DC Comics', 'Marvel Comics', 'Marvel Comics', 'Marvel Comics', 'Marvel Comics', 'Team Epic TV', 'Marvel Comics', 'Marvel Comics', 'Shueisha','Marvel Comics', 'Marvel Comics', 'Marvel Comics', 'Marvel Comics', 'DC Comics', 'Marvel Comics', 'Dark Horse Comics', 'Marvel Comics', 'Marvel Comics', 'DC Comics', 'Marvel Comics','Marvel Comics', 'Marvel Comics', 'Marvel Comics', 'Marvel Comics', 'DC Comics', 'Marvel Comics', 'Marvel Comics', 'Marvel Comics', 'Marvel Comics', 'Marvel Comics', 'Marvel Comics', 'Marvel Comics', 'DC Comics', 'Marvel Comics', 'DC Comics', 'Marvel Comics', 'Marvel Comics', 'Marvel Comics', 'Marvel Comics', 'Marvel Comics', 'Marvel Comics', 'George Lucas', 'DC Comics', 'DC Comics']\n",
        "heroes = ['A-Bomb',  'Abe Sapien', 'Abin Sur', 'Abomination', 'Absorbing Man', 'Adam Strange', 'Agent 13', 'Agent Bob', 'Agent Zero', 'Air-Walker', 'Ajax', 'Alan Scott', 'Alfred Pennyworth', 'Alien', 'Amazo', 'Ammo', 'Angel', 'Angel Dust', 'Angel Salvadore', 'Animal Man', 'Annihilus', 'Ant-Man', 'Ant-Man II','Anti-Venom', 'Apocalypse', 'Aqualad', 'Aquaman', 'Arachne', 'Archangel', 'Arclight', 'Ardina', 'Ares', 'Ariel', 'Armor', 'Atlas', 'Atom', 'Atom Girl', 'Atom II', 'Aurora', 'Azazel', 'Bane', 'Banshee', 'Bantam', 'Batgirl', 'Batgirl IV', 'Batgirl VI', 'Batman', 'Batman II', 'Battlestar', 'Beak', 'Beast', 'Beast Boy', 'Beta Ray Bill', 'Big Barda', 'Big Man', 'Binary', 'Bishop', 'Bizarro', 'Black Adam', 'Black Bolt', 'Black Canary', 'Black Cat', 'Black Knight III', 'Black Lightning', 'Black Mamba', 'Black Manta', 'Black Panther', 'Black Widow', 'Black Widow II', 'Blackout', 'Blackwing', 'Blackwulf', 'Blade', 'Bling!', 'Blink', 'Blizzard II', 'Blob', 'Bloodaxe', 'Blue Beetle II', 'Boom-Boom', 'Booster Gold', 'Box III', 'Brainiac', 'Brainiac 5', 'Brother Voodoo', 'Buffy', 'Bullseye', 'Bumblebee', 'Cable', 'Callisto', 'Cannonball', 'Captain America', 'Captain Atom', 'Captain Britain', 'Captain Mar-vell', 'Captain Marvel', 'Captain Marvel II', 'Carnage', 'Cat', 'Catwoman', 'Cecilia Reyes', 'Century', 'Chamber', 'Changeling', 'Cheetah', 'Cheetah II', 'Cheetah III', 'Chromos', 'Citizen Steel', 'Cloak', 'Clock King', 'Colossus', 'Copycat', 'Corsair', 'Cottonmouth', 'Crimson Dynamo', 'Crystal', 'Cyborg', 'Cyclops', 'Cypher', 'Dagger', 'Daredevil','Darkhawk', 'Darkseid', 'Darkstar', 'Darth Vader', 'Dash', 'Dazzler',  'Deadman', 'Deadpool', 'Deadshot', 'Deathlok', 'Deathstroke', 'Demogoblin', 'Destroyer', 'Diamondback', 'Doc Samson', 'Doctor Doom', 'Doctor Doom II', 'Doctor Fate', 'Doctor Octopus', 'Doctor Strange', 'Domino', 'Donna Troy', 'Doomsday', 'Doppelganger', 'Drax the Destroyer', 'Elastigirl', 'Electro', 'Elektra', 'Elongated Man', 'Emma Frost', 'Enchantress', 'Etrigan','Evil Deadpool', 'Evilhawk', 'Exodus', 'Fabian Cortez', 'Falcon', 'Feral', 'Fin Fang Foom', 'Firebird', 'Firelord', 'Firestar', 'Firestorm', 'Flash', 'Flash II', 'Flash III', 'Flash IV', 'Forge', 'Franklin Richards', 'Franklin Storm', 'Frenzy', 'Frigga', 'Galactus', 'Gambit', 'Gamora', 'Genesis', 'Ghost Rider', 'Giganta', 'Gladiator', 'Goblin Queen', 'Goku', 'Goliath IV', 'Gorilla Grodd', 'Granny Goodness', 'Gravity', 'Green Arrow', 'Green Goblin', 'Green Goblin II', 'Green Goblin III', 'Green Goblin IV', 'Groot', 'Guy Gardner', 'Hal Jordan', 'Han Solo', 'Harley Quinn', 'Havok', 'Hawk', 'Hawkeye', 'Hawkeye II', 'Hawkgirl', 'Hawkman', 'Hawkwoman', 'Hawkwoman III', 'Heat Wave', 'Hela', 'Hellboy', 'Hellcat', 'Hellstorm', 'Hercules', 'Hobgoblin', 'Hope Summers', 'Howard the Duck', 'Hulk', 'Human Torch', 'Huntress', 'Husk', 'Hybrid', 'Hydro-Man', 'Hyperion', 'Iceman', 'Impulse', 'Ink', 'Invisible Woman', 'Iron Fist', 'Iron Man', 'Jack of Hearts', 'Jack-Jack', 'James T. Kirk', 'Jean Grey', 'Jennifer Kale', 'Jessica Jones', 'Jigsaw', 'John Stewart', 'John Wraith', 'Joker', 'Jolt', 'Jubilee', 'Juggernaut', 'Justice', 'Kang', 'Karate Kid', 'Killer Croc', 'Kilowog', 'Kingpin', 'Klaw', 'Kraven II', 'Kraven the Hunter', 'Krypto', 'Kyle Rayner', 'Lady Deathstrike', 'Leader', 'Legion', 'Lex Luthor', 'Light Lass', 'Lightning Lad', 'Lightning Lord', 'Living Brain', 'Lizard', 'Lobo', 'Loki', 'Longshot', 'Luke Cage', 'Luke Skywalker', 'Mach-IV', 'Machine Man', 'Magneto', 'Man-Thing', 'Man-Wolf', 'Mandarin', 'Mantis', 'Martian Manhunter', 'Marvel Girl', 'Master Brood', 'Maverick', 'Maxima', 'Medusa', 'Meltdown', 'Mephisto', 'Mera', 'Metallo', 'Metamorpho', 'Metron', 'Micro Lad', 'Mimic', 'Miss Martian', 'Mister Fantastic', 'Mister Freeze', 'Mister Sinister', 'Mockingbird', 'MODOK', 'Molten Man', 'Monarch', 'Moon Knight', 'Moonstone', 'Morlun', 'Morph', 'Moses Magnum', 'Mr Immortal', 'Mr Incredible', 'Ms Marvel II', 'Multiple Man', 'Mysterio', 'Mystique', 'Namor', 'Namora', 'Namorita', 'Naruto Uzumaki', 'Nebula', 'Nick Fury', 'Nightcrawler', 'Nightwing', 'Northstar', 'Nova', 'Odin', 'Omega Red', 'Omniscient', 'One Punch Man', 'Onslaught', 'Oracle', 'Paul Blart', 'Penance II', 'Penguin', 'Phantom Girl', 'Phoenix', 'Plantman', 'Plastic Man', 'Plastique', 'Poison Ivy', 'Polaris', 'Power Girl', 'Predator', 'Professor X', 'Professor Zoom', 'Psylocke', 'Punisher', 'Purple Man', 'Pyro', 'Question', 'Quicksilver', 'Quill', \"Ra's Al Ghul\", 'Raven', 'Ray', 'Razor-Fist II', 'Red Arrow', 'Red Hood', 'Red Hulk', 'Red Robin', 'Red Skull', 'Red Tornado', 'Rhino', 'Rick Flag', 'Ripcord', 'Robin', 'Robin II', 'Robin III', 'Robin V', 'Rocket Raccoon', 'Rogue', 'Ronin', 'Rorschach', 'Sabretooth', 'Sage', 'Sandman', 'Sasquatch', 'Scarecrow', 'Scarlet Spider', 'Scarlet Spider II', 'Scarlet Witch', 'Scorpion', 'Sentry', 'Shadow King', 'Shadow Lass', 'Shadowcat', 'Shang-Chi', 'Shatterstar', 'She-Hulk', 'She-Thing', 'Shocker', 'Shriek', 'Sif', 'Silver Surfer', 'Silverclaw', 'Sinestro', 'Siren', 'Siryn', 'Skaar', 'Snowbird', 'Solomon Grundy', 'Songbird', 'Space Ghost', 'Spawn', 'Spider-Girl', 'Spider-Gwen', 'Spider-Man', 'Spider-Woman', 'Spider-Woman III', 'Spider-Woman IV', 'Spock', 'Spyke', 'Star-Lord', 'Starfire', 'Stargirl', 'Static', 'Steel', 'Steppenwolf', 'Storm', 'Sunspot','Superboy', 'Superboy-Prime', 'Supergirl', 'Superman', 'Swarm', 'Synch', 'T-1000', 'Taskmaster', 'Tempest', 'Thanos', 'The Comedian', 'Thing', 'Thor', 'Thor Girl', 'Thunderbird', 'Thunderbird III', 'Thunderstrike', 'Thundra', 'Tiger Shark', 'Tigra', 'Tinkerer', 'Toad', 'Toxin', 'Trickster', 'Triplicate Girl', 'Triton', 'Two-Face', 'Ultragirl', 'Ultron', 'Utgard-Loki', 'Vagabond', 'Valerie Hart', 'Valkyrie', 'Vanisher', 'Vegeta', 'Venom', 'Venom II', 'Venom III', 'Vertigo II', 'Vibe', 'Vindicator', 'Violet Parr', 'Vision', 'Vision II', 'Vixen', 'Vulture', 'Walrus', 'War Machine', 'Warbird', 'Warlock', 'Warp', 'Warpath', 'Wasp', 'White Queen', 'Winter Soldier', 'Wiz Kid', 'Wolfsbane', 'Wolverine', 'Wonder Girl', 'Wonder Man', 'Wonder Woman', 'Wyatt Wingfoot', 'X-23', 'X-Man', 'Yellow Claw', 'Yellowjacket', 'Yellowjacket II', 'Yoda', 'Zatanna', 'Zoom']\n",
        "\n",
        "def get_publisher_heroes(heroes, publishers, desired_publisher):\n",
        "\n",
        "    desired_heroes = []\n",
        "\n",
        "    for i,pub in enumerate(publishers):\n",
        "        if pub == desired_publisher:\n",
        "            desired_heroes.append(heroes[i])\n",
        "\n",
        "    return desired_heroes\n",
        "\n",
        "%reload_ext line_profiler\n",
        "%lprun -f get_publisher_heroes get_publisher_heroes(heroes, publishers, \"George Lucas\")\n"
      ],
      "execution_count": null,
      "outputs": []
    },
    {
      "cell_type": "code",
      "metadata": {
        "id": "lP6PzOcEt-ko"
      },
      "source": [
        "publishers = ['Marvel Comics', 'Dark Horse Comics', 'DC Comics', 'Marvel Comics', 'Marvel Comics', 'DC Comics', 'Marvel Comics', 'Marvel Comics', 'Marvel Comics', 'Marvel Comics', 'Marvel Comics', 'DC Comics', 'DC Comics', 'Dark Horse Comics', 'DC Comics', 'Marvel Comics', 'Marvel Comics', 'Marvel Comics', 'Marvel Comics', 'DC Comics','Marvel Comics', 'Marvel Comics', 'Marvel Comics', 'Marvel Comics', 'Marvel Comics', 'DC Comics', 'DC Comics', 'Marvel Comics', 'Marvel Comics', 'Marvel Comics', 'Marvel Comics', 'Marvel Comics', 'Marvel Comics', 'Marvel Comics', 'Marvel Comics', 'DC Comics', 'DC Comics', 'DC Comics', 'Marvel Comics', 'Marvel Comics', 'DC Comics', 'Marvel Comics', 'Marvel Comics', 'DC Comics', 'DC Comics', 'DC Comics', 'DC Comics', 'DC Comics', 'Marvel Comics', 'Marvel Comics', 'Marvel Comics', 'DC Comics', 'Marvel Comics', 'DC Comics', 'Marvel Comics', 'Marvel Comics', 'Marvel Comics', 'DC Comics', 'DC Comics', 'Marvel Comics', 'DC Comics', 'Marvel Comics', 'Marvel Comics', 'DC Comics', 'Marvel Comics', 'DC Comics', 'Marvel Comics', 'Marvel Comics', 'Marvel Comics','Marvel Comics', 'Marvel Comics', 'Marvel Comics','Marvel Comics', 'Marvel Comics', 'Marvel Comics', 'Marvel Comics', 'Marvel Comics', 'Marvel Comics', 'DC Comics', 'Marvel Comics', 'DC Comics', 'Marvel Comics', 'DC Comics', 'DC Comics', 'Marvel Comics', 'Dark Horse Comics', 'Marvel Comics', 'DC Comics', 'Marvel Comics', 'Marvel Comics', 'Marvel Comics', 'Marvel Comics', 'DC Comics', 'Marvel Comics', 'Marvel Comics', 'Marvel Comics', 'DC Comics', 'Marvel Comics', 'Marvel Comics', 'DC Comics', 'Marvel Comics', 'Marvel Comics', 'Marvel Comics', 'Marvel Comics', 'DC Comics', 'DC Comics', 'DC Comics', 'Team Epic TV', 'DC Comics', 'Marvel Comics', 'DC Comics', 'Marvel Comics', 'Marvel Comics', 'Marvel Comics', 'Marvel Comics', 'Marvel Comics', 'Marvel Comics', 'DC Comics', 'Marvel Comics', 'Marvel Comics', 'Marvel Comics', 'Marvel Comics','Marvel Comics', 'DC Comics', 'Marvel Comics', 'George Lucas', 'Dark Horse Comics', 'Marvel Comics', 'DC Comics','Marvel Comics', 'DC Comics', 'Marvel Comics', 'DC Comics', 'Marvel Comics', 'Marvel Comics', 'Marvel Comics', 'Marvel Comics', 'Marvel Comics', 'Marvel Comics', 'DC Comics', 'Marvel Comics', 'Marvel Comics', 'Marvel Comics', 'DC Comics', 'DC Comics', 'Marvel Comics', 'Marvel Comics', 'Dark Horse Comics', 'Marvel Comics', 'Marvel Comics', 'DC Comics', 'Marvel Comics', 'DC Comics', 'DC Comics', 'Marvel Comics', 'Marvel Comics', 'Marvel Comics', 'Marvel Comics', 'Marvel Comics', 'Marvel Comics', 'Marvel Comics', 'Marvel Comics', 'Marvel Comics', 'Marvel Comics', 'DC Comics', 'DC Comics', 'DC Comics', 'DC Comics', 'DC Comics', 'Marvel Comics', 'Marvel Comics', 'Marvel Comics', 'Marvel Comics', 'Marvel Comics', 'Marvel Comics', 'Marvel Comics', 'Marvel Comics','Marvel Comics', 'Marvel Comics', 'DC Comics', 'Marvel Comics', 'Marvel Comics', 'Shueisha', 'Marvel Comics', 'DC Comics', 'DC Comics', 'Marvel Comics', 'DC Comics', 'Marvel Comics','Marvel Comics', 'Marvel Comics', 'Marvel Comics', 'Marvel Comics', 'DC Comics', 'DC Comics', 'George Lucas', 'DC Comics', 'Marvel Comics', 'DC Comics', 'Marvel Comics', 'Marvel Comics', 'DC Comics', 'DC Comics', 'DC Comics', 'DC Comics', 'DC Comics', 'Marvel Comics', 'Dark Horse Comics', 'Marvel Comics', 'Marvel Comics', 'Marvel Comics', 'Marvel Comics','Marvel Comics', 'Marvel Comics', 'Marvel Comics', 'Marvel Comics', 'DC Comics', 'Marvel Comics', 'Marvel Comics','Marvel Comics', 'Marvel Comics', 'Marvel Comics', 'DC Comics', 'Marvel Comics', 'Marvel Comics', 'Marvel Comics', 'Marvel Comics', 'Marvel Comics', 'Dark Horse Comics', 'Star Trek', 'Marvel Comics', 'Marvel Comics', 'Marvel Comics', 'Marvel Comics', 'DC Comics', 'Marvel Comics', 'DC Comics', 'Marvel Comics', 'Marvel Comics', 'Marvel Comics', 'Marvel Comics', 'Marvel Comics', 'DC Comics', 'DC Comics', 'DC Comics', 'Marvel Comics', 'Marvel Comics', 'Marvel Comics', 'Marvel Comics', 'DC Comics', 'DC Comics', 'Marvel Comics', 'Marvel Comics', 'Marvel Comics', 'DC Comics', 'DC Comics', 'DC Comics', 'DC Comics', 'Marvel Comics', 'Marvel Comics', 'DC Comics', 'Marvel Comics', 'Marvel Comics', 'Marvel Comics', 'George Lucas', 'Marvel Comics', 'Marvel Comics', 'Marvel Comics', 'Marvel Comics', 'Marvel Comics', 'Marvel Comics', 'Marvel Comics', 'DC Comics', 'Marvel Comics', 'Team Epic TV', 'Marvel Comics', 'DC Comics', 'Marvel Comics', 'Marvel Comics', 'Marvel Comics', 'DC Comics', 'DC Comics', 'DC Comics', 'DC Comics', 'DC Comics', 'Marvel Comics', 'DC Comics', 'Marvel Comics', 'DC Comics', 'Marvel Comics', 'Marvel Comics', 'Marvel Comics', 'Marvel Comics', 'DC Comics', 'Marvel Comics','Marvel Comics', 'Marvel Comics', 'Marvel Comics', 'Marvel Comics', 'Marvel Comics', 'Dark Horse Comics', 'Marvel Comics', 'Marvel Comics', 'Marvel Comics', 'Marvel Comics', 'Marvel Comics', 'Marvel Comics', 'Marvel Comics', 'Shueisha', 'Marvel Comics', 'Marvel Comics', 'Marvel Comics', 'DC Comics', 'Marvel Comics', 'Marvel Comics', 'Marvel Comics', 'Marvel Comics', 'Team Epic TV', 'Shueisha', 'Marvel Comics', 'DC Comics', 'Sony Pictures', 'Marvel Comics', 'DC Comics', 'DC Comics', 'Marvel Comics', 'Marvel Comics', 'DC Comics', 'DC Comics', 'DC Comics', 'Marvel Comics', 'DC Comics', 'Dark Horse Comics', 'Marvel Comics', 'DC Comics', 'Marvel Comics', 'Marvel Comics', 'Marvel Comics', 'Marvel Comics', 'DC Comics', 'Marvel Comics', 'Marvel Comics', 'DC Comics', 'DC Comics', 'DC Comics', 'Marvel Comics', 'DC Comics', 'DC Comics', 'Marvel Comics', 'DC Comics', 'Marvel Comics', 'DC Comics', 'Marvel Comics', 'DC Comics', 'Marvel Comics', 'DC Comics', 'DC Comics', 'DC Comics', 'DC Comics', 'Marvel Comics', 'Marvel Comics', 'Marvel Comics', 'DC Comics', 'Marvel Comics', 'Marvel Comics', 'Marvel Comics', 'Marvel Comics', 'DC Comics', 'Marvel Comics', 'Marvel Comics', 'Marvel Comics', 'Marvel Comics','Marvel Comics', 'Marvel Comics', 'DC Comics', 'Marvel Comics', 'Marvel Comics', 'Marvel Comics', 'Marvel Comics', 'Marvel Comics', 'Marvel Comics', 'Marvel Comics', 'Marvel Comics', 'Marvel Comics', 'Marvel Comics', 'DC Comics', 'DC Comics', 'Marvel Comics', 'Marvel Comics', 'Marvel Comics', 'DC Comics', 'Marvel Comics', 'DC Comics', 'Image Comics', 'Marvel Comics', 'Marvel Comics', 'Marvel Comics', 'Marvel Comics', 'Marvel Comics', 'Marvel Comics', 'Star Trek', 'Marvel Comics', 'Marvel Comics', 'DC Comics','DC Comics', 'DC Comics','DC Comics','DC Comics','Marvel Comics', 'Marvel Comics', 'DC Comics','DC Comics', 'DC Comics','DC Comics', 'Marvel Comics', 'Marvel Comics', 'Dark Horse Comics', 'Marvel Comics','Marvel Comics', 'Marvel Comics', 'DC Comics', 'Marvel Comics', 'Marvel Comics', 'Marvel Comics', 'Marvel Comics', 'Marvel Comics', 'Marvel Comics','Marvel Comics', 'Marvel Comics', 'Marvel Comics', 'Marvel Comics', 'Marvel Comics', 'Marvel Comics', 'DC Comics', 'DC Comics', 'Marvel Comics', 'DC Comics', 'Marvel Comics', 'Marvel Comics', 'Marvel Comics', 'Marvel Comics', 'Team Epic TV', 'Marvel Comics', 'Marvel Comics', 'Shueisha','Marvel Comics', 'Marvel Comics', 'Marvel Comics', 'Marvel Comics', 'DC Comics', 'Marvel Comics', 'Dark Horse Comics', 'Marvel Comics', 'Marvel Comics', 'DC Comics', 'Marvel Comics','Marvel Comics', 'Marvel Comics', 'Marvel Comics', 'Marvel Comics', 'DC Comics', 'Marvel Comics', 'Marvel Comics', 'Marvel Comics', 'Marvel Comics', 'Marvel Comics', 'Marvel Comics', 'Marvel Comics', 'DC Comics', 'Marvel Comics', 'DC Comics', 'Marvel Comics', 'Marvel Comics', 'Marvel Comics', 'Marvel Comics', 'Marvel Comics', 'Marvel Comics', 'George Lucas', 'DC Comics', 'DC Comics']\n",
        "heroes = ['A-Bomb',  'Abe Sapien', 'Abin Sur', 'Abomination', 'Absorbing Man', 'Adam Strange', 'Agent 13', 'Agent Bob', 'Agent Zero', 'Air-Walker', 'Ajax', 'Alan Scott', 'Alfred Pennyworth', 'Alien', 'Amazo', 'Ammo', 'Angel', 'Angel Dust', 'Angel Salvadore', 'Animal Man', 'Annihilus', 'Ant-Man', 'Ant-Man II','Anti-Venom', 'Apocalypse', 'Aqualad', 'Aquaman', 'Arachne', 'Archangel', 'Arclight', 'Ardina', 'Ares', 'Ariel', 'Armor', 'Atlas', 'Atom', 'Atom Girl', 'Atom II', 'Aurora', 'Azazel', 'Bane', 'Banshee', 'Bantam', 'Batgirl', 'Batgirl IV', 'Batgirl VI', 'Batman', 'Batman II', 'Battlestar', 'Beak', 'Beast', 'Beast Boy', 'Beta Ray Bill', 'Big Barda', 'Big Man', 'Binary', 'Bishop', 'Bizarro', 'Black Adam', 'Black Bolt', 'Black Canary', 'Black Cat', 'Black Knight III', 'Black Lightning', 'Black Mamba', 'Black Manta', 'Black Panther', 'Black Widow', 'Black Widow II', 'Blackout', 'Blackwing', 'Blackwulf', 'Blade', 'Bling!', 'Blink', 'Blizzard II', 'Blob', 'Bloodaxe', 'Blue Beetle II', 'Boom-Boom', 'Booster Gold', 'Box III', 'Brainiac', 'Brainiac 5', 'Brother Voodoo', 'Buffy', 'Bullseye', 'Bumblebee', 'Cable', 'Callisto', 'Cannonball', 'Captain America', 'Captain Atom', 'Captain Britain', 'Captain Mar-vell', 'Captain Marvel', 'Captain Marvel II', 'Carnage', 'Cat', 'Catwoman', 'Cecilia Reyes', 'Century', 'Chamber', 'Changeling', 'Cheetah', 'Cheetah II', 'Cheetah III', 'Chromos', 'Citizen Steel', 'Cloak', 'Clock King', 'Colossus', 'Copycat', 'Corsair', 'Cottonmouth', 'Crimson Dynamo', 'Crystal', 'Cyborg', 'Cyclops', 'Cypher', 'Dagger', 'Daredevil','Darkhawk', 'Darkseid', 'Darkstar', 'Darth Vader', 'Dash', 'Dazzler',  'Deadman', 'Deadpool', 'Deadshot', 'Deathlok', 'Deathstroke', 'Demogoblin', 'Destroyer', 'Diamondback', 'Doc Samson', 'Doctor Doom', 'Doctor Doom II', 'Doctor Fate', 'Doctor Octopus', 'Doctor Strange', 'Domino', 'Donna Troy', 'Doomsday', 'Doppelganger', 'Drax the Destroyer', 'Elastigirl', 'Electro', 'Elektra', 'Elongated Man', 'Emma Frost', 'Enchantress', 'Etrigan','Evil Deadpool', 'Evilhawk', 'Exodus', 'Fabian Cortez', 'Falcon', 'Feral', 'Fin Fang Foom', 'Firebird', 'Firelord', 'Firestar', 'Firestorm', 'Flash', 'Flash II', 'Flash III', 'Flash IV', 'Forge', 'Franklin Richards', 'Franklin Storm', 'Frenzy', 'Frigga', 'Galactus', 'Gambit', 'Gamora', 'Genesis', 'Ghost Rider', 'Giganta', 'Gladiator', 'Goblin Queen', 'Goku', 'Goliath IV', 'Gorilla Grodd', 'Granny Goodness', 'Gravity', 'Green Arrow', 'Green Goblin', 'Green Goblin II', 'Green Goblin III', 'Green Goblin IV', 'Groot', 'Guy Gardner', 'Hal Jordan', 'Han Solo', 'Harley Quinn', 'Havok', 'Hawk', 'Hawkeye', 'Hawkeye II', 'Hawkgirl', 'Hawkman', 'Hawkwoman', 'Hawkwoman III', 'Heat Wave', 'Hela', 'Hellboy', 'Hellcat', 'Hellstorm', 'Hercules', 'Hobgoblin', 'Hope Summers', 'Howard the Duck', 'Hulk', 'Human Torch', 'Huntress', 'Husk', 'Hybrid', 'Hydro-Man', 'Hyperion', 'Iceman', 'Impulse', 'Ink', 'Invisible Woman', 'Iron Fist', 'Iron Man', 'Jack of Hearts', 'Jack-Jack', 'James T. Kirk', 'Jean Grey', 'Jennifer Kale', 'Jessica Jones', 'Jigsaw', 'John Stewart', 'John Wraith', 'Joker', 'Jolt', 'Jubilee', 'Juggernaut', 'Justice', 'Kang', 'Karate Kid', 'Killer Croc', 'Kilowog', 'Kingpin', 'Klaw', 'Kraven II', 'Kraven the Hunter', 'Krypto', 'Kyle Rayner', 'Lady Deathstrike', 'Leader', 'Legion', 'Lex Luthor', 'Light Lass', 'Lightning Lad', 'Lightning Lord', 'Living Brain', 'Lizard', 'Lobo', 'Loki', 'Longshot', 'Luke Cage', 'Luke Skywalker', 'Mach-IV', 'Machine Man', 'Magneto', 'Man-Thing', 'Man-Wolf', 'Mandarin', 'Mantis', 'Martian Manhunter', 'Marvel Girl', 'Master Brood', 'Maverick', 'Maxima', 'Medusa', 'Meltdown', 'Mephisto', 'Mera', 'Metallo', 'Metamorpho', 'Metron', 'Micro Lad', 'Mimic', 'Miss Martian', 'Mister Fantastic', 'Mister Freeze', 'Mister Sinister', 'Mockingbird', 'MODOK', 'Molten Man', 'Monarch', 'Moon Knight', 'Moonstone', 'Morlun', 'Morph', 'Moses Magnum', 'Mr Immortal', 'Mr Incredible', 'Ms Marvel II', 'Multiple Man', 'Mysterio', 'Mystique', 'Namor', 'Namora', 'Namorita', 'Naruto Uzumaki', 'Nebula', 'Nick Fury', 'Nightcrawler', 'Nightwing', 'Northstar', 'Nova', 'Odin', 'Omega Red', 'Omniscient', 'One Punch Man', 'Onslaught', 'Oracle', 'Paul Blart', 'Penance II', 'Penguin', 'Phantom Girl', 'Phoenix', 'Plantman', 'Plastic Man', 'Plastique', 'Poison Ivy', 'Polaris', 'Power Girl', 'Predator', 'Professor X', 'Professor Zoom', 'Psylocke', 'Punisher', 'Purple Man', 'Pyro', 'Question', 'Quicksilver', 'Quill', \"Ra's Al Ghul\", 'Raven', 'Ray', 'Razor-Fist II', 'Red Arrow', 'Red Hood', 'Red Hulk', 'Red Robin', 'Red Skull', 'Red Tornado', 'Rhino', 'Rick Flag', 'Ripcord', 'Robin', 'Robin II', 'Robin III', 'Robin V', 'Rocket Raccoon', 'Rogue', 'Ronin', 'Rorschach', 'Sabretooth', 'Sage', 'Sandman', 'Sasquatch', 'Scarecrow', 'Scarlet Spider', 'Scarlet Spider II', 'Scarlet Witch', 'Scorpion', 'Sentry', 'Shadow King', 'Shadow Lass', 'Shadowcat', 'Shang-Chi', 'Shatterstar', 'She-Hulk', 'She-Thing', 'Shocker', 'Shriek', 'Sif', 'Silver Surfer', 'Silverclaw', 'Sinestro', 'Siren', 'Siryn', 'Skaar', 'Snowbird', 'Solomon Grundy', 'Songbird', 'Space Ghost', 'Spawn', 'Spider-Girl', 'Spider-Gwen', 'Spider-Man', 'Spider-Woman', 'Spider-Woman III', 'Spider-Woman IV', 'Spock', 'Spyke', 'Star-Lord', 'Starfire', 'Stargirl', 'Static', 'Steel', 'Steppenwolf', 'Storm', 'Sunspot','Superboy', 'Superboy-Prime', 'Supergirl', 'Superman', 'Swarm', 'Synch', 'T-1000', 'Taskmaster', 'Tempest', 'Thanos', 'The Comedian', 'Thing', 'Thor', 'Thor Girl', 'Thunderbird', 'Thunderbird III', 'Thunderstrike', 'Thundra', 'Tiger Shark', 'Tigra', 'Tinkerer', 'Toad', 'Toxin', 'Trickster', 'Triplicate Girl', 'Triton', 'Two-Face', 'Ultragirl', 'Ultron', 'Utgard-Loki', 'Vagabond', 'Valerie Hart', 'Valkyrie', 'Vanisher', 'Vegeta', 'Venom', 'Venom II', 'Venom III', 'Vertigo II', 'Vibe', 'Vindicator', 'Violet Parr', 'Vision', 'Vision II', 'Vixen', 'Vulture', 'Walrus', 'War Machine', 'Warbird', 'Warlock', 'Warp', 'Warpath', 'Wasp', 'White Queen', 'Winter Soldier', 'Wiz Kid', 'Wolfsbane', 'Wolverine', 'Wonder Girl', 'Wonder Man', 'Wonder Woman', 'Wyatt Wingfoot', 'X-23', 'X-Man', 'Yellow Claw', 'Yellowjacket', 'Yellowjacket II', 'Yoda', 'Zatanna', 'Zoom']\n",
        "\n",
        "%reload_ext line_profiler\n",
        "\n",
        "def get_publisher_heroes_np(heroes, publishers, desired_publisher):\n",
        "\n",
        "    heroes_np = np.array(heroes)\n",
        "    pubs_np = np.array(publishers)\n",
        "\n",
        "    desired_heroes = heroes_np[pubs_np == desired_publisher]\n",
        "\n",
        "    return desired_heroes\n",
        "\n",
        "%lprun -f get_publisher_heroes_np get_publisher_heroes_np(heroes, publishers, \"George Lucas\")\n"
      ],
      "execution_count": null,
      "outputs": []
    },
    {
      "cell_type": "code",
      "metadata": {
        "colab": {
          "base_uri": "https://localhost:8080/"
        },
        "id": "EueKXWmzF6Nc",
        "outputId": "6fe6b546-5c1c-4470-84a7-ab88e43f6c8f"
      },
      "source": [
        "import pandas as pd\n",
        "\n",
        "# You must download this file first.\n",
        "\n",
        "df = pd.read_csv(\"Pokemons.csv\")\n",
        "names, primary_types, secondary_types  = list(df[\"Names\"].values), list(df[\"primary_types\"].values), list(df[\"secondary_types\"].values)\n",
        "\n",
        "# Combine names and primary_types\n",
        "names_type1 = [*zip(names, primary_types)]\n",
        "\n",
        "print(*names_type1[:5], sep='\\n')\n",
        "print(\"\")\n",
        "\n",
        "# Combine all three lists together\n",
        "names_types = [*zip(names, primary_types, secondary_types)]\n",
        "\n",
        "print(*names_types[:5], sep='\\n')\n",
        "print(\"\")\n",
        "\n",
        "# Combine five items from names and three items from primary_types\n",
        "differing_lengths = [*zip(names[:5], primary_types[:3])]\n",
        "\n",
        "print(*differing_lengths, sep='\\n')\n",
        "\n",
        "# if you provide zip() with objects of differing lengths, \n",
        "# it will only combine until the smallest lengthed object is exhausted.\n"
      ],
      "execution_count": null,
      "outputs": [
        {
          "output_type": "stream",
          "text": [
            "('Abomasnow', 'Grass')\n",
            "('Abra', 'Psychic')\n",
            "('Absol', 'Dark')\n",
            "('Accelgor', 'Bug')\n",
            "('Aerodactyl', 'Rock')\n",
            "\n",
            "('Abomasnow', 'Grass', 'Ice')\n",
            "('Abra', 'Psychic', nan)\n",
            "('Absol', 'Dark', nan)\n",
            "('Accelgor', 'Bug', nan)\n",
            "('Aerodactyl', 'Rock', 'Flying')\n",
            "\n",
            "('Abomasnow', 'Grass')\n",
            "('Abra', 'Psychic')\n",
            "('Absol', 'Dark')\n"
          ],
          "name": "stdout"
        }
      ]
    },
    {
      "cell_type": "code",
      "metadata": {
        "colab": {
          "base_uri": "https://localhost:8080/"
        },
        "id": "Cb4YmV7PGC7A",
        "outputId": "93b6c382-c790-478f-c2f1-a12e15a91d49"
      },
      "source": [
        "import pandas as pd\n",
        "from collections import Counter\n",
        "\n",
        "# You must download this file first.\n",
        "\n",
        "df = pd.read_csv(\"Pokemons2.csv\")\n",
        "names, primary_types, generations  = list(df[\"names\"].values), list(df[\"primary_types\"].values), list(df[\"generations\"].values)\n",
        "\n",
        "# Collect the count of primary types\n",
        "type_count = Counter(primary_types)\n",
        "print(type_count, '\\n')\n",
        "\n",
        "# Collect the count of generations\n",
        "gen_count = Counter(generations)\n",
        "print(gen_count, '\\n')\n",
        "\n",
        "# Use list comprehension to get each Pokémon's starting letter\n",
        "starting_letters = [name[0] for name in names]\n",
        "\n",
        "# Collect the count of Pokémon for each starting_letter\n",
        "starting_letters_count = Counter(starting_letters)\n",
        "print(starting_letters_count)"
      ],
      "execution_count": null,
      "outputs": [
        {
          "output_type": "stream",
          "text": [
            "Counter({'Water': 66, 'Normal': 64, 'Bug': 51, 'Grass': 47, 'Psychic': 31, 'Rock': 29, 'Fire': 27, 'Electric': 25, 'Ground': 23, 'Fighting': 23, 'Poison': 22, 'Steel': 18, 'Ice': 16, 'Fairy': 16, 'Dragon': 16, 'Ghost': 13, 'Dark': 13}) \n",
            "\n",
            "Counter({5: 122, 3: 103, 1: 99, 4: 78, 2: 51, 6: 47}) \n",
            "\n",
            "Counter({'S': 83, 'C': 46, 'D': 33, 'M': 32, 'L': 29, 'G': 29, 'B': 28, 'P': 23, 'A': 22, 'K': 20, 'E': 19, 'W': 19, 'T': 19, 'F': 18, 'H': 15, 'R': 14, 'N': 13, 'V': 10, 'Z': 8, 'J': 7, 'I': 4, 'O': 3, 'Y': 3, 'U': 2, 'X': 1})\n"
          ],
          "name": "stdout"
        }
      ]
    },
    {
      "cell_type": "code",
      "metadata": {
        "colab": {
          "base_uri": "https://localhost:8080/"
        },
        "id": "rRrdLJMzGd-q",
        "outputId": "717486a6-f3d9-4fc5-dbcb-de6aa82d87ac"
      },
      "source": [
        "pokemon = ['Geodude', 'Cubone', 'Lickitung', 'Persian', 'Diglett']\n",
        "\n",
        "# Import combinations from itertools\n",
        "from itertools import combinations\n",
        "\n",
        "# Create a combination object with pairs of Pokémon\n",
        "combos_obj = combinations(pokemon, 2)\n",
        "print(type(combos_obj), '\\n')\n",
        "\n",
        "# Convert combos_obj to a list by unpacking\n",
        "combos_2 = [*combos_obj]\n",
        "print(combos_2, '\\n')\n",
        "\n",
        "# Collect all possible combinations of 4 Pokémon directly into a list\n",
        "combos_4 = [*combinations(pokemon, 4)]\n",
        "print(combos_4)\n"
      ],
      "execution_count": null,
      "outputs": [
        {
          "output_type": "stream",
          "text": [
            "<class 'itertools.combinations'> \n",
            "\n",
            "[('Geodude', 'Cubone'), ('Geodude', 'Lickitung'), ('Geodude', 'Persian'), ('Geodude', 'Diglett'), ('Cubone', 'Lickitung'), ('Cubone', 'Persian'), ('Cubone', 'Diglett'), ('Lickitung', 'Persian'), ('Lickitung', 'Diglett'), ('Persian', 'Diglett')] \n",
            "\n",
            "[('Geodude', 'Cubone', 'Lickitung', 'Persian'), ('Geodude', 'Cubone', 'Lickitung', 'Diglett'), ('Geodude', 'Cubone', 'Persian', 'Diglett'), ('Geodude', 'Lickitung', 'Persian', 'Diglett'), ('Cubone', 'Lickitung', 'Persian', 'Diglett')]\n"
          ],
          "name": "stdout"
        }
      ]
    },
    {
      "cell_type": "code",
      "metadata": {
        "colab": {
          "base_uri": "https://localhost:8080/"
        },
        "id": "NbegR3V7MHjc",
        "outputId": "41327451-5471-438d-8ee8-ceaf34adb3c1"
      },
      "source": [
        "ash_pokedex = ['Pikachu', 'Bulbasaur', 'Koffing', 'Spearow', 'Vulpix', 'Wigglytuff', 'Zubat', 'Rattata', 'Psyduck', 'Squirtle']\n",
        "misty_pokedex = ['Krabby', 'Horsea', 'Slowbro', 'Tentacool', 'Vaporeon', 'Magikarp', 'Poliwag', 'Starmie', 'Psyduck', 'Squirtle']\n",
        "\n",
        "# Convert both lists to sets\n",
        "ash_set = set(ash_pokedex)\n",
        "misty_set = set(misty_pokedex)\n",
        "\n",
        "# Find the Pokémon that exist in both sets\n",
        "both = ash_set.intersection(misty_pokedex)\n",
        "print(both)\n",
        "\n",
        "# Find the Pokémon that Ash has and Misty does not have\n",
        "ash_only = ash_set.difference(misty_pokedex)\n",
        "print(ash_only)\n",
        "\n",
        "# Find the Pokémon that are in only one set (not both)\n",
        "unique_to_set = ash_set.symmetric_difference(misty_pokedex)\n",
        "print(unique_to_set)\n",
        "\n"
      ],
      "execution_count": null,
      "outputs": [
        {
          "output_type": "stream",
          "text": [
            "{'Psyduck', 'Squirtle'}\n",
            "{'Spearow', 'Koffing', 'Bulbasaur', 'Zubat', 'Wigglytuff', 'Rattata', 'Pikachu', 'Vulpix'}\n",
            "{'Vaporeon', 'Spearow', 'Horsea', 'Magikarp', 'Krabby', 'Koffing', 'Tentacool', 'Poliwag', 'Bulbasaur', 'Zubat', 'Starmie', 'Slowbro', 'Wigglytuff', 'Rattata', 'Pikachu', 'Vulpix'}\n"
          ],
          "name": "stdout"
        }
      ]
    },
    {
      "cell_type": "code",
      "metadata": {
        "colab": {
          "base_uri": "https://localhost:8080/"
        },
        "id": "cv5flmYnlT2h",
        "outputId": "60a5c3d2-857e-4d22-d788-582a9703bdaa"
      },
      "source": [
        "import pandas as pd\n",
        "\n",
        "# You must download this file first.\n",
        "\n",
        "df = pd.read_csv(\"Pokemons3.csv\")\n",
        "poke_names, poke_gens  = list(df[\"poke_names\"].values), list(df[\"poke_gens\"].values)\n",
        "\n",
        "gen1_gen2_name_lengths_loop = []\n",
        "\n",
        "for name,gen in zip(poke_names, poke_gens):\n",
        "    if gen < 3:\n",
        "        name_length = len(name)\n",
        "        poke_tuple = (name, name_length)\n",
        "        gen1_gen2_name_lengths_loop.append(poke_tuple)\n",
        "\n",
        "# Eliminate the above for loop using list comprehension and the map() function\n",
        "\n",
        "# Collect Pokémon that belong to generation 1 or generation 2\n",
        "gen1_gen2_pokemon = [name for name,gen in zip(poke_names, poke_gens) if gen < 3]\n",
        "\n",
        "# Create a map object that stores the name lengths\n",
        "name_lengths_map = map(len, gen1_gen2_pokemon)\n",
        "\n",
        "# Combine gen1_gen2_pokemon and name_lengths_map into a list\n",
        "gen1_gen2_name_lengths = [*zip(gen1_gen2_pokemon, name_lengths_map)]\n",
        "\n",
        "# Replace the entire for loop with one list comprehension\n",
        "gen1_gen2_name_lengths_comprehensions = [(name, len(name)) for name,gen in zip(poke_names, poke_gens) if gen < 3]\n",
        "\n",
        "print(gen1_gen2_name_lengths_loop[:5])\n",
        "print(gen1_gen2_name_lengths[:5])\n",
        "print(gen1_gen2_name_lengths_comprehensions[:5])"
      ],
      "execution_count": null,
      "outputs": [
        {
          "output_type": "stream",
          "text": [
            "[('Abra', 4), ('Aerodactyl', 10), ('Aipom', 5), ('Alakazam', 8), ('Ampharos', 8)]\n",
            "[('Abra', 4), ('Aerodactyl', 10), ('Aipom', 5), ('Alakazam', 8), ('Ampharos', 8)]\n",
            "[('Abra', 4), ('Aerodactyl', 10), ('Aipom', 5), ('Alakazam', 8), ('Ampharos', 8)]\n"
          ],
          "name": "stdout"
        }
      ]
    },
    {
      "cell_type": "code",
      "metadata": {
        "colab": {
          "base_uri": "https://localhost:8080/"
        },
        "id": "BNJbOwW8rygG",
        "outputId": "2472b2f9-93c7-4439-e12b-3a3f6c2a5b14"
      },
      "source": [
        "import pandas as pd\n",
        "import numpy as np\n",
        "from time import time\n",
        "\n",
        "# You must download this  \"Pokemons4.csv\" file first.\n",
        "\n",
        "df = pd.read_csv(\"Pokemons4.csv\")\n",
        "names = df[\"names\"].values\n",
        "stats = df[[\"HP\", \"Attack\", \"Defense\", \"Special Attack\", \"Special Defense\", \"Speed\"]].values\n",
        "\n",
        "# The below for loop was written to collect these values:\n",
        "\n",
        "poke_list = []\n",
        "\n",
        "start = time()\n",
        "for pokemon,row in zip(names, stats):\n",
        "    total_stats = np.sum(row)\n",
        "    avg_stats = np.mean(row)\n",
        "    poke_list.append((pokemon, total_stats, avg_stats))\n",
        "print(time()-start)\n",
        "\n",
        "# Replace the above for loop using NumPy\n",
        "start = time()\n",
        "# Create a total stats array\n",
        "total_stats_np = stats.sum(axis=1)\n",
        "\n",
        "# Create an average stats array\n",
        "avg_stats_np = stats.mean(axis=1)\n",
        "\n",
        "# Combine names, total_stats_np, and avg_stats_np into a list\n",
        "poke_list_np = [*zip(names, total_stats_np, avg_stats_np)]\n",
        "print(time()-start, \"\\n\")\n",
        "print(poke_list_np == poke_list, '\\n')\n",
        "print(poke_list_np[:3])\n",
        "print(poke_list[:3], '\\n')\n",
        "top_3 = sorted(poke_list_np, key=lambda x: x[1], reverse=True)[:3]\n",
        "print('3 strongest Pokémon:\\n{}'.format(top_3))"
      ],
      "execution_count": null,
      "outputs": [
        {
          "output_type": "stream",
          "text": [
            "0.00977945327758789\n",
            "0.0013358592987060547 \n",
            "\n",
            "True \n",
            "\n",
            "[('Abomasnow', 494, 82.33333333333333), ('Abra', 310, 51.666666666666664), ('Absol', 465, 77.5)]\n",
            "[('Abomasnow', 494, 82.33333333333333), ('Abra', 310, 51.666666666666664), ('Absol', 465, 77.5)] \n",
            "\n",
            "3 strongest Pokémon:\n",
            "[('GroudonPrimal Groudon', 770, 128.33333333333334), ('KyogrePrimal Kyogre', 770, 128.33333333333334), ('Arceus', 720, 120.0)]\n"
          ],
          "name": "stdout"
        }
      ]
    },
    {
      "cell_type": "code",
      "metadata": {
        "colab": {
          "base_uri": "https://localhost:8080/"
        },
        "id": "0RO2n5z8KJGA",
        "outputId": "a17b8387-aedd-4127-cf4e-75009d846aee"
      },
      "source": [
        "import pandas as pd\n",
        "import numpy as np\n",
        "from time import time\n",
        "from collections import Counter\n",
        "\n",
        "# You must download this  \"Pokemons4.csv\" file first.\n",
        "\n",
        "df = pd.read_csv(\"Pokemons4.csv\")\n",
        "generations = df[\"generations\"]\n",
        "\n",
        "# Collect the count of each generation\n",
        "gen_counts = Counter(generations)\n",
        "\n",
        "# Gather the counts of each generation and determine what percentage each generation accounts for using loops\n",
        "for gen,count in gen_counts.items():\n",
        "    total_count = len(generations)\n",
        "    gen_percent = round(count / total_count * 100, 2)\n",
        "    print('generation {}: count = {:3} percentage = {}'.format(gen, count, gen_percent))\n",
        "\n",
        "# Improve for loop by moving one calculation above the loop\n",
        "total_count = len(generations)\n",
        "\n",
        "for gen,count in gen_counts.items():\n",
        "    gen_percent = round(count / total_count * 100, 2)\n",
        "    print('generation {}: count = {:3} percentage = {}'\n",
        "          .format(gen, count, gen_percent))"
      ],
      "execution_count": null,
      "outputs": [
        {
          "output_type": "stream",
          "text": [
            "generation 4: count = 112 percentage = 15.56\n",
            "generation 1: count = 151 percentage = 20.97\n",
            "generation 3: count = 136 percentage = 18.89\n",
            "generation 5: count = 154 percentage = 21.39\n",
            "generation 2: count =  99 percentage = 13.75\n",
            "generation 6: count =  68 percentage = 9.44\n",
            "generation 4: count = 112 percentage = 15.56\n",
            "generation 1: count = 151 percentage = 20.97\n",
            "generation 3: count = 136 percentage = 18.89\n",
            "generation 5: count = 154 percentage = 21.39\n",
            "generation 2: count =  99 percentage = 13.75\n",
            "generation 6: count =  68 percentage = 9.44\n"
          ],
          "name": "stdout"
        }
      ]
    },
    {
      "cell_type": "code",
      "metadata": {
        "colab": {
          "base_uri": "https://localhost:8080/"
        },
        "id": "LTiFfPSoKZYQ",
        "outputId": "9de5fb41-6255-4525-ae76-5fd7f7bb5a5e"
      },
      "source": [
        "pokemon_types = ['Bug', 'Dark', 'Dragon', 'Electric', 'Fairy', 'Fighting', 'Fire', 'Flying', 'Ghost', 'Grass', 'Ground', 'Ice', 'Normal', 'Poison', 'Psychic', 'Rock', 'Steel', 'Water']\n",
        "from itertools import combinations\n",
        "# Gather all the possible pairs of Pokémon types using loops\n",
        "enumerated_pairs = []\n",
        "\n",
        "# Collect all possible pairs using combinations()\n",
        "possible_pairs = [*combinations(pokemon_types, 2)]\n",
        "\n",
        "for i,pair in enumerate(possible_pairs, 1):\n",
        "    enumerated_pair_tuple = (i,) + pair\n",
        "    enumerated_pair_list = list(enumerated_pair_tuple)\n",
        "    enumerated_pairs.append(enumerated_pair_list)\n",
        "\n",
        "print(enumerated_pairs)\n",
        "\n",
        "# Create an empty list called enumerated_tuples\n",
        "enumerated_tuples = []\n",
        "\n",
        "# Append each enumerated_pair_tuple to the empty list above\n",
        "for i,pair in enumerate(possible_pairs, 1):\n",
        "    enumerated_pair_tuple = (i,) + pair\n",
        "    enumerated_tuples.append(enumerated_pair_tuple)\n",
        "\n",
        "print(enumerated_pairs)\n",
        "# Convert all tuples in enumerated_tuples to a list\n",
        "enumerated_pairs = [*map(list, enumerated_tuples)]\n",
        "print(enumerated_pairs)"
      ],
      "execution_count": null,
      "outputs": [
        {
          "output_type": "stream",
          "text": [
            "[[1, 'Bug', 'Dark'], [2, 'Bug', 'Dragon'], [3, 'Bug', 'Electric'], [4, 'Bug', 'Fairy'], [5, 'Bug', 'Fighting'], [6, 'Bug', 'Fire'], [7, 'Bug', 'Flying'], [8, 'Bug', 'Ghost'], [9, 'Bug', 'Grass'], [10, 'Bug', 'Ground'], [11, 'Bug', 'Ice'], [12, 'Bug', 'Normal'], [13, 'Bug', 'Poison'], [14, 'Bug', 'Psychic'], [15, 'Bug', 'Rock'], [16, 'Bug', 'Steel'], [17, 'Bug', 'Water'], [18, 'Dark', 'Dragon'], [19, 'Dark', 'Electric'], [20, 'Dark', 'Fairy'], [21, 'Dark', 'Fighting'], [22, 'Dark', 'Fire'], [23, 'Dark', 'Flying'], [24, 'Dark', 'Ghost'], [25, 'Dark', 'Grass'], [26, 'Dark', 'Ground'], [27, 'Dark', 'Ice'], [28, 'Dark', 'Normal'], [29, 'Dark', 'Poison'], [30, 'Dark', 'Psychic'], [31, 'Dark', 'Rock'], [32, 'Dark', 'Steel'], [33, 'Dark', 'Water'], [34, 'Dragon', 'Electric'], [35, 'Dragon', 'Fairy'], [36, 'Dragon', 'Fighting'], [37, 'Dragon', 'Fire'], [38, 'Dragon', 'Flying'], [39, 'Dragon', 'Ghost'], [40, 'Dragon', 'Grass'], [41, 'Dragon', 'Ground'], [42, 'Dragon', 'Ice'], [43, 'Dragon', 'Normal'], [44, 'Dragon', 'Poison'], [45, 'Dragon', 'Psychic'], [46, 'Dragon', 'Rock'], [47, 'Dragon', 'Steel'], [48, 'Dragon', 'Water'], [49, 'Electric', 'Fairy'], [50, 'Electric', 'Fighting'], [51, 'Electric', 'Fire'], [52, 'Electric', 'Flying'], [53, 'Electric', 'Ghost'], [54, 'Electric', 'Grass'], [55, 'Electric', 'Ground'], [56, 'Electric', 'Ice'], [57, 'Electric', 'Normal'], [58, 'Electric', 'Poison'], [59, 'Electric', 'Psychic'], [60, 'Electric', 'Rock'], [61, 'Electric', 'Steel'], [62, 'Electric', 'Water'], [63, 'Fairy', 'Fighting'], [64, 'Fairy', 'Fire'], [65, 'Fairy', 'Flying'], [66, 'Fairy', 'Ghost'], [67, 'Fairy', 'Grass'], [68, 'Fairy', 'Ground'], [69, 'Fairy', 'Ice'], [70, 'Fairy', 'Normal'], [71, 'Fairy', 'Poison'], [72, 'Fairy', 'Psychic'], [73, 'Fairy', 'Rock'], [74, 'Fairy', 'Steel'], [75, 'Fairy', 'Water'], [76, 'Fighting', 'Fire'], [77, 'Fighting', 'Flying'], [78, 'Fighting', 'Ghost'], [79, 'Fighting', 'Grass'], [80, 'Fighting', 'Ground'], [81, 'Fighting', 'Ice'], [82, 'Fighting', 'Normal'], [83, 'Fighting', 'Poison'], [84, 'Fighting', 'Psychic'], [85, 'Fighting', 'Rock'], [86, 'Fighting', 'Steel'], [87, 'Fighting', 'Water'], [88, 'Fire', 'Flying'], [89, 'Fire', 'Ghost'], [90, 'Fire', 'Grass'], [91, 'Fire', 'Ground'], [92, 'Fire', 'Ice'], [93, 'Fire', 'Normal'], [94, 'Fire', 'Poison'], [95, 'Fire', 'Psychic'], [96, 'Fire', 'Rock'], [97, 'Fire', 'Steel'], [98, 'Fire', 'Water'], [99, 'Flying', 'Ghost'], [100, 'Flying', 'Grass'], [101, 'Flying', 'Ground'], [102, 'Flying', 'Ice'], [103, 'Flying', 'Normal'], [104, 'Flying', 'Poison'], [105, 'Flying', 'Psychic'], [106, 'Flying', 'Rock'], [107, 'Flying', 'Steel'], [108, 'Flying', 'Water'], [109, 'Ghost', 'Grass'], [110, 'Ghost', 'Ground'], [111, 'Ghost', 'Ice'], [112, 'Ghost', 'Normal'], [113, 'Ghost', 'Poison'], [114, 'Ghost', 'Psychic'], [115, 'Ghost', 'Rock'], [116, 'Ghost', 'Steel'], [117, 'Ghost', 'Water'], [118, 'Grass', 'Ground'], [119, 'Grass', 'Ice'], [120, 'Grass', 'Normal'], [121, 'Grass', 'Poison'], [122, 'Grass', 'Psychic'], [123, 'Grass', 'Rock'], [124, 'Grass', 'Steel'], [125, 'Grass', 'Water'], [126, 'Ground', 'Ice'], [127, 'Ground', 'Normal'], [128, 'Ground', 'Poison'], [129, 'Ground', 'Psychic'], [130, 'Ground', 'Rock'], [131, 'Ground', 'Steel'], [132, 'Ground', 'Water'], [133, 'Ice', 'Normal'], [134, 'Ice', 'Poison'], [135, 'Ice', 'Psychic'], [136, 'Ice', 'Rock'], [137, 'Ice', 'Steel'], [138, 'Ice', 'Water'], [139, 'Normal', 'Poison'], [140, 'Normal', 'Psychic'], [141, 'Normal', 'Rock'], [142, 'Normal', 'Steel'], [143, 'Normal', 'Water'], [144, 'Poison', 'Psychic'], [145, 'Poison', 'Rock'], [146, 'Poison', 'Steel'], [147, 'Poison', 'Water'], [148, 'Psychic', 'Rock'], [149, 'Psychic', 'Steel'], [150, 'Psychic', 'Water'], [151, 'Rock', 'Steel'], [152, 'Rock', 'Water'], [153, 'Steel', 'Water']]\n",
            "[[1, 'Bug', 'Dark'], [2, 'Bug', 'Dragon'], [3, 'Bug', 'Electric'], [4, 'Bug', 'Fairy'], [5, 'Bug', 'Fighting'], [6, 'Bug', 'Fire'], [7, 'Bug', 'Flying'], [8, 'Bug', 'Ghost'], [9, 'Bug', 'Grass'], [10, 'Bug', 'Ground'], [11, 'Bug', 'Ice'], [12, 'Bug', 'Normal'], [13, 'Bug', 'Poison'], [14, 'Bug', 'Psychic'], [15, 'Bug', 'Rock'], [16, 'Bug', 'Steel'], [17, 'Bug', 'Water'], [18, 'Dark', 'Dragon'], [19, 'Dark', 'Electric'], [20, 'Dark', 'Fairy'], [21, 'Dark', 'Fighting'], [22, 'Dark', 'Fire'], [23, 'Dark', 'Flying'], [24, 'Dark', 'Ghost'], [25, 'Dark', 'Grass'], [26, 'Dark', 'Ground'], [27, 'Dark', 'Ice'], [28, 'Dark', 'Normal'], [29, 'Dark', 'Poison'], [30, 'Dark', 'Psychic'], [31, 'Dark', 'Rock'], [32, 'Dark', 'Steel'], [33, 'Dark', 'Water'], [34, 'Dragon', 'Electric'], [35, 'Dragon', 'Fairy'], [36, 'Dragon', 'Fighting'], [37, 'Dragon', 'Fire'], [38, 'Dragon', 'Flying'], [39, 'Dragon', 'Ghost'], [40, 'Dragon', 'Grass'], [41, 'Dragon', 'Ground'], [42, 'Dragon', 'Ice'], [43, 'Dragon', 'Normal'], [44, 'Dragon', 'Poison'], [45, 'Dragon', 'Psychic'], [46, 'Dragon', 'Rock'], [47, 'Dragon', 'Steel'], [48, 'Dragon', 'Water'], [49, 'Electric', 'Fairy'], [50, 'Electric', 'Fighting'], [51, 'Electric', 'Fire'], [52, 'Electric', 'Flying'], [53, 'Electric', 'Ghost'], [54, 'Electric', 'Grass'], [55, 'Electric', 'Ground'], [56, 'Electric', 'Ice'], [57, 'Electric', 'Normal'], [58, 'Electric', 'Poison'], [59, 'Electric', 'Psychic'], [60, 'Electric', 'Rock'], [61, 'Electric', 'Steel'], [62, 'Electric', 'Water'], [63, 'Fairy', 'Fighting'], [64, 'Fairy', 'Fire'], [65, 'Fairy', 'Flying'], [66, 'Fairy', 'Ghost'], [67, 'Fairy', 'Grass'], [68, 'Fairy', 'Ground'], [69, 'Fairy', 'Ice'], [70, 'Fairy', 'Normal'], [71, 'Fairy', 'Poison'], [72, 'Fairy', 'Psychic'], [73, 'Fairy', 'Rock'], [74, 'Fairy', 'Steel'], [75, 'Fairy', 'Water'], [76, 'Fighting', 'Fire'], [77, 'Fighting', 'Flying'], [78, 'Fighting', 'Ghost'], [79, 'Fighting', 'Grass'], [80, 'Fighting', 'Ground'], [81, 'Fighting', 'Ice'], [82, 'Fighting', 'Normal'], [83, 'Fighting', 'Poison'], [84, 'Fighting', 'Psychic'], [85, 'Fighting', 'Rock'], [86, 'Fighting', 'Steel'], [87, 'Fighting', 'Water'], [88, 'Fire', 'Flying'], [89, 'Fire', 'Ghost'], [90, 'Fire', 'Grass'], [91, 'Fire', 'Ground'], [92, 'Fire', 'Ice'], [93, 'Fire', 'Normal'], [94, 'Fire', 'Poison'], [95, 'Fire', 'Psychic'], [96, 'Fire', 'Rock'], [97, 'Fire', 'Steel'], [98, 'Fire', 'Water'], [99, 'Flying', 'Ghost'], [100, 'Flying', 'Grass'], [101, 'Flying', 'Ground'], [102, 'Flying', 'Ice'], [103, 'Flying', 'Normal'], [104, 'Flying', 'Poison'], [105, 'Flying', 'Psychic'], [106, 'Flying', 'Rock'], [107, 'Flying', 'Steel'], [108, 'Flying', 'Water'], [109, 'Ghost', 'Grass'], [110, 'Ghost', 'Ground'], [111, 'Ghost', 'Ice'], [112, 'Ghost', 'Normal'], [113, 'Ghost', 'Poison'], [114, 'Ghost', 'Psychic'], [115, 'Ghost', 'Rock'], [116, 'Ghost', 'Steel'], [117, 'Ghost', 'Water'], [118, 'Grass', 'Ground'], [119, 'Grass', 'Ice'], [120, 'Grass', 'Normal'], [121, 'Grass', 'Poison'], [122, 'Grass', 'Psychic'], [123, 'Grass', 'Rock'], [124, 'Grass', 'Steel'], [125, 'Grass', 'Water'], [126, 'Ground', 'Ice'], [127, 'Ground', 'Normal'], [128, 'Ground', 'Poison'], [129, 'Ground', 'Psychic'], [130, 'Ground', 'Rock'], [131, 'Ground', 'Steel'], [132, 'Ground', 'Water'], [133, 'Ice', 'Normal'], [134, 'Ice', 'Poison'], [135, 'Ice', 'Psychic'], [136, 'Ice', 'Rock'], [137, 'Ice', 'Steel'], [138, 'Ice', 'Water'], [139, 'Normal', 'Poison'], [140, 'Normal', 'Psychic'], [141, 'Normal', 'Rock'], [142, 'Normal', 'Steel'], [143, 'Normal', 'Water'], [144, 'Poison', 'Psychic'], [145, 'Poison', 'Rock'], [146, 'Poison', 'Steel'], [147, 'Poison', 'Water'], [148, 'Psychic', 'Rock'], [149, 'Psychic', 'Steel'], [150, 'Psychic', 'Water'], [151, 'Rock', 'Steel'], [152, 'Rock', 'Water'], [153, 'Steel', 'Water']]\n",
            "[[1, 'Bug', 'Dark'], [2, 'Bug', 'Dragon'], [3, 'Bug', 'Electric'], [4, 'Bug', 'Fairy'], [5, 'Bug', 'Fighting'], [6, 'Bug', 'Fire'], [7, 'Bug', 'Flying'], [8, 'Bug', 'Ghost'], [9, 'Bug', 'Grass'], [10, 'Bug', 'Ground'], [11, 'Bug', 'Ice'], [12, 'Bug', 'Normal'], [13, 'Bug', 'Poison'], [14, 'Bug', 'Psychic'], [15, 'Bug', 'Rock'], [16, 'Bug', 'Steel'], [17, 'Bug', 'Water'], [18, 'Dark', 'Dragon'], [19, 'Dark', 'Electric'], [20, 'Dark', 'Fairy'], [21, 'Dark', 'Fighting'], [22, 'Dark', 'Fire'], [23, 'Dark', 'Flying'], [24, 'Dark', 'Ghost'], [25, 'Dark', 'Grass'], [26, 'Dark', 'Ground'], [27, 'Dark', 'Ice'], [28, 'Dark', 'Normal'], [29, 'Dark', 'Poison'], [30, 'Dark', 'Psychic'], [31, 'Dark', 'Rock'], [32, 'Dark', 'Steel'], [33, 'Dark', 'Water'], [34, 'Dragon', 'Electric'], [35, 'Dragon', 'Fairy'], [36, 'Dragon', 'Fighting'], [37, 'Dragon', 'Fire'], [38, 'Dragon', 'Flying'], [39, 'Dragon', 'Ghost'], [40, 'Dragon', 'Grass'], [41, 'Dragon', 'Ground'], [42, 'Dragon', 'Ice'], [43, 'Dragon', 'Normal'], [44, 'Dragon', 'Poison'], [45, 'Dragon', 'Psychic'], [46, 'Dragon', 'Rock'], [47, 'Dragon', 'Steel'], [48, 'Dragon', 'Water'], [49, 'Electric', 'Fairy'], [50, 'Electric', 'Fighting'], [51, 'Electric', 'Fire'], [52, 'Electric', 'Flying'], [53, 'Electric', 'Ghost'], [54, 'Electric', 'Grass'], [55, 'Electric', 'Ground'], [56, 'Electric', 'Ice'], [57, 'Electric', 'Normal'], [58, 'Electric', 'Poison'], [59, 'Electric', 'Psychic'], [60, 'Electric', 'Rock'], [61, 'Electric', 'Steel'], [62, 'Electric', 'Water'], [63, 'Fairy', 'Fighting'], [64, 'Fairy', 'Fire'], [65, 'Fairy', 'Flying'], [66, 'Fairy', 'Ghost'], [67, 'Fairy', 'Grass'], [68, 'Fairy', 'Ground'], [69, 'Fairy', 'Ice'], [70, 'Fairy', 'Normal'], [71, 'Fairy', 'Poison'], [72, 'Fairy', 'Psychic'], [73, 'Fairy', 'Rock'], [74, 'Fairy', 'Steel'], [75, 'Fairy', 'Water'], [76, 'Fighting', 'Fire'], [77, 'Fighting', 'Flying'], [78, 'Fighting', 'Ghost'], [79, 'Fighting', 'Grass'], [80, 'Fighting', 'Ground'], [81, 'Fighting', 'Ice'], [82, 'Fighting', 'Normal'], [83, 'Fighting', 'Poison'], [84, 'Fighting', 'Psychic'], [85, 'Fighting', 'Rock'], [86, 'Fighting', 'Steel'], [87, 'Fighting', 'Water'], [88, 'Fire', 'Flying'], [89, 'Fire', 'Ghost'], [90, 'Fire', 'Grass'], [91, 'Fire', 'Ground'], [92, 'Fire', 'Ice'], [93, 'Fire', 'Normal'], [94, 'Fire', 'Poison'], [95, 'Fire', 'Psychic'], [96, 'Fire', 'Rock'], [97, 'Fire', 'Steel'], [98, 'Fire', 'Water'], [99, 'Flying', 'Ghost'], [100, 'Flying', 'Grass'], [101, 'Flying', 'Ground'], [102, 'Flying', 'Ice'], [103, 'Flying', 'Normal'], [104, 'Flying', 'Poison'], [105, 'Flying', 'Psychic'], [106, 'Flying', 'Rock'], [107, 'Flying', 'Steel'], [108, 'Flying', 'Water'], [109, 'Ghost', 'Grass'], [110, 'Ghost', 'Ground'], [111, 'Ghost', 'Ice'], [112, 'Ghost', 'Normal'], [113, 'Ghost', 'Poison'], [114, 'Ghost', 'Psychic'], [115, 'Ghost', 'Rock'], [116, 'Ghost', 'Steel'], [117, 'Ghost', 'Water'], [118, 'Grass', 'Ground'], [119, 'Grass', 'Ice'], [120, 'Grass', 'Normal'], [121, 'Grass', 'Poison'], [122, 'Grass', 'Psychic'], [123, 'Grass', 'Rock'], [124, 'Grass', 'Steel'], [125, 'Grass', 'Water'], [126, 'Ground', 'Ice'], [127, 'Ground', 'Normal'], [128, 'Ground', 'Poison'], [129, 'Ground', 'Psychic'], [130, 'Ground', 'Rock'], [131, 'Ground', 'Steel'], [132, 'Ground', 'Water'], [133, 'Ice', 'Normal'], [134, 'Ice', 'Poison'], [135, 'Ice', 'Psychic'], [136, 'Ice', 'Rock'], [137, 'Ice', 'Steel'], [138, 'Ice', 'Water'], [139, 'Normal', 'Poison'], [140, 'Normal', 'Psychic'], [141, 'Normal', 'Rock'], [142, 'Normal', 'Steel'], [143, 'Normal', 'Water'], [144, 'Poison', 'Psychic'], [145, 'Poison', 'Rock'], [146, 'Poison', 'Steel'], [147, 'Poison', 'Water'], [148, 'Psychic', 'Rock'], [149, 'Psychic', 'Steel'], [150, 'Psychic', 'Water'], [151, 'Rock', 'Steel'], [152, 'Rock', 'Water'], [153, 'Steel', 'Water']]\n"
          ],
          "name": "stdout"
        }
      ]
    },
    {
      "cell_type": "code",
      "metadata": {
        "colab": {
          "base_uri": "https://localhost:8080/"
        },
        "id": "see5BBAeLYH_",
        "outputId": "c86106ba-fc2f-43ef-d94d-9e7f7e3826a7"
      },
      "source": [
        "import pandas as pd\n",
        "import numpy as np\n",
        "\n",
        "# You must download this  \"Pokemons4.csv\" file first.\n",
        "df = pd.read_csv(\"Pokemons5.csv\")\n",
        "names, hps = df[\"names\"].values, df[\"hps\"].values\n",
        "\n",
        "# Calculate the HP z-score for each Pokémon and \n",
        "# gather the Pokémon with the highest HPs based on their z-scores using loops:\n",
        "\n",
        "poke_zscores = []\n",
        "\n",
        "for name,hp in zip(names, hps):\n",
        "    hp_avg = hps.mean()\n",
        "    hp_std = hps.std()\n",
        "    z_score = (hp - hp_avg)/hp_std\n",
        "    poke_zscores.append((name, hp, z_score))\n",
        "\n",
        "highest_hp_pokemon = []\n",
        "\n",
        "for name,hp,zscore in poke_zscores:\n",
        "    if zscore > 2:\n",
        "        highest_hp_pokemon.append((name, hp, zscore))\n",
        "\n",
        "# Calculate the total HP avg and total HP standard deviation\n",
        "hp_avg = hps.mean()\n",
        "hp_std = hps.std()\n",
        "\n",
        "# Use NumPy to eliminate the previous for loop\n",
        "z_scores = (hps - hp_avg)/hp_std\n",
        "\n",
        "# Combine names, hps, and z_scores\n",
        "poke_zscores2 = [*zip(names, hps, z_scores)]\n",
        "print(*poke_zscores2[:3], sep='\\n')\n",
        "\n",
        "# Use list comprehension with the same logic as the highest_hp_pokemon code block\n",
        "highest_hp_pokemon2 = [(name, hp, zscore) for name, hp, zscore in poke_zscores2 if zscore > 2]\n",
        "print(*highest_hp_pokemon2, sep='\\n')"
      ],
      "execution_count": null,
      "outputs": [
        {
          "output_type": "stream",
          "text": [
            "('Abomasnow', 80.0, 0.46797638117739043)\n",
            "('Abra', 60.0, -0.3271693284337512)\n",
            "('Absol', 131.0, 2.4955979406858013)\n",
            "('Absol', 131.0, 2.4955979406858013)\n",
            "('Bonsly', 127.0, 2.3365687987635733)\n",
            "('Caterpie', 122.0, 2.137782371360788)\n",
            "('Cofagrigus', 133.0, 2.575112511646916)\n",
            "('Cresselia', 126.0, 2.296811513283016)\n",
            "('Dewgong', 122.0, 2.137782371360788)\n",
            "('Druddigon', 126.0, 2.296811513283016)\n",
            "('Froakie', 123.0, 2.1775396568413448)\n",
            "('Kadabra', 135.0, 2.65462708260803)\n",
            "('Klang', 123.0, 2.1775396568413448)\n",
            "('Kricketune', 122.0, 2.137782371360788)\n",
            "('Lumineon', 129.0, 2.4160833697246873)\n",
            "('Magnemite', 137.0, 2.734141653569144)\n",
            "('Nidorina', 119.0, 2.0185105149191167)\n",
            "('Onix', 126.0, 2.296811513283016)\n",
            "('Prinplup', 124.0, 2.217296942321902)\n",
            "('Skuntank', 128.0, 2.3763260842441305)\n",
            "('Swellow', 125.0, 2.2570542278024592)\n"
          ],
          "name": "stdout"
        }
      ]
    },
    {
      "cell_type": "code",
      "metadata": {
        "colab": {
          "base_uri": "https://localhost:8080/"
        },
        "id": "nA-xj1Ns7q4u",
        "outputId": "1280d2b4-f300-4529-ac26-526af8f3c95e"
      },
      "source": [
        "import pandas as pd\n",
        "\n",
        "# เตรียมข้อมูลให้เหมือนโจทย์\n",
        "df = pd.read_csv(\"baseball_stats.csv\")\n",
        "df = df[df[\"Team\"]==\"PIT\"]\n",
        "df = df.reset_index()\n",
        "pit_df = df[[\"Team\", \"League\",  \"Year\",   \"RS\",   \"RA\",   \"W\",    \"G\",  \"Playoffs\"]]\n",
        "pit_df = pit_df[pit_df.index.values < 5]\n",
        "print(pit_df)\n",
        "\n",
        "# Iterate over pit_df and print each index variable and then each row\n",
        "for i,row in pit_df.iterrows():\n",
        "    print(i)\n",
        "    print(row)\n",
        "    print(type(row))\n",
        "\n",
        "# Print the row and type of each row\n",
        "for row_tuple in pit_df.iterrows():\n",
        "    print(row_tuple)\n",
        "    print(type(row_tuple))\n"
      ],
      "execution_count": null,
      "outputs": [
        {
          "output_type": "stream",
          "text": [
            "  Team League  Year   RS   RA   W    G  Playoffs\n",
            "0  PIT     NL  2012  651  674  79  162         0\n",
            "1  PIT     NL  2011  610  712  72  162         0\n",
            "2  PIT     NL  2010  587  866  57  162         0\n",
            "3  PIT     NL  2009  636  768  62  161         0\n",
            "4  PIT     NL  2008  735  884  67  162         0\n",
            "0\n",
            "Team         PIT\n",
            "League        NL\n",
            "Year        2012\n",
            "RS           651\n",
            "RA           674\n",
            "W             79\n",
            "G            162\n",
            "Playoffs       0\n",
            "Name: 0, dtype: object\n",
            "<class 'pandas.core.series.Series'>\n",
            "1\n",
            "Team         PIT\n",
            "League        NL\n",
            "Year        2011\n",
            "RS           610\n",
            "RA           712\n",
            "W             72\n",
            "G            162\n",
            "Playoffs       0\n",
            "Name: 1, dtype: object\n",
            "<class 'pandas.core.series.Series'>\n",
            "2\n",
            "Team         PIT\n",
            "League        NL\n",
            "Year        2010\n",
            "RS           587\n",
            "RA           866\n",
            "W             57\n",
            "G            162\n",
            "Playoffs       0\n",
            "Name: 2, dtype: object\n",
            "<class 'pandas.core.series.Series'>\n",
            "3\n",
            "Team         PIT\n",
            "League        NL\n",
            "Year        2009\n",
            "RS           636\n",
            "RA           768\n",
            "W             62\n",
            "G            161\n",
            "Playoffs       0\n",
            "Name: 3, dtype: object\n",
            "<class 'pandas.core.series.Series'>\n",
            "4\n",
            "Team         PIT\n",
            "League        NL\n",
            "Year        2008\n",
            "RS           735\n",
            "RA           884\n",
            "W             67\n",
            "G            162\n",
            "Playoffs       0\n",
            "Name: 4, dtype: object\n",
            "<class 'pandas.core.series.Series'>\n",
            "(0, Team         PIT\n",
            "League        NL\n",
            "Year        2012\n",
            "RS           651\n",
            "RA           674\n",
            "W             79\n",
            "G            162\n",
            "Playoffs       0\n",
            "Name: 0, dtype: object)\n",
            "<class 'tuple'>\n",
            "(1, Team         PIT\n",
            "League        NL\n",
            "Year        2011\n",
            "RS           610\n",
            "RA           712\n",
            "W             72\n",
            "G            162\n",
            "Playoffs       0\n",
            "Name: 1, dtype: object)\n",
            "<class 'tuple'>\n",
            "(2, Team         PIT\n",
            "League        NL\n",
            "Year        2010\n",
            "RS           587\n",
            "RA           866\n",
            "W             57\n",
            "G            162\n",
            "Playoffs       0\n",
            "Name: 2, dtype: object)\n",
            "<class 'tuple'>\n",
            "(3, Team         PIT\n",
            "League        NL\n",
            "Year        2009\n",
            "RS           636\n",
            "RA           768\n",
            "W             62\n",
            "G            161\n",
            "Playoffs       0\n",
            "Name: 3, dtype: object)\n",
            "<class 'tuple'>\n",
            "(4, Team         PIT\n",
            "League        NL\n",
            "Year        2008\n",
            "RS           735\n",
            "RA           884\n",
            "W             67\n",
            "G            162\n",
            "Playoffs       0\n",
            "Name: 4, dtype: object)\n",
            "<class 'tuple'>\n"
          ],
          "name": "stdout"
        }
      ]
    },
    {
      "cell_type": "code",
      "metadata": {
        "colab": {
          "base_uri": "https://localhost:8080/"
        },
        "id": "vQ8U0uKR-dV1",
        "outputId": "d6879168-d981-4552-b30a-5aa54a88d358"
      },
      "source": [
        "import pandas as pd\n",
        "\n",
        "# เตรียมข้อมูลให้เหมือนโจทย์\n",
        "df = pd.read_csv(\"baseball_stats.csv\")\n",
        "df = df[df[\"Team\"]==\"SFG\"]\n",
        "df = df.reset_index()\n",
        "giants_df = df[[\"Team\", \"League\",  \"Year\",   \"RS\",   \"RA\",   \"W\",    \"G\",  \"Playoffs\"]]\n",
        "giants_df = giants_df[giants_df.index.values < 5]\n",
        "print(giants_df, \"\\n\")\n",
        "\n",
        "def calc_run_diff(runs_scored, runs_allowed):\n",
        "    run_diff = runs_scored - runs_allowed\n",
        "    return run_diff\n",
        "\n",
        "# Create an empty list to store run differentials\n",
        "run_diffs = []\n",
        "\n",
        "# Write a for loop and collect runs allowed and runs scored for each row\n",
        "for i,row in giants_df.iterrows():\n",
        "    runs_scored = row[\"RS\"]\n",
        "    runs_allowed = row[\"RA\"]\n",
        "    \n",
        "    # Use the provided function to calculate run_diff for each row\n",
        "    run_diff = calc_run_diff(runs_scored, runs_allowed)\n",
        "    \n",
        "    # Append each run differential to the output list\n",
        "    run_diffs.append(run_diff)\n",
        "\n",
        "giants_df[\"RD\"] = run_diffs\n",
        "print(giants_df)"
      ],
      "execution_count": null,
      "outputs": [
        {
          "output_type": "stream",
          "text": [
            "  Team League  Year   RS   RA   W    G  Playoffs\n",
            "0  SFG     NL  2012  718  649  94  162         1\n",
            "1  SFG     NL  2011  570  578  86  162         0\n",
            "2  SFG     NL  2010  697  583  92  162         1\n",
            "3  SFG     NL  2009  657  611  88  162         0\n",
            "4  SFG     NL  2008  640  759  72  162         0 \n",
            "\n",
            "  Team League  Year   RS   RA   W    G  Playoffs   RD\n",
            "0  SFG     NL  2012  718  649  94  162         1   69\n",
            "1  SFG     NL  2011  570  578  86  162         0   -8\n",
            "2  SFG     NL  2010  697  583  92  162         1  114\n",
            "3  SFG     NL  2009  657  611  88  162         0   46\n",
            "4  SFG     NL  2008  640  759  72  162         0 -119\n"
          ],
          "name": "stdout"
        }
      ]
    },
    {
      "cell_type": "code",
      "metadata": {
        "colab": {
          "base_uri": "https://localhost:8080/"
        },
        "id": "ei0ZP4aRgzl2",
        "outputId": "c54ea054-11cd-4c91-8e76-670fb02d6e38"
      },
      "source": [
        "import pandas as pd\n",
        "\n",
        "# เตรียมข้อมูลให้เหมือนโจทย์\n",
        "df = pd.read_csv(\"baseball_stats.csv\")\n",
        "df = df[df[\"Team\"]==\"TEX\"]\n",
        "df = df.reset_index()\n",
        "rangers_df = df[[\"Team\", \"League\",  \"Year\",   \"RS\",   \"RA\",   \"W\",    \"G\",  \"Playoffs\"]]\n",
        "print(rangers_df, \"\\n\")\n",
        "\n",
        "# Loop over the DataFrame and print each row's Index, Year and Wins (W)\n",
        "for row in rangers_df.itertuples():\n",
        "    i = row.Index\n",
        "    year = row.Year\n",
        "    wins = row.W\n",
        "    \n",
        "    # Check if rangers made Playoffs (1 means yes; 0 means no)\n",
        "    if row.Playoffs == 1:\n",
        "        print(i, year, wins)"
      ],
      "execution_count": null,
      "outputs": [
        {
          "output_type": "stream",
          "text": [
            "   Team League  Year   RS   RA   W    G  Playoffs\n",
            "0   TEX     AL  2012  808  707  93  162         1\n",
            "1   TEX     AL  2011  855  677  96  162         1\n",
            "2   TEX     AL  2010  787  687  90  162         1\n",
            "3   TEX     AL  2009  784  740  87  162         0\n",
            "4   TEX     AL  2008  901  967  79  162         0\n",
            "5   TEX     AL  2007  816  844  75  162         0\n",
            "6   TEX     AL  2006  835  784  80  162         0\n",
            "7   TEX     AL  2005  865  858  79  162         0\n",
            "8   TEX     AL  2004  860  794  89  162         0\n",
            "9   TEX     AL  2003  826  969  71  162         0\n",
            "10  TEX     AL  2002  843  882  72  162         0\n",
            "11  TEX     AL  2001  890  968  73  162         0\n",
            "12  TEX     AL  2000  848  974  71  162         0\n",
            "13  TEX     AL  1999  945  859  95  162         1\n",
            "14  TEX     AL  1998  940  871  88  162         1\n",
            "15  TEX     AL  1997  807  823  77  162         0\n",
            "16  TEX     AL  1996  928  799  90  163         1\n",
            "17  TEX     AL  1993  835  751  86  162         0\n",
            "18  TEX     AL  1992  682  753  77  162         0\n",
            "19  TEX     AL  1991  829  814  85  162         0\n",
            "20  TEX     AL  1990  676  696  83  162         0\n",
            "21  TEX     AL  1989  695  714  83  162         0\n",
            "22  TEX     AL  1988  637  735  70  161         0\n",
            "23  TEX     AL  1987  823  849  75  162         0\n",
            "24  TEX     AL  1986  771  743  87  162         0\n",
            "25  TEX     AL  1985  617  785  62  161         0\n",
            "26  TEX     AL  1984  656  714  69  161         0\n",
            "27  TEX     AL  1983  639  609  77  163         0\n",
            "28  TEX     AL  1982  590  749  64  162         0\n",
            "29  TEX     AL  1980  756  752  76  163         0\n",
            "30  TEX     AL  1979  750  698  83  162         0\n",
            "31  TEX     AL  1978  692  632  87  162         0\n",
            "32  TEX     AL  1977  767  657  94  162         0\n",
            "33  TEX     AL  1976  616  652  76  162         0\n",
            "34  TEX     AL  1975  714  733  79  162         0\n",
            "35  TEX     AL  1974  690  698  83  161         0\n",
            "36  TEX     AL  1973  619  844  57  162         0 \n",
            "\n",
            "0 2012 93\n",
            "1 2011 96\n",
            "2 2010 90\n",
            "13 1999 95\n",
            "14 1998 88\n",
            "16 1996 90\n"
          ],
          "name": "stdout"
        }
      ]
    },
    {
      "cell_type": "code",
      "metadata": {
        "colab": {
          "base_uri": "https://localhost:8080/",
          "height": 1000
        },
        "id": "EkCSRGSMl4yN",
        "outputId": "405811ba-5a63-4a42-ab5b-223b64fe8ffa"
      },
      "source": [
        "import pandas as pd\n",
        "\n",
        "# เตรียมข้อมูลให้เหมือนโจทย์\n",
        "df = pd.read_csv(\"baseball_stats.csv\")\n",
        "df = df[df[\"Team\"]==\"NYY\"]\n",
        "df = df.reset_index()\n",
        "yankees_df = df[[\"Team\", \"League\",  \"Year\",   \"RS\",   \"RA\",   \"W\",    \"G\",  \"Playoffs\"]]\n",
        "print(yankees_df, \"\\n\")\n",
        "\n",
        "def calc_run_diff(runs_scored, runs_allowed):\n",
        "    run_diff = runs_scored - runs_allowed\n",
        "    return run_diff\n",
        "\n",
        "run_diffs = []\n",
        "\n",
        "# Loop over the DataFrame and calculate each row's run differential\n",
        "for row in yankees_df.itertuples():\n",
        "    \n",
        "    runs_scored = row.RS\n",
        "    runs_allowed = row.RA\n",
        "\n",
        "    run_diff = calc_run_diff(runs_scored, runs_allowed)\n",
        "    \n",
        "    run_diffs.append(run_diff)\n",
        "\n",
        "# Append new column\n",
        "yankees_df[\"RD\"] = run_diffs\n",
        "print(yankees_df,\"\\n\")\n",
        "\n",
        "# In what year within your DataFrame did the New York Yankees have the highest run differential?\n",
        "yankees_df = yankees_df[yankees_df[\"RD\"] == yankees_df[\"RD\"].max()]\n",
        "display(yankees_df)\n",
        "print(yankees_df[\"Year\"].values[0], \"\\n\")"
      ],
      "execution_count": null,
      "outputs": [
        {
          "output_type": "stream",
          "text": [
            "   Team League  Year   RS   RA    W    G  Playoffs\n",
            "0   NYY     AL  2012  804  668   95  162         1\n",
            "1   NYY     AL  2011  867  657   97  162         1\n",
            "2   NYY     AL  2010  859  693   95  162         1\n",
            "3   NYY     AL  2009  915  753  103  162         1\n",
            "4   NYY     AL  2008  789  727   89  162         0\n",
            "5   NYY     AL  2007  968  777   94  162         1\n",
            "6   NYY     AL  2006  930  767   97  162         1\n",
            "7   NYY     AL  2005  886  789   95  162         1\n",
            "8   NYY     AL  2004  897  808  101  162         1\n",
            "9   NYY     AL  2003  877  716  101  163         1\n",
            "10  NYY     AL  2002  897  697  103  161         1\n",
            "11  NYY     AL  2001  804  713   95  161         1\n",
            "12  NYY     AL  2000  871  814   87  161         1\n",
            "13  NYY     AL  1999  900  731   98  162         1\n",
            "14  NYY     AL  1998  965  656  114  162         1\n",
            "15  NYY     AL  1997  891  688   96  162         1\n",
            "16  NYY     AL  1996  871  787   92  162         1\n",
            "17  NYY     AL  1993  821  761   88  162         0\n",
            "18  NYY     AL  1992  733  746   76  162         0\n",
            "19  NYY     AL  1991  674  777   71  162         0\n",
            "20  NYY     AL  1990  603  749   67  162         0\n",
            "21  NYY     AL  1989  698  792   74  161         0\n",
            "22  NYY     AL  1988  772  748   85  161         0\n",
            "23  NYY     AL  1987  788  758   89  162         0\n",
            "24  NYY     AL  1986  797  738   90  162         0\n",
            "25  NYY     AL  1985  839  660   97  161         0\n",
            "26  NYY     AL  1984  758  679   87  162         0\n",
            "27  NYY     AL  1983  770  703   91  162         0\n",
            "28  NYY     AL  1982  709  716   79  162         0\n",
            "29  NYY     AL  1980  820  662  103  162         1\n",
            "30  NYY     AL  1979  734  672   89  160         0\n",
            "31  NYY     AL  1978  735  582  100  163         1\n",
            "32  NYY     AL  1977  831  651  100  162         1\n",
            "33  NYY     AL  1976  730  575   97  159         1\n",
            "34  NYY     AL  1975  681  588   83  160         0\n",
            "35  NYY     AL  1974  671  623   89  162         0\n",
            "36  NYY     AL  1973  641  610   80  162         0\n",
            "37  NYY     AL  1971  648  641   81  162         0\n",
            "38  NYY     AL  1970  680  612   93  163         0\n",
            "39  NYY     AL  1969  562  587   80  162         0\n",
            "40  NYY     AL  1968  536  531   83  164         0\n",
            "41  NYY     AL  1967  522  621   72  163         0\n",
            "42  NYY     AL  1966  611  612   70  160         0\n",
            "43  NYY     AL  1965  611  604   77  162         0\n",
            "44  NYY     AL  1964  730  577   99  164         1\n",
            "45  NYY     AL  1963  714  547  104  161         1\n",
            "46  NYY     AL  1962  817  680   96  162         1 \n",
            "\n",
            "   Team League  Year   RS   RA    W    G  Playoffs   RD\n",
            "0   NYY     AL  2012  804  668   95  162         1  136\n",
            "1   NYY     AL  2011  867  657   97  162         1  210\n",
            "2   NYY     AL  2010  859  693   95  162         1  166\n",
            "3   NYY     AL  2009  915  753  103  162         1  162\n",
            "4   NYY     AL  2008  789  727   89  162         0   62\n",
            "5   NYY     AL  2007  968  777   94  162         1  191\n",
            "6   NYY     AL  2006  930  767   97  162         1  163\n",
            "7   NYY     AL  2005  886  789   95  162         1   97\n",
            "8   NYY     AL  2004  897  808  101  162         1   89\n",
            "9   NYY     AL  2003  877  716  101  163         1  161\n",
            "10  NYY     AL  2002  897  697  103  161         1  200\n",
            "11  NYY     AL  2001  804  713   95  161         1   91\n",
            "12  NYY     AL  2000  871  814   87  161         1   57\n",
            "13  NYY     AL  1999  900  731   98  162         1  169\n",
            "14  NYY     AL  1998  965  656  114  162         1  309\n",
            "15  NYY     AL  1997  891  688   96  162         1  203\n",
            "16  NYY     AL  1996  871  787   92  162         1   84\n",
            "17  NYY     AL  1993  821  761   88  162         0   60\n",
            "18  NYY     AL  1992  733  746   76  162         0  -13\n",
            "19  NYY     AL  1991  674  777   71  162         0 -103\n",
            "20  NYY     AL  1990  603  749   67  162         0 -146\n",
            "21  NYY     AL  1989  698  792   74  161         0  -94\n",
            "22  NYY     AL  1988  772  748   85  161         0   24\n",
            "23  NYY     AL  1987  788  758   89  162         0   30\n",
            "24  NYY     AL  1986  797  738   90  162         0   59\n",
            "25  NYY     AL  1985  839  660   97  161         0  179\n",
            "26  NYY     AL  1984  758  679   87  162         0   79\n",
            "27  NYY     AL  1983  770  703   91  162         0   67\n",
            "28  NYY     AL  1982  709  716   79  162         0   -7\n",
            "29  NYY     AL  1980  820  662  103  162         1  158\n",
            "30  NYY     AL  1979  734  672   89  160         0   62\n",
            "31  NYY     AL  1978  735  582  100  163         1  153\n",
            "32  NYY     AL  1977  831  651  100  162         1  180\n",
            "33  NYY     AL  1976  730  575   97  159         1  155\n",
            "34  NYY     AL  1975  681  588   83  160         0   93\n",
            "35  NYY     AL  1974  671  623   89  162         0   48\n",
            "36  NYY     AL  1973  641  610   80  162         0   31\n",
            "37  NYY     AL  1971  648  641   81  162         0    7\n",
            "38  NYY     AL  1970  680  612   93  163         0   68\n",
            "39  NYY     AL  1969  562  587   80  162         0  -25\n",
            "40  NYY     AL  1968  536  531   83  164         0    5\n",
            "41  NYY     AL  1967  522  621   72  163         0  -99\n",
            "42  NYY     AL  1966  611  612   70  160         0   -1\n",
            "43  NYY     AL  1965  611  604   77  162         0    7\n",
            "44  NYY     AL  1964  730  577   99  164         1  153\n",
            "45  NYY     AL  1963  714  547  104  161         1  167\n",
            "46  NYY     AL  1962  817  680   96  162         1  137 \n",
            "\n"
          ],
          "name": "stdout"
        },
        {
          "output_type": "stream",
          "text": [
            "/usr/local/lib/python3.7/dist-packages/ipykernel_launcher.py:27: SettingWithCopyWarning: \n",
            "A value is trying to be set on a copy of a slice from a DataFrame.\n",
            "Try using .loc[row_indexer,col_indexer] = value instead\n",
            "\n",
            "See the caveats in the documentation: https://pandas.pydata.org/pandas-docs/stable/user_guide/indexing.html#returning-a-view-versus-a-copy\n"
          ],
          "name": "stderr"
        },
        {
          "output_type": "display_data",
          "data": {
            "text/html": [
              "<div>\n",
              "<style scoped>\n",
              "    .dataframe tbody tr th:only-of-type {\n",
              "        vertical-align: middle;\n",
              "    }\n",
              "\n",
              "    .dataframe tbody tr th {\n",
              "        vertical-align: top;\n",
              "    }\n",
              "\n",
              "    .dataframe thead th {\n",
              "        text-align: right;\n",
              "    }\n",
              "</style>\n",
              "<table border=\"1\" class=\"dataframe\">\n",
              "  <thead>\n",
              "    <tr style=\"text-align: right;\">\n",
              "      <th></th>\n",
              "      <th>Team</th>\n",
              "      <th>League</th>\n",
              "      <th>Year</th>\n",
              "      <th>RS</th>\n",
              "      <th>RA</th>\n",
              "      <th>W</th>\n",
              "      <th>G</th>\n",
              "      <th>Playoffs</th>\n",
              "      <th>RD</th>\n",
              "    </tr>\n",
              "  </thead>\n",
              "  <tbody>\n",
              "    <tr>\n",
              "      <th>14</th>\n",
              "      <td>NYY</td>\n",
              "      <td>AL</td>\n",
              "      <td>1998</td>\n",
              "      <td>965</td>\n",
              "      <td>656</td>\n",
              "      <td>114</td>\n",
              "      <td>162</td>\n",
              "      <td>1</td>\n",
              "      <td>309</td>\n",
              "    </tr>\n",
              "  </tbody>\n",
              "</table>\n",
              "</div>"
            ],
            "text/plain": [
              "   Team League  Year   RS   RA    W    G  Playoffs   RD\n",
              "14  NYY     AL  1998  965  656  114  162         1  309"
            ]
          },
          "metadata": {
            "tags": []
          }
        },
        {
          "output_type": "stream",
          "text": [
            "1998 \n",
            "\n"
          ],
          "name": "stdout"
        }
      ]
    },
    {
      "cell_type": "code",
      "metadata": {
        "colab": {
          "base_uri": "https://localhost:8080/"
        },
        "id": "B2gINl0Qn1Y2",
        "outputId": "ee8a666c-4a7a-4604-bade-62d2a7a75e54"
      },
      "source": [
        "import pandas as pd\n",
        "\n",
        "# เตรียมข้อมูลให้เหมือนโจทย์\n",
        "df = pd.read_csv(\"baseball_stats.csv\")\n",
        "rays_df = df[df[\"Team\"]==\"TBR\"][[\"Year\", \"RS\", \"RA\", \"W\", \"Playoffs\"]]\n",
        "rays_df = rays_df.set_index(\"Year\")\n",
        "\n",
        "# เขียนแบบนี้ เท่ห์กว่ามั้ย ?\n",
        "text_playoffs = lambda num_playoffs: \"Yes\" if num_playoffs == 1 else \"No\"\n",
        "        \n",
        "# Gather sum of all columns\n",
        "stat_totals = rays_df.apply(sum, axis=0)\n",
        "print(stat_totals)\n",
        "\n",
        "# Apply sum() to each row of rays_df, only looking at the 'RS' and 'RA' columns\n",
        "total_runs_scored = rays_df[[\"RS\", \"RA\"]].apply(sum, axis=1)\n",
        "print(total_runs_scored)\n",
        "\n",
        "# Convert numeric playoffs to text by applying text_playoffs()\n",
        "textual_playoffs = rays_df.apply(lambda row: text_playoffs(row[\"Playoffs\"]), axis=1)\n",
        "print(textual_playoffs)\n"
      ],
      "execution_count": 26,
      "outputs": [
        {
          "output_type": "stream",
          "text": [
            "RS          3783\n",
            "RA          3265\n",
            "W            458\n",
            "Playoffs       3\n",
            "dtype: int64\n",
            "Year\n",
            "2012    1274\n",
            "2011    1321\n",
            "2010    1451\n",
            "2009    1557\n",
            "2008    1445\n",
            "dtype: int64\n",
            "Year\n",
            "2012     No\n",
            "2011    Yes\n",
            "2010    Yes\n",
            "2009     No\n",
            "2008    Yes\n",
            "dtype: object\n"
          ],
          "name": "stdout"
        }
      ]
    },
    {
      "cell_type": "code",
      "metadata": {
        "colab": {
          "base_uri": "https://localhost:8080/"
        },
        "id": "AyI-gufWHhUT",
        "outputId": "e62ecae5-e8ce-4477-9703-3caadaffb395"
      },
      "source": [
        "import pandas as pd\n",
        "import numpy as np\n",
        "\n",
        "def calc_win_perc(wins, games_played):\n",
        "    win_perc = wins / games_played\n",
        "    return np.round(win_perc,2)\n",
        "\n",
        "# เตรียมข้อมูลให้เหมือนโจทย์\n",
        "df = pd.read_csv(\"baseball_stats.csv\")\n",
        "dbacks_df = df[df[\"Team\"]==\"ARI\"][[\"Team\", \"League\",  \"Year\", \"RS\", \"RA\", \"W\", \"G\",  \"Playoffs\"]].reset_index()\n",
        "dbacks_df = dbacks_df[[\"Team\", \"League\",  \"Year\", \"RS\", \"RA\", \"W\", \"G\",  \"Playoffs\"]]\n",
        "\n",
        "# Display the first five rows of the DataFrame\n",
        "print(dbacks_df.head())\n",
        "\n",
        "# Create a win percentage Series \n",
        "win_percs = dbacks_df.apply(lambda row: calc_win_perc(row['W'], row['G']), axis=1)\n",
        "print(win_percs, '\\n')\n",
        "\n",
        "# Append a new column to dbacks_df\n",
        "dbacks_df[\"WP\"] = win_percs\n",
        "print(dbacks_df, '\\n')\n",
        "\n",
        "# Display dbacks_df where WP is greater than 0.50\n",
        "print(dbacks_df[dbacks_df['WP'] >= 0.50])\n",
        "\n",
        "\n"
      ],
      "execution_count": 33,
      "outputs": [
        {
          "output_type": "stream",
          "text": [
            "  Team League  Year   RS   RA   W    G  Playoffs\n",
            "0  ARI     NL  2012  734  688  81  162         0\n",
            "1  ARI     NL  2011  731  662  94  162         1\n",
            "2  ARI     NL  2010  713  836  65  162         0\n",
            "3  ARI     NL  2009  720  782  70  162         0\n",
            "4  ARI     NL  2008  720  706  82  162         0\n",
            "0     0.50\n",
            "1     0.58\n",
            "2     0.40\n",
            "3     0.43\n",
            "4     0.51\n",
            "5     0.56\n",
            "6     0.47\n",
            "7     0.48\n",
            "8     0.31\n",
            "9     0.52\n",
            "10    0.60\n",
            "11    0.57\n",
            "12    0.52\n",
            "13    0.62\n",
            "14    0.40\n",
            "dtype: float64 \n",
            "\n",
            "   Team League  Year   RS   RA    W    G  Playoffs    WP\n",
            "0   ARI     NL  2012  734  688   81  162         0  0.50\n",
            "1   ARI     NL  2011  731  662   94  162         1  0.58\n",
            "2   ARI     NL  2010  713  836   65  162         0  0.40\n",
            "3   ARI     NL  2009  720  782   70  162         0  0.43\n",
            "4   ARI     NL  2008  720  706   82  162         0  0.51\n",
            "5   ARI     NL  2007  712  732   90  162         1  0.56\n",
            "6   ARI     NL  2006  773  788   76  162         0  0.47\n",
            "7   ARI     NL  2005  696  856   77  162         0  0.48\n",
            "8   ARI     NL  2004  615  899   51  162         0  0.31\n",
            "9   ARI     NL  2003  717  685   84  162         0  0.52\n",
            "10  ARI     NL  2002  819  674   98  162         1  0.60\n",
            "11  ARI     NL  2001  818  677   92  162         1  0.57\n",
            "12  ARI     NL  2000  792  754   85  162         0  0.52\n",
            "13  ARI     NL  1999  908  676  100  162         1  0.62\n",
            "14  ARI     NL  1998  665  812   65  162         0  0.40 \n",
            "\n",
            "   Team League  Year   RS   RA    W    G  Playoffs    WP\n",
            "0   ARI     NL  2012  734  688   81  162         0  0.50\n",
            "1   ARI     NL  2011  731  662   94  162         1  0.58\n",
            "4   ARI     NL  2008  720  706   82  162         0  0.51\n",
            "5   ARI     NL  2007  712  732   90  162         1  0.56\n",
            "9   ARI     NL  2003  717  685   84  162         0  0.52\n",
            "10  ARI     NL  2002  819  674   98  162         1  0.60\n",
            "11  ARI     NL  2001  818  677   92  162         1  0.57\n",
            "12  ARI     NL  2000  792  754   85  162         0  0.52\n",
            "13  ARI     NL  1999  908  676  100  162         1  0.62\n"
          ],
          "name": "stdout"
        }
      ]
    },
    {
      "cell_type": "code",
      "metadata": {
        "colab": {
          "base_uri": "https://localhost:8080/"
        },
        "id": "ghbsXv2IKISa",
        "outputId": "b95caaa0-95aa-4ba1-91db-dc622cbba4e5"
      },
      "source": [
        "import numpy as np\n",
        "import pandas as pd \n",
        "from collections import OrderedDict\n",
        "\n",
        "def calc_win_perc(wins, games_played):\n",
        "    win_perc = wins / games_played\n",
        "    return np.round(win_perc,2)\n",
        "\n",
        "# เตรียมข้อมูลให้เหมือนโจทย์\n",
        "df = pd.read_csv(\"baseball_stats.csv\")\n",
        "baseball_df = df[[\"Team\", \"League\",  \"Year\", \"RS\", \"RA\", \"W\", \"G\",  \"Playoffs\"]]\n",
        "\n",
        "# Use the W array and G array to calculate win percentages\n",
        "win_percs_np = calc_win_perc(baseball_df['W'].values, baseball_df['G'].values)\n",
        "\n",
        "# Append a new column to baseball_df that stores all win percentages\n",
        "baseball_df[\"WP\"] = win_percs_np\n",
        "\n",
        "print(baseball_df.head())\n",
        "\n",
        "baseball_dict = OrderedDict([('Team', 'Abbreviated team name'),\n",
        "             ('League', 'Specifies National League or American League'),\n",
        "             ('Year', \"Each season's year\"),\n",
        "             ('RS', 'Runs scored in a season'),\n",
        "             ('RA', 'Runs allowed in a season'),\n",
        "             ('W', 'Wins in a season'),\n",
        "             ('G', 'Games played in a season'),\n",
        "             ('Playoffs',\n",
        "              '`1` if a team made the playoffs; `0` if they did not'),\n",
        "             ('WP', 'True win percentage for a season')])\n",
        "\n",
        "def predict_win_perc(RS, RA):\n",
        "    prediction = RS ** 2 / (RS ** 2 + RA ** 2)\n",
        "    return np.round(prediction, 2)\n",
        "\n",
        "# Summary of all three methods: iterrows/itertuples, apply, numpy\n",
        "\n",
        "win_perc_preds_loop = []\n",
        "\n",
        "# Use a loop and .itertuples() to collect each row's predicted win percentage\n",
        "win_perc_preds_loop = []\n",
        "\n",
        "# Use a loop and .itertuples() to collect each row's predicted win percentage\n",
        "for row in baseball_df.itertuples():\n",
        "    runs_scored = row.RS\n",
        "    runs_allowed = row.RA\n",
        "    win_perc_pred = predict_win_perc(runs_scored, runs_allowed)\n",
        "    win_perc_preds_loop.append(win_perc_pred)\n",
        "\n",
        "# Apply predict_win_perc to each row of the DataFrame\n",
        "win_perc_preds_apply = baseball_df.apply(lambda row: predict_win_perc(row['RS'], row['RA']), axis=1)\n",
        "\n",
        "# Calculate the win percentage predictions using NumPy arrays\n",
        "win_perc_preds_np = predict_win_perc(baseball_df[\"RS\"].values, baseball_df[\"RA\"].values)\n",
        "baseball_df['WP_preds'] = win_perc_preds_np\n",
        "print(baseball_df.head())\n",
        "\n",
        "\n"
      ],
      "execution_count": 40,
      "outputs": [
        {
          "output_type": "stream",
          "text": [
            "  Team League  Year   RS   RA   W    G  Playoffs    WP\n",
            "0  ARI     NL  2012  734  688  81  162         0  0.50\n",
            "1  ATL     NL  2012  700  600  94  162         1  0.58\n",
            "2  BAL     AL  2012  712  705  93  162         1  0.57\n",
            "3  BOS     AL  2012  734  806  69  162         0  0.43\n",
            "4  CHC     NL  2012  613  759  61  162         0  0.38\n",
            "  Team League  Year   RS   RA   W    G  Playoffs    WP  WP_preds\n",
            "0  ARI     NL  2012  734  688  81  162         0  0.50      0.53\n",
            "1  ATL     NL  2012  700  600  94  162         1  0.58      0.58\n",
            "2  BAL     AL  2012  712  705  93  162         1  0.57      0.50\n",
            "3  BOS     AL  2012  734  806  69  162         0  0.43      0.45\n",
            "4  CHC     NL  2012  613  759  61  162         0  0.38      0.39\n"
          ],
          "name": "stdout"
        },
        {
          "output_type": "stream",
          "text": [
            "/usr/local/lib/python3.7/dist-packages/ipykernel_launcher.py:17: SettingWithCopyWarning: \n",
            "A value is trying to be set on a copy of a slice from a DataFrame.\n",
            "Try using .loc[row_indexer,col_indexer] = value instead\n",
            "\n",
            "See the caveats in the documentation: https://pandas.pydata.org/pandas-docs/stable/user_guide/indexing.html#returning-a-view-versus-a-copy\n",
            "/usr/local/lib/python3.7/dist-packages/ipykernel_launcher.py:55: SettingWithCopyWarning: \n",
            "A value is trying to be set on a copy of a slice from a DataFrame.\n",
            "Try using .loc[row_indexer,col_indexer] = value instead\n",
            "\n",
            "See the caveats in the documentation: https://pandas.pydata.org/pandas-docs/stable/user_guide/indexing.html#returning-a-view-versus-a-copy\n"
          ],
          "name": "stderr"
        }
      ]
    },
    {
      "cell_type": "code",
      "metadata": {
        "colab": {
          "base_uri": "https://localhost:8080/"
        },
        "id": "PTbyy_eDQawt",
        "outputId": "4001c138-739e-4971-ac54-9db18ad47ba6"
      },
      "source": [
        ""
      ],
      "execution_count": 37,
      "outputs": [
        {
          "output_type": "execute_result",
          "data": {
            "text/plain": [
              "1232"
            ]
          },
          "metadata": {
            "tags": []
          },
          "execution_count": 37
        }
      ]
    },
    {
      "cell_type": "code",
      "metadata": {
        "id": "tFawz9KeRfY8"
      },
      "source": [
        ""
      ],
      "execution_count": null,
      "outputs": []
    }
  ]
}